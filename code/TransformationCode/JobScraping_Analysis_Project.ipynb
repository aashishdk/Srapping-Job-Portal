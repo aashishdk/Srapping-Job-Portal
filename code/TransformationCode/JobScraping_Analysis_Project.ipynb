{
 "cells": [
  {
   "cell_type": "markdown",
   "metadata": {
    "application/vnd.databricks.v1+cell": {
     "cellMetadata": {
      "byteLimit": 2048000,
      "rowLimit": 10000
     },
     "inputWidgets": {},
     "nuid": "f2cea6eb-ac1d-42c5-9760-d6fbd80f000b",
     "showTitle": false,
     "tableResultSettingsMap": {},
     "title": ""
    }
   },
   "source": [
    "###  Installing necessary packages"
   ]
  },
  {
   "cell_type": "code",
   "execution_count": 0,
   "metadata": {
    "application/vnd.databricks.v1+cell": {
     "cellMetadata": {
      "byteLimit": 2048000,
      "rowLimit": 10000
     },
     "inputWidgets": {},
     "nuid": "ff0c8955-2259-4ac4-86d2-b0491c02eba2",
     "showTitle": false,
     "tableResultSettingsMap": {},
     "title": ""
    }
   },
   "outputs": [
    {
     "output_type": "stream",
     "name": "stdout",
     "output_type": "stream",
     "text": [
      "Python interpreter will be restarted.\nRequirement already satisfied: rapidfuzz in /local_disk0/.ephemeral_nfs/envs/pythonEnv-e716d63a-1de4-4c53-9fdd-49c52b79d31b/lib/python3.9/site-packages (3.13.0)\nPython interpreter will be restarted.\n"
     ]
    }
   ],
   "source": [
    "# Installing fuzzy matching package\n",
    "%pip install rapidfuzz"
   ]
  },
  {
   "cell_type": "code",
   "execution_count": 0,
   "metadata": {
    "application/vnd.databricks.v1+cell": {
     "cellMetadata": {
      "byteLimit": 2048000,
      "rowLimit": 10000
     },
     "inputWidgets": {},
     "nuid": "a0906818-4849-43af-bf82-4c8a48dfa0db",
     "showTitle": false,
     "tableResultSettingsMap": {},
     "title": ""
    }
   },
   "outputs": [
    {
     "output_type": "display_data",
     "data": {
      "application/vnd.databricks.v1+bamboolib_hint": "{\"pd.DataFrames\": [], \"version\": \"0.0.1\"}",
      "text/plain": []
     },
     "metadata": {},
     "output_type": "display_data"
    }
   ],
   "source": [
    "from pyspark.sql.functions import *\n",
    "from pyspark.sql import *\n",
    "import pandas as pd\n",
    "import seaborn as sns\n",
    "import matplotlib.pyplot as plt"
   ]
  },
  {
   "cell_type": "markdown",
   "metadata": {
    "application/vnd.databricks.v1+cell": {
     "cellMetadata": {
      "byteLimit": 2048000,
      "rowLimit": 10000
     },
     "inputWidgets": {},
     "nuid": "23c19cdd-b156-4f57-b77b-31ec023de234",
     "showTitle": false,
     "tableResultSettingsMap": {},
     "title": ""
    }
   },
   "source": [
    "### Reading data"
   ]
  },
  {
   "cell_type": "code",
   "execution_count": 0,
   "metadata": {
    "application/vnd.databricks.v1+cell": {
     "cellMetadata": {
      "byteLimit": 2048000,
      "rowLimit": 10000
     },
     "inputWidgets": {},
     "nuid": "d3fb1da9-b58f-452b-b127-9b7e2d00cdfc",
     "showTitle": false,
     "tableResultSettingsMap": {},
     "title": ""
    }
   },
   "outputs": [],
   "source": [
    "job_listenings_df = spark.read.format('csv')\\\n",
    "                                .option('header',True)\\\n",
    "                                .option('inferSchema',True)\\\n",
    "                                .option('multiLine',True)\\\n",
    "                                .load(\"dbfs:/FileStore/tables/combined_job_listenings.csv\")"
   ]
  },
  {
   "cell_type": "code",
   "execution_count": 0,
   "metadata": {
    "application/vnd.databricks.v1+cell": {
     "cellMetadata": {
      "byteLimit": 2048000,
      "rowLimit": 10000
     },
     "inputWidgets": {},
     "nuid": "d04b904f-670f-4c7e-83f4-9e7b5938be8a",
     "showTitle": false,
     "tableResultSettingsMap": {},
     "title": ""
    }
   },
   "outputs": [
    {
     "output_type": "display_data",
     "data": {
      "text/html": [
       "<style scoped>\n",
       "  .table-result-container {\n",
       "    max-height: 300px;\n",
       "    overflow: auto;\n",
       "  }\n",
       "  table, th, td {\n",
       "    border: 1px solid black;\n",
       "    border-collapse: collapse;\n",
       "  }\n",
       "  th, td {\n",
       "    padding: 5px;\n",
       "  }\n",
       "  th {\n",
       "    text-align: left;\n",
       "  }\n",
       "</style><div class='table-result-container'><table class='table-result'><thead style='background-color: white'><tr><th>Job Title</th><th>Company</th><th>Location</th><th>No. of Openings</th><th>Job Level</th><th>Salary</th><th>Experience</th><th>Job URL</th><th>Job Description</th></tr></thead><tbody><tr><td>कार्यालय सहायक</td><td>Contractor's Association of Kathmandu Valley</td><td>Location not found</td><td>Not found</td><td>Not found</td><td>Not found</td><td>Not found</td><td>https://merojob.com/-5245/</td><td>Not found</td></tr><tr><td>Academic Staff</td><td>Sparkle Kids Academy</td><td>Manbhawan, Lalitpur, Nepal</td><td>1</td><td>Mid level</td><td>Negotiable</td><td>Less Than or Equal To 1 year</td><td>https://www.vocalpanda.com/academic-staff-5657</td><td>Plan and conduct engaging learning activities for young children.\n",
       "Create a nurturing and supportive classroom environment.\n",
       "Develop lesson plans and teaching materials as per the curriculum.\n",
       "Assess students' progress and provide constructive feedback.\n",
       "Maintain discipline and ensure a safe learning space.\n",
       "Communicate effectively with parents and guardians regarding student development.\n",
       "Adapt teaching methods to meet individual student needs.\n",
       "Work collaboratively with other staff and follow school policies.\n",
       "Female candidate, age below 30 years.\n",
       "Bachelor’s or Master’s degree (Education-related field preferred).\n",
       "At least 1 year of experience in any school.\n",
       "Montessori training is highly preferred.\n",
       "Strong English proficiency with excellent communication skills.\n",
       "Ability to work well with children and understand their needs.\n",
       "Versatile, smart, and positive personality.\n",
       "Unmarried status preferred.</td></tr><tr><td>Account Assistant</td><td>Sagarmatha Engineering College</td><td>Sanepa, Lalitpur</td><td>[ 1 ]</td><td>Mid Level</td><td>Not Disclosed</td><td>More than or equal to 1 year</td><td>https://merojob.com/account-assistant-340/</td><td>Compile and analyze account related information to prepare monthly, quarterly and annual report/statement as per the college's requirement.Ensure and maintain accounting systems and records in compliance with accepted policies and be prepared for internal and external audit as and when required.Be updated and inform all concerned in the organization about the latest regulations and policies related to applicable Tax and VAT and maintain system accordingly.Coordinate with related government line agencies and regulatory bodies for the smooth operation of Account/Finance Department.Receive fee from students and maintain students' fee accounts and coordinate with parents/guardian of students to ensure timely collection of fee/due fee.Prepare and submit daily, weekly, monthly and yearly fee collection details/report with necessary feedback, suggestions and recommendations.Be responsible for obtaining employees' and organizations' tax clearance certificate as and when required.Work flexibly and efficiently, maintain the highest level of professionalism, be instrumental to promote and implement the policies of the College.Maintain a high level of confidentiality of information in your work at all times.Work pro-actively to forward the success and vision of the College.Attend meetings and maintain regular communication with the line manager by submitting regular report.In addition to the above duties, you are required to assist the administration in planning the academic and administrative developmental activities and implementation of the same effectively.</td></tr><tr><td>Account Assistant</td><td>Mokshya</td><td>Khumaltar, Lalitpur</td><td>[ 1 ]</td><td>Mid Level</td><td>Not Disclosed</td><td>More than 1 year</td><td>https://merojob.com/account-assistant-339/</td><td>Assist in maintaining accurate financial records and ensure all transactions are properly recorded.Prepare and process invoices, receipts, and payments.Reconcile bank statements, accounts payable, and accounts receivable.Assist in preparing monthly, quarterly, and annual financial reports.Help with budgeting and forecasting activities.Assist with payroll processing and ensure timely payment.Handle office documentation, filing, and organizing accounting records.</td></tr><tr><td>Account Officer</td><td>Lomus Digital</td><td>Gairidhara, Subarna Shamsher Marg</td><td>[ 1 ]</td><td>Senior Level</td><td>Not Disclosed</td><td>More than 3 years</td><td>https://merojob.com/account-officer-721/</td><td>Document financial transactions by analysing documents and raising vouchers along the knowledge of taxation systems.Preparation of vouchers and entry into the system while complying with government policy by studying existing and new legislation.Enforcing adherence to requirements and advising management on needed actions.Handle general account queries, check invoices for inaccuracies and budgeting, finance, planning, handling tax matters and annual budget preparation.Prepares special financial reports by collecting, analysing and summarising account information and trends.Contact clients about invoices that are past due while maintaining records of business costs, such as labour & material.Payable management and scheduling.</td></tr><tr><td>Account Officer</td><td>Classic Tech Pvt.Ltd</td><td>New Baneshwor, Kathmandu, Kathmandu District</td><td>3</td><td>Mid Level</td><td>Nrs. 25K-30K Monthly</td><td>3 + years</td><td>https://www.kumarijob.com/classictech-pvt-ltd/59456-account-officer</td><td>Document financial transactions by analyzing documents and raising vouchers along the knowledge of taxation systems.\n",
       "Preparation of Vouchers and entry into the system while complying with government policy by studying existing and new legislation.\n",
       "Enforcing adherence to requirements, and advising management on needed actions.\n",
       "Handle general account queries, check invoices for inaccuracies and budgeting, Finance Planning, Handling Tax matters, and annual budget preparation.\n",
       "Prepares special financial reports by collecting, analyzing, and summarizing account information and trends.\n",
       "Contact clients about invoices that are past due while maintaining records of business costs, such as labor & material.\n",
       "Payable Management and Scheduling.</td></tr><tr><td>Accountant</td><td>Beez Consulting</td><td>Boudha, Kathmandu</td><td>[ 2 ]</td><td>Mid Level</td><td>Not Disclosed</td><td>More than or equal to 2 years</td><td>https://merojob.com/accountant-3734/</td><td>Post daily credit card transactions from COGC into Petro-Data.Ensure accuracy in billing for QTF, COGC, and Clarksville Transportation Company.Update and verify Vendor EFT entries and Freight Invoices for QT Fuel, COGC, andClarksville Transportation in Petro-Data.Report any significant issues to Fuel team.</td></tr><tr><td>Accountant</td><td>RV Group</td><td>RV GROUP, Bhagwati Bahal, Naxal</td><td>[ 2 ]</td><td>Mid Level</td><td>Not Disclosed</td><td>More than or equal to 3 years</td><td>https://merojob.com/accountant-3733/</td><td>Documents\n",
       "financial transactions by entering account information.Recommends\n",
       "financial actions by analyzing accounting options.Summarizes\n",
       "current financial status by collecting information; preparing balance sheet,\n",
       "profit and loss statement, and other reports.Substantiates\n",
       "financial transactions by auditing documents.Maintains\n",
       "accounting controls by preparing and recommending policies and procedures.Guides accounting\n",
       "clerical staff by coordinating activities and answering questions.Reconciles\n",
       "financial discrepancies by collecting and analyzing account information.Secures financial\n",
       "information by completing database backups.Maintains\n",
       "financial security by following internal controls.Prepares payments\n",
       "by verifying documentation, and requesting disbursements.Answers\n",
       "accounting procedure questions by researching and interpreting accounting\n",
       "policy and regulations.Complies with\n",
       "federal, state, and local financial legal requirements by studying existing and\n",
       "new legislation, enforcing adherence to requirements, and advising management\n",
       "on needed actions.Prepares special\n",
       "financial reports by collecting, analyzing, and summarizing account information\n",
       "and trends.Maintains\n",
       "customer confidence and protects operations by keeping financial information\n",
       "confidential.</td></tr><tr><td>Accountant</td><td>Power Construction Corporation of China</td><td>Kathmandu + UT 1 Project, Mailung Rasuwa</td><td>[ 2 ]</td><td>Mid Level</td><td>Not Disclosed</td><td>More than or equal to 2 years</td><td>https://merojob.com/accountant-3732/</td><td>Manage day-to-day financial transactions and maintain accurate records.Prepare financial statements, reports, and budgets.Handle accounts payable and receivable processes.Reconcile bank statements and ensure all discrepancies are resolved.Assist in preparing tax returns and ensure compliance with tax regulations.Monitor company expenses and assist in cost management.Manage payroll and employee benefits calculations.Perform periodic audits of financial records to ensure accuracy.Collaborate with internal and external auditors.Provide financial insights to support strategic decision-making.</td></tr><tr><td>Accountant</td><td>N.K Technology</td><td>Kathmandu, Nepal</td><td>[ 1 ]</td><td>Mid Level</td><td>Not Disclosed</td><td>Less than or equal to 1 year</td><td>https://merojob.com/accountant-3731/</td><td>Handle day-to-day accounting transactions and maintain accurate financial records.Generate VAT bills and ensure proper documentation for taxation.Prepare and maintain ledger accounts, journal entries, and reconciliations.Manage accounts payable and receivable, ensuring timely payments and collections.Prepare financial statements, balance sheets, and profit & loss reports.File VAT, TDS, and tax returns as per government regulations.Ensure compliance with tax laws and financial regulations.Coordinate with auditors and assist in internal and external audits.Maintain cash flow records and monitor banking transactions.Work with accounting software (Tally, QuickBooks, or relevant ERP systems).</td></tr></tbody></table></div>"
      ]
     },
     "metadata": {
      "application/vnd.databricks.v1+output": {
       "addedWidgets": {},
       "aggData": [],
       "aggError": "",
       "aggOverflow": false,
       "aggSchema": [],
       "aggSeriesLimitReached": false,
       "aggType": "",
       "arguments": {},
       "columnCustomDisplayInfos": {},
       "data": [
        [
         "कार्यालय सहायक",
         "Contractor's Association of Kathmandu Valley",
         "Location not found",
         "Not found",
         "Not found",
         "Not found",
         "Not found",
         "https://merojob.com/-5245/",
         "Not found"
        ],
        [
         "Academic Staff",
         "Sparkle Kids Academy",
         "Manbhawan, Lalitpur, Nepal",
         "1",
         "Mid level",
         "Negotiable",
         "Less Than or Equal To 1 year",
         "https://www.vocalpanda.com/academic-staff-5657",
         "Plan and conduct engaging learning activities for young children.\nCreate a nurturing and supportive classroom environment.\nDevelop lesson plans and teaching materials as per the curriculum.\nAssess students' progress and provide constructive feedback.\nMaintain discipline and ensure a safe learning space.\nCommunicate effectively with parents and guardians regarding student development.\nAdapt teaching methods to meet individual student needs.\nWork collaboratively with other staff and follow school policies.\nFemale candidate, age below 30 years.\nBachelor’s or Master’s degree (Education-related field preferred).\nAt least 1 year of experience in any school.\nMontessori training is highly preferred.\nStrong English proficiency with excellent communication skills.\nAbility to work well with children and understand their needs.\nVersatile, smart, and positive personality.\nUnmarried status preferred."
        ],
        [
         "Account Assistant",
         "Sagarmatha Engineering College",
         "Sanepa, Lalitpur",
         "[ 1 ]",
         "Mid Level",
         "Not Disclosed",
         "More than or equal to 1 year",
         "https://merojob.com/account-assistant-340/",
         "Compile and analyze account related information to prepare monthly, quarterly and annual report/statement as per the college's requirement.Ensure and maintain accounting systems and records in compliance with accepted policies and be prepared for internal and external audit as and when required.Be updated and inform all concerned in the organization about the latest regulations and policies related to applicable Tax and VAT and maintain system accordingly.Coordinate with related government line agencies and regulatory bodies for the smooth operation of Account/Finance Department.Receive fee from students and maintain students' fee accounts and coordinate with parents/guardian of students to ensure timely collection of fee/due fee.Prepare and submit daily, weekly, monthly and yearly fee collection details/report with necessary feedback, suggestions and recommendations.Be responsible for obtaining employees' and organizations' tax clearance certificate as and when required.Work flexibly and efficiently, maintain the highest level of professionalism, be instrumental to promote and implement the policies of the College.Maintain a high level of confidentiality of information in your work at all times.Work pro-actively to forward the success and vision of the College.Attend meetings and maintain regular communication with the line manager by submitting regular report.In addition to the above duties, you are required to assist the administration in planning the academic and administrative developmental activities and implementation of the same effectively."
        ],
        [
         "Account Assistant",
         "Mokshya",
         "Khumaltar, Lalitpur",
         "[ 1 ]",
         "Mid Level",
         "Not Disclosed",
         "More than 1 year",
         "https://merojob.com/account-assistant-339/",
         "Assist in maintaining accurate financial records and ensure all transactions are properly recorded.Prepare and process invoices, receipts, and payments.Reconcile bank statements, accounts payable, and accounts receivable.Assist in preparing monthly, quarterly, and annual financial reports.Help with budgeting and forecasting activities.Assist with payroll processing and ensure timely payment.Handle office documentation, filing, and organizing accounting records."
        ],
        [
         "Account Officer",
         "Lomus Digital",
         "Gairidhara, Subarna Shamsher Marg",
         "[ 1 ]",
         "Senior Level",
         "Not Disclosed",
         "More than 3 years",
         "https://merojob.com/account-officer-721/",
         "Document financial transactions by analysing documents and raising vouchers along the knowledge of taxation systems.Preparation of vouchers and entry into the system while complying with government policy by studying existing and new legislation.Enforcing adherence to requirements and advising management on needed actions.Handle general account queries, check invoices for inaccuracies and budgeting, finance, planning, handling tax matters and annual budget preparation.Prepares special financial reports by collecting, analysing and summarising account information and trends.Contact clients about invoices that are past due while maintaining records of business costs, such as labour & material.Payable management and scheduling."
        ],
        [
         "Account Officer",
         "Classic Tech Pvt.Ltd",
         "New Baneshwor, Kathmandu, Kathmandu District",
         "3",
         "Mid Level",
         "Nrs. 25K-30K Monthly",
         "3 + years",
         "https://www.kumarijob.com/classictech-pvt-ltd/59456-account-officer",
         "Document financial transactions by analyzing documents and raising vouchers along the knowledge of taxation systems.\nPreparation of Vouchers and entry into the system while complying with government policy by studying existing and new legislation.\nEnforcing adherence to requirements, and advising management on needed actions.\nHandle general account queries, check invoices for inaccuracies and budgeting, Finance Planning, Handling Tax matters, and annual budget preparation.\nPrepares special financial reports by collecting, analyzing, and summarizing account information and trends.\nContact clients about invoices that are past due while maintaining records of business costs, such as labor & material.\nPayable Management and Scheduling."
        ],
        [
         "Accountant",
         "Beez Consulting",
         "Boudha, Kathmandu",
         "[ 2 ]",
         "Mid Level",
         "Not Disclosed",
         "More than or equal to 2 years",
         "https://merojob.com/accountant-3734/",
         "Post daily credit card transactions from COGC into Petro-Data.Ensure accuracy in billing for QTF, COGC, and Clarksville Transportation Company.Update and verify Vendor EFT entries and Freight Invoices for QT Fuel, COGC, andClarksville Transportation in Petro-Data.Report any significant issues to Fuel team."
        ],
        [
         "Accountant",
         "RV Group",
         "RV GROUP, Bhagwati Bahal, Naxal",
         "[ 2 ]",
         "Mid Level",
         "Not Disclosed",
         "More than or equal to 3 years",
         "https://merojob.com/accountant-3733/",
         "Documents\nfinancial transactions by entering account information.Recommends\nfinancial actions by analyzing accounting options.Summarizes\ncurrent financial status by collecting information; preparing balance sheet,\nprofit and loss statement, and other reports.Substantiates\nfinancial transactions by auditing documents.Maintains\naccounting controls by preparing and recommending policies and procedures.Guides accounting\nclerical staff by coordinating activities and answering questions.Reconciles\nfinancial discrepancies by collecting and analyzing account information.Secures financial\ninformation by completing database backups.Maintains\nfinancial security by following internal controls.Prepares payments\nby verifying documentation, and requesting disbursements.Answers\naccounting procedure questions by researching and interpreting accounting\npolicy and regulations.Complies with\nfederal, state, and local financial legal requirements by studying existing and\nnew legislation, enforcing adherence to requirements, and advising management\non needed actions.Prepares special\nfinancial reports by collecting, analyzing, and summarizing account information\nand trends.Maintains\ncustomer confidence and protects operations by keeping financial information\nconfidential."
        ],
        [
         "Accountant",
         "Power Construction Corporation of China",
         "Kathmandu + UT 1 Project, Mailung Rasuwa",
         "[ 2 ]",
         "Mid Level",
         "Not Disclosed",
         "More than or equal to 2 years",
         "https://merojob.com/accountant-3732/",
         "Manage day-to-day financial transactions and maintain accurate records.Prepare financial statements, reports, and budgets.Handle accounts payable and receivable processes.Reconcile bank statements and ensure all discrepancies are resolved.Assist in preparing tax returns and ensure compliance with tax regulations.Monitor company expenses and assist in cost management.Manage payroll and employee benefits calculations.Perform periodic audits of financial records to ensure accuracy.Collaborate with internal and external auditors.Provide financial insights to support strategic decision-making."
        ],
        [
         "Accountant",
         "N.K Technology",
         "Kathmandu, Nepal",
         "[ 1 ]",
         "Mid Level",
         "Not Disclosed",
         "Less than or equal to 1 year",
         "https://merojob.com/accountant-3731/",
         "Handle day-to-day accounting transactions and maintain accurate financial records.Generate VAT bills and ensure proper documentation for taxation.Prepare and maintain ledger accounts, journal entries, and reconciliations.Manage accounts payable and receivable, ensuring timely payments and collections.Prepare financial statements, balance sheets, and profit & loss reports.File VAT, TDS, and tax returns as per government regulations.Ensure compliance with tax laws and financial regulations.Coordinate with auditors and assist in internal and external audits.Maintain cash flow records and monitor banking transactions.Work with accounting software (Tally, QuickBooks, or relevant ERP systems)."
        ]
       ],
       "datasetInfos": [],
       "dbfsResultPath": null,
       "isJsonSchema": true,
       "metadata": {},
       "overflow": false,
       "plotOptions": {
        "customPlotOptions": {},
        "displayType": "table",
        "pivotAggregation": null,
        "pivotColumns": null,
        "xColumns": null,
        "yColumns": null
       },
       "removedWidgets": [],
       "schema": [
        {
         "metadata": "{}",
         "name": "Job Title",
         "type": "\"string\""
        },
        {
         "metadata": "{}",
         "name": "Company",
         "type": "\"string\""
        },
        {
         "metadata": "{}",
         "name": "Location",
         "type": "\"string\""
        },
        {
         "metadata": "{}",
         "name": "No. of Openings",
         "type": "\"string\""
        },
        {
         "metadata": "{}",
         "name": "Job Level",
         "type": "\"string\""
        },
        {
         "metadata": "{}",
         "name": "Salary",
         "type": "\"string\""
        },
        {
         "metadata": "{}",
         "name": "Experience",
         "type": "\"string\""
        },
        {
         "metadata": "{}",
         "name": "Job URL",
         "type": "\"string\""
        },
        {
         "metadata": "{}",
         "name": "Job Description",
         "type": "\"string\""
        }
       ],
       "type": "table"
      }
     },
     "output_type": "display_data"
    }
   ],
   "source": [
    "display(job_listenings_df.limit(10))"
   ]
  },
  {
   "cell_type": "markdown",
   "metadata": {
    "application/vnd.databricks.v1+cell": {
     "cellMetadata": {
      "byteLimit": 2048000,
      "rowLimit": 10000
     },
     "inputWidgets": {},
     "nuid": "f407ac00-6184-4f83-8677-4fc6bc476048",
     "showTitle": false,
     "tableResultSettingsMap": {},
     "title": ""
    }
   },
   "source": [
    "### Transformation"
   ]
  },
  {
   "cell_type": "code",
   "execution_count": 0,
   "metadata": {
    "application/vnd.databricks.v1+cell": {
     "cellMetadata": {
      "byteLimit": 2048000,
      "rowLimit": 10000
     },
     "inputWidgets": {},
     "nuid": "13fbf836-6055-454d-9d9a-cf331f572370",
     "showTitle": false,
     "tableResultSettingsMap": {},
     "title": ""
    }
   },
   "outputs": [],
   "source": [
    "job_listenings_df = job_listenings_df.withColumnRenamed('No. of Openings','No of Openings')"
   ]
  },
  {
   "cell_type": "code",
   "execution_count": 0,
   "metadata": {
    "application/vnd.databricks.v1+cell": {
     "cellMetadata": {
      "byteLimit": 2048000,
      "rowLimit": 10000
     },
     "inputWidgets": {},
     "nuid": "a3077527-1ced-42e0-bba6-84bcb8184b16",
     "showTitle": false,
     "tableResultSettingsMap": {},
     "title": ""
    }
   },
   "outputs": [
    {
     "output_type": "stream",
     "name": "stdout",
     "output_type": "stream",
     "text": [
      "734"
     ]
    }
   ],
   "source": [
    "display(job_listenings_df.count())"
   ]
  },
  {
   "cell_type": "code",
   "execution_count": 0,
   "metadata": {
    "application/vnd.databricks.v1+cell": {
     "cellMetadata": {
      "byteLimit": 2048000,
      "rowLimit": 10000
     },
     "inputWidgets": {},
     "nuid": "8dfc4d73-72ec-4429-86ee-4fcc297df4ad",
     "showTitle": false,
     "tableResultSettingsMap": {},
     "title": ""
    }
   },
   "outputs": [],
   "source": [
    "job_listenings_df = job_listenings_df.dropDuplicates()"
   ]
  },
  {
   "cell_type": "code",
   "execution_count": 0,
   "metadata": {
    "application/vnd.databricks.v1+cell": {
     "cellMetadata": {
      "byteLimit": 2048000,
      "rowLimit": 10000
     },
     "inputWidgets": {},
     "nuid": "53fbcb89-dc2d-4cf2-99b7-9395733cc829",
     "showTitle": false,
     "tableResultSettingsMap": {},
     "title": ""
    }
   },
   "outputs": [
    {
     "output_type": "stream",
     "name": "stdout",
     "output_type": "stream",
     "text": [
      "528"
     ]
    }
   ],
   "source": [
    "display(job_listenings_df.count())"
   ]
  },
  {
   "cell_type": "code",
   "execution_count": 0,
   "metadata": {
    "application/vnd.databricks.v1+cell": {
     "cellMetadata": {
      "byteLimit": 2048000,
      "rowLimit": 10000
     },
     "inputWidgets": {},
     "nuid": "146b4126-4982-4c3e-8282-e1f9fdd01530",
     "showTitle": false,
     "tableResultSettingsMap": {},
     "title": ""
    }
   },
   "outputs": [
    {
     "output_type": "display_data",
     "data": {
      "text/html": [
       "<style scoped>\n",
       "  .table-result-container {\n",
       "    max-height: 300px;\n",
       "    overflow: auto;\n",
       "  }\n",
       "  table, th, td {\n",
       "    border: 1px solid black;\n",
       "    border-collapse: collapse;\n",
       "  }\n",
       "  th, td {\n",
       "    padding: 5px;\n",
       "  }\n",
       "  th {\n",
       "    text-align: left;\n",
       "  }\n",
       "</style><div class='table-result-container'><table class='table-result'><thead style='background-color: white'><tr><th>Job Title</th><th>Company</th><th>Location</th><th>No of Openings</th><th>Job Level</th><th>Salary</th><th>Experience</th><th>Job URL</th><th>Job Description</th></tr></thead><tbody><tr><td>0</td><td>0</td><td>0</td><td>0</td><td>0</td><td>0</td><td>0</td><td>0</td><td>0</td></tr></tbody></table></div>"
      ]
     },
     "metadata": {
      "application/vnd.databricks.v1+output": {
       "addedWidgets": {},
       "aggData": [],
       "aggError": "",
       "aggOverflow": false,
       "aggSchema": [],
       "aggSeriesLimitReached": false,
       "aggType": "",
       "arguments": {},
       "columnCustomDisplayInfos": {},
       "data": [
        [
         0,
         0,
         0,
         0,
         0,
         0,
         0,
         0,
         0
        ]
       ],
       "datasetInfos": [],
       "dbfsResultPath": null,
       "isJsonSchema": true,
       "metadata": {},
       "overflow": false,
       "plotOptions": {
        "customPlotOptions": {},
        "displayType": "table",
        "pivotAggregation": null,
        "pivotColumns": null,
        "xColumns": null,
        "yColumns": null
       },
       "removedWidgets": [],
       "schema": [
        {
         "metadata": "{}",
         "name": "Job Title",
         "type": "\"long\""
        },
        {
         "metadata": "{}",
         "name": "Company",
         "type": "\"long\""
        },
        {
         "metadata": "{}",
         "name": "Location",
         "type": "\"long\""
        },
        {
         "metadata": "{}",
         "name": "No of Openings",
         "type": "\"long\""
        },
        {
         "metadata": "{}",
         "name": "Job Level",
         "type": "\"long\""
        },
        {
         "metadata": "{}",
         "name": "Salary",
         "type": "\"long\""
        },
        {
         "metadata": "{}",
         "name": "Experience",
         "type": "\"long\""
        },
        {
         "metadata": "{}",
         "name": "Job URL",
         "type": "\"long\""
        },
        {
         "metadata": "{}",
         "name": "Job Description",
         "type": "\"long\""
        }
       ],
       "type": "table"
      }
     },
     "output_type": "display_data"
    }
   ],
   "source": [
    "#Checking Null values\n",
    "display(job_listenings_df.select([sum(col(c).isNull().cast('int')).alias(c) for c in job_listenings_df.columns]))"
   ]
  },
  {
   "cell_type": "code",
   "execution_count": 0,
   "metadata": {
    "application/vnd.databricks.v1+cell": {
     "cellMetadata": {
      "byteLimit": 2048000,
      "rowLimit": 10000
     },
     "inputWidgets": {},
     "nuid": "334a5a8b-50ff-40b6-8b86-9beeaf6d7de0",
     "showTitle": false,
     "tableResultSettingsMap": {},
     "title": ""
    }
   },
   "outputs": [
    {
     "output_type": "display_data",
     "data": {
      "text/html": [
       "<style scoped>\n",
       "  .table-result-container {\n",
       "    max-height: 300px;\n",
       "    overflow: auto;\n",
       "  }\n",
       "  table, th, td {\n",
       "    border: 1px solid black;\n",
       "    border-collapse: collapse;\n",
       "  }\n",
       "  th, td {\n",
       "    padding: 5px;\n",
       "  }\n",
       "  th {\n",
       "    text-align: left;\n",
       "  }\n",
       "</style><div class='table-result-container'><table class='table-result'><thead style='background-color: white'><tr><th>sum(CAST((Job Title = null) AS INT))</th><th>sum(CAST((Company = null) AS INT))</th><th>sum(CAST((Location = null) AS INT))</th><th>sum(CAST((No of Openings = null) AS INT))</th><th>sum(CAST((Job Level = null) AS INT))</th><th>sum(CAST((Salary = null) AS INT))</th><th>sum(CAST((Experience = null) AS INT))</th><th>sum(CAST((Job URL = null) AS INT))</th><th>sum(CAST((Job Description = null) AS INT))</th></tr></thead><tbody><tr><td>0</td><td>0</td><td>0</td><td>0</td><td>0</td><td>0</td><td>0</td><td>0</td><td>0</td></tr></tbody></table></div>"
      ]
     },
     "metadata": {
      "application/vnd.databricks.v1+output": {
       "addedWidgets": {},
       "aggData": [],
       "aggError": "",
       "aggOverflow": false,
       "aggSchema": [],
       "aggSeriesLimitReached": false,
       "aggType": "",
       "arguments": {},
       "columnCustomDisplayInfos": {},
       "data": [
        [
         0,
         0,
         0,
         0,
         0,
         0,
         0,
         0,
         0
        ]
       ],
       "datasetInfos": [],
       "dbfsResultPath": null,
       "isJsonSchema": true,
       "metadata": {},
       "overflow": false,
       "plotOptions": {
        "customPlotOptions": {},
        "displayType": "table",
        "pivotAggregation": null,
        "pivotColumns": null,
        "xColumns": null,
        "yColumns": null
       },
       "removedWidgets": [],
       "schema": [
        {
         "metadata": "{}",
         "name": "sum(CAST((Job Title = null) AS INT))",
         "type": "\"long\""
        },
        {
         "metadata": "{}",
         "name": "sum(CAST((Company = null) AS INT))",
         "type": "\"long\""
        },
        {
         "metadata": "{}",
         "name": "sum(CAST((Location = null) AS INT))",
         "type": "\"long\""
        },
        {
         "metadata": "{}",
         "name": "sum(CAST((No of Openings = null) AS INT))",
         "type": "\"long\""
        },
        {
         "metadata": "{}",
         "name": "sum(CAST((Job Level = null) AS INT))",
         "type": "\"long\""
        },
        {
         "metadata": "{}",
         "name": "sum(CAST((Salary = null) AS INT))",
         "type": "\"long\""
        },
        {
         "metadata": "{}",
         "name": "sum(CAST((Experience = null) AS INT))",
         "type": "\"long\""
        },
        {
         "metadata": "{}",
         "name": "sum(CAST((Job URL = null) AS INT))",
         "type": "\"long\""
        },
        {
         "metadata": "{}",
         "name": "sum(CAST((Job Description = null) AS INT))",
         "type": "\"long\""
        }
       ],
       "type": "table"
      }
     },
     "output_type": "display_data"
    }
   ],
   "source": [
    "#For Hardcoded null\n",
    "display(job_listenings_df.select([sum((col(c)=='null').cast('int')) for c in job_listenings_df.columns]))"
   ]
  },
  {
   "cell_type": "code",
   "execution_count": 0,
   "metadata": {
    "application/vnd.databricks.v1+cell": {
     "cellMetadata": {
      "byteLimit": 2048000,
      "rowLimit": 10000
     },
     "inputWidgets": {},
     "nuid": "ba231598-5d12-48c7-8816-8b4b2a936b90",
     "showTitle": false,
     "tableResultSettingsMap": {},
     "title": ""
    }
   },
   "outputs": [
    {
     "output_type": "display_data",
     "data": {
      "text/html": [
       "<style scoped>\n",
       "  .table-result-container {\n",
       "    max-height: 300px;\n",
       "    overflow: auto;\n",
       "  }\n",
       "  table, th, td {\n",
       "    border: 1px solid black;\n",
       "    border-collapse: collapse;\n",
       "  }\n",
       "  th, td {\n",
       "    padding: 5px;\n",
       "  }\n",
       "  th {\n",
       "    text-align: left;\n",
       "  }\n",
       "</style><div class='table-result-container'><table class='table-result'><thead style='background-color: white'><tr><th>Job Title</th><th>Company</th><th>Location</th><th>No of Openings</th><th>Job Level</th><th>Salary</th><th>Experience</th><th>Job URL</th><th>Job Description</th></tr></thead><tbody><tr><td>Academic Staff</td><td>Sparkle Kids Academy</td><td>Manbhawan, Lalitpur, Nepal</td><td>1</td><td>Mid level</td><td>Negotiable</td><td>Less Than or Equal To 1 year</td><td>https://www.vocalpanda.com/academic-staff-5657</td><td>Plan and conduct engaging learning activities for young children.\n",
       "Create a nurturing and supportive classroom environment.\n",
       "Develop lesson plans and teaching materials as per the curriculum.\n",
       "Assess students' progress and provide constructive feedback.\n",
       "Maintain discipline and ensure a safe learning space.\n",
       "Communicate effectively with parents and guardians regarding student development.\n",
       "Adapt teaching methods to meet individual student needs.\n",
       "Work collaboratively with other staff and follow school policies.\n",
       "Female candidate, age below 30 years.\n",
       "Bachelor’s or Master’s degree (Education-related field preferred).\n",
       "At least 1 year of experience in any school.\n",
       "Montessori training is highly preferred.\n",
       "Strong English proficiency with excellent communication skills.\n",
       "Ability to work well with children and understand their needs.\n",
       "Versatile, smart, and positive personality.\n",
       "Unmarried status preferred.</td></tr><tr><td>Account Assistant</td><td>Sagarmatha Engineering College</td><td>Sanepa, Lalitpur</td><td>[ 1 ]</td><td>Mid Level</td><td>Not Disclosed</td><td>More than or equal to 1 year</td><td>https://merojob.com/account-assistant-340/</td><td>Compile and analyze account related information to prepare monthly, quarterly and annual report/statement as per the college's requirement.Ensure and maintain accounting systems and records in compliance with accepted policies and be prepared for internal and external audit as and when required.Be updated and inform all concerned in the organization about the latest regulations and policies related to applicable Tax and VAT and maintain system accordingly.Coordinate with related government line agencies and regulatory bodies for the smooth operation of Account/Finance Department.Receive fee from students and maintain students' fee accounts and coordinate with parents/guardian of students to ensure timely collection of fee/due fee.Prepare and submit daily, weekly, monthly and yearly fee collection details/report with necessary feedback, suggestions and recommendations.Be responsible for obtaining employees' and organizations' tax clearance certificate as and when required.Work flexibly and efficiently, maintain the highest level of professionalism, be instrumental to promote and implement the policies of the College.Maintain a high level of confidentiality of information in your work at all times.Work pro-actively to forward the success and vision of the College.Attend meetings and maintain regular communication with the line manager by submitting regular report.In addition to the above duties, you are required to assist the administration in planning the academic and administrative developmental activities and implementation of the same effectively.</td></tr><tr><td>कार्यालय सहायक</td><td>Contractor's Association of Kathmandu Valley</td><td>Location not found</td><td>Not found</td><td>Not found</td><td>Not found</td><td>Not found</td><td>https://merojob.com/-5245/</td><td>Not found</td></tr><tr><td>Account Officer</td><td>Lomus Digital</td><td>Gairidhara, Subarna Shamsher Marg</td><td>[ 1 ]</td><td>Senior Level</td><td>Not Disclosed</td><td>More than 3 years</td><td>https://merojob.com/account-officer-721/</td><td>Document financial transactions by analysing documents and raising vouchers along the knowledge of taxation systems.Preparation of vouchers and entry into the system while complying with government policy by studying existing and new legislation.Enforcing adherence to requirements and advising management on needed actions.Handle general account queries, check invoices for inaccuracies and budgeting, finance, planning, handling tax matters and annual budget preparation.Prepares special financial reports by collecting, analysing and summarising account information and trends.Contact clients about invoices that are past due while maintaining records of business costs, such as labour & material.Payable management and scheduling.</td></tr><tr><td>Account Officer</td><td>Classic Tech Pvt.Ltd</td><td>New Baneshwor, Kathmandu, Kathmandu District</td><td>3</td><td>Mid Level</td><td>Nrs. 25K-30K Monthly</td><td>3 + years</td><td>https://www.kumarijob.com/classictech-pvt-ltd/59456-account-officer</td><td>Document financial transactions by analyzing documents and raising vouchers along the knowledge of taxation systems.\n",
       "Preparation of Vouchers and entry into the system while complying with government policy by studying existing and new legislation.\n",
       "Enforcing adherence to requirements, and advising management on needed actions.\n",
       "Handle general account queries, check invoices for inaccuracies and budgeting, Finance Planning, Handling Tax matters, and annual budget preparation.\n",
       "Prepares special financial reports by collecting, analyzing, and summarizing account information and trends.\n",
       "Contact clients about invoices that are past due while maintaining records of business costs, such as labor & material.\n",
       "Payable Management and Scheduling.</td></tr><tr><td>Accountant</td><td>Beez Consulting</td><td>Boudha, Kathmandu</td><td>[ 2 ]</td><td>Mid Level</td><td>Not Disclosed</td><td>More than or equal to 2 years</td><td>https://merojob.com/accountant-3734/</td><td>Post daily credit card transactions from COGC into Petro-Data.Ensure accuracy in billing for QTF, COGC, and Clarksville Transportation Company.Update and verify Vendor EFT entries and Freight Invoices for QT Fuel, COGC, andClarksville Transportation in Petro-Data.Report any significant issues to Fuel team.</td></tr><tr><td>Account Assistant</td><td>Mokshya</td><td>Khumaltar, Lalitpur</td><td>[ 1 ]</td><td>Mid Level</td><td>Not Disclosed</td><td>More than 1 year</td><td>https://merojob.com/account-assistant-339/</td><td>Assist in maintaining accurate financial records and ensure all transactions are properly recorded.Prepare and process invoices, receipts, and payments.Reconcile bank statements, accounts payable, and accounts receivable.Assist in preparing monthly, quarterly, and annual financial reports.Help with budgeting and forecasting activities.Assist with payroll processing and ensure timely payment.Handle office documentation, filing, and organizing accounting records.</td></tr><tr><td>Accountant</td><td>RV Group</td><td>RV GROUP, Bhagwati Bahal, Naxal</td><td>[ 2 ]</td><td>Mid Level</td><td>Not Disclosed</td><td>More than or equal to 3 years</td><td>https://merojob.com/accountant-3733/</td><td>Documents\n",
       "financial transactions by entering account information.Recommends\n",
       "financial actions by analyzing accounting options.Summarizes\n",
       "current financial status by collecting information; preparing balance sheet,\n",
       "profit and loss statement, and other reports.Substantiates\n",
       "financial transactions by auditing documents.Maintains\n",
       "accounting controls by preparing and recommending policies and procedures.Guides accounting\n",
       "clerical staff by coordinating activities and answering questions.Reconciles\n",
       "financial discrepancies by collecting and analyzing account information.Secures financial\n",
       "information by completing database backups.Maintains\n",
       "financial security by following internal controls.Prepares payments\n",
       "by verifying documentation, and requesting disbursements.Answers\n",
       "accounting procedure questions by researching and interpreting accounting\n",
       "policy and regulations.Complies with\n",
       "federal, state, and local financial legal requirements by studying existing and\n",
       "new legislation, enforcing adherence to requirements, and advising management\n",
       "on needed actions.Prepares special\n",
       "financial reports by collecting, analyzing, and summarizing account information\n",
       "and trends.Maintains\n",
       "customer confidence and protects operations by keeping financial information\n",
       "confidential.</td></tr><tr><td>Accountant</td><td>Power Construction Corporation of China</td><td>Kathmandu + UT 1 Project, Mailung Rasuwa</td><td>[ 2 ]</td><td>Mid Level</td><td>Not Disclosed</td><td>More than or equal to 2 years</td><td>https://merojob.com/accountant-3732/</td><td>Manage day-to-day financial transactions and maintain accurate records.Prepare financial statements, reports, and budgets.Handle accounts payable and receivable processes.Reconcile bank statements and ensure all discrepancies are resolved.Assist in preparing tax returns and ensure compliance with tax regulations.Monitor company expenses and assist in cost management.Manage payroll and employee benefits calculations.Perform periodic audits of financial records to ensure accuracy.Collaborate with internal and external auditors.Provide financial insights to support strategic decision-making.</td></tr><tr><td>Accountant</td><td>N.K Technology</td><td>Kathmandu, Nepal</td><td>[ 1 ]</td><td>Mid Level</td><td>Not Disclosed</td><td>Less than or equal to 1 year</td><td>https://merojob.com/accountant-3731/</td><td>Handle day-to-day accounting transactions and maintain accurate financial records.Generate VAT bills and ensure proper documentation for taxation.Prepare and maintain ledger accounts, journal entries, and reconciliations.Manage accounts payable and receivable, ensuring timely payments and collections.Prepare financial statements, balance sheets, and profit & loss reports.File VAT, TDS, and tax returns as per government regulations.Ensure compliance with tax laws and financial regulations.Coordinate with auditors and assist in internal and external audits.Maintain cash flow records and monitor banking transactions.Work with accounting software (Tally, QuickBooks, or relevant ERP systems).</td></tr></tbody></table></div>"
      ]
     },
     "metadata": {
      "application/vnd.databricks.v1+output": {
       "addedWidgets": {},
       "aggData": [],
       "aggError": "",
       "aggOverflow": false,
       "aggSchema": [],
       "aggSeriesLimitReached": false,
       "aggType": "",
       "arguments": {},
       "columnCustomDisplayInfos": {},
       "data": [
        [
         "Academic Staff",
         "Sparkle Kids Academy",
         "Manbhawan, Lalitpur, Nepal",
         "1",
         "Mid level",
         "Negotiable",
         "Less Than or Equal To 1 year",
         "https://www.vocalpanda.com/academic-staff-5657",
         "Plan and conduct engaging learning activities for young children.\nCreate a nurturing and supportive classroom environment.\nDevelop lesson plans and teaching materials as per the curriculum.\nAssess students' progress and provide constructive feedback.\nMaintain discipline and ensure a safe learning space.\nCommunicate effectively with parents and guardians regarding student development.\nAdapt teaching methods to meet individual student needs.\nWork collaboratively with other staff and follow school policies.\nFemale candidate, age below 30 years.\nBachelor’s or Master’s degree (Education-related field preferred).\nAt least 1 year of experience in any school.\nMontessori training is highly preferred.\nStrong English proficiency with excellent communication skills.\nAbility to work well with children and understand their needs.\nVersatile, smart, and positive personality.\nUnmarried status preferred."
        ],
        [
         "Account Assistant",
         "Sagarmatha Engineering College",
         "Sanepa, Lalitpur",
         "[ 1 ]",
         "Mid Level",
         "Not Disclosed",
         "More than or equal to 1 year",
         "https://merojob.com/account-assistant-340/",
         "Compile and analyze account related information to prepare monthly, quarterly and annual report/statement as per the college's requirement.Ensure and maintain accounting systems and records in compliance with accepted policies and be prepared for internal and external audit as and when required.Be updated and inform all concerned in the organization about the latest regulations and policies related to applicable Tax and VAT and maintain system accordingly.Coordinate with related government line agencies and regulatory bodies for the smooth operation of Account/Finance Department.Receive fee from students and maintain students' fee accounts and coordinate with parents/guardian of students to ensure timely collection of fee/due fee.Prepare and submit daily, weekly, monthly and yearly fee collection details/report with necessary feedback, suggestions and recommendations.Be responsible for obtaining employees' and organizations' tax clearance certificate as and when required.Work flexibly and efficiently, maintain the highest level of professionalism, be instrumental to promote and implement the policies of the College.Maintain a high level of confidentiality of information in your work at all times.Work pro-actively to forward the success and vision of the College.Attend meetings and maintain regular communication with the line manager by submitting regular report.In addition to the above duties, you are required to assist the administration in planning the academic and administrative developmental activities and implementation of the same effectively."
        ],
        [
         "कार्यालय सहायक",
         "Contractor's Association of Kathmandu Valley",
         "Location not found",
         "Not found",
         "Not found",
         "Not found",
         "Not found",
         "https://merojob.com/-5245/",
         "Not found"
        ],
        [
         "Account Officer",
         "Lomus Digital",
         "Gairidhara, Subarna Shamsher Marg",
         "[ 1 ]",
         "Senior Level",
         "Not Disclosed",
         "More than 3 years",
         "https://merojob.com/account-officer-721/",
         "Document financial transactions by analysing documents and raising vouchers along the knowledge of taxation systems.Preparation of vouchers and entry into the system while complying with government policy by studying existing and new legislation.Enforcing adherence to requirements and advising management on needed actions.Handle general account queries, check invoices for inaccuracies and budgeting, finance, planning, handling tax matters and annual budget preparation.Prepares special financial reports by collecting, analysing and summarising account information and trends.Contact clients about invoices that are past due while maintaining records of business costs, such as labour & material.Payable management and scheduling."
        ],
        [
         "Account Officer",
         "Classic Tech Pvt.Ltd",
         "New Baneshwor, Kathmandu, Kathmandu District",
         "3",
         "Mid Level",
         "Nrs. 25K-30K Monthly",
         "3 + years",
         "https://www.kumarijob.com/classictech-pvt-ltd/59456-account-officer",
         "Document financial transactions by analyzing documents and raising vouchers along the knowledge of taxation systems.\nPreparation of Vouchers and entry into the system while complying with government policy by studying existing and new legislation.\nEnforcing adherence to requirements, and advising management on needed actions.\nHandle general account queries, check invoices for inaccuracies and budgeting, Finance Planning, Handling Tax matters, and annual budget preparation.\nPrepares special financial reports by collecting, analyzing, and summarizing account information and trends.\nContact clients about invoices that are past due while maintaining records of business costs, such as labor & material.\nPayable Management and Scheduling."
        ],
        [
         "Accountant",
         "Beez Consulting",
         "Boudha, Kathmandu",
         "[ 2 ]",
         "Mid Level",
         "Not Disclosed",
         "More than or equal to 2 years",
         "https://merojob.com/accountant-3734/",
         "Post daily credit card transactions from COGC into Petro-Data.Ensure accuracy in billing for QTF, COGC, and Clarksville Transportation Company.Update and verify Vendor EFT entries and Freight Invoices for QT Fuel, COGC, andClarksville Transportation in Petro-Data.Report any significant issues to Fuel team."
        ],
        [
         "Account Assistant",
         "Mokshya",
         "Khumaltar, Lalitpur",
         "[ 1 ]",
         "Mid Level",
         "Not Disclosed",
         "More than 1 year",
         "https://merojob.com/account-assistant-339/",
         "Assist in maintaining accurate financial records and ensure all transactions are properly recorded.Prepare and process invoices, receipts, and payments.Reconcile bank statements, accounts payable, and accounts receivable.Assist in preparing monthly, quarterly, and annual financial reports.Help with budgeting and forecasting activities.Assist with payroll processing and ensure timely payment.Handle office documentation, filing, and organizing accounting records."
        ],
        [
         "Accountant",
         "RV Group",
         "RV GROUP, Bhagwati Bahal, Naxal",
         "[ 2 ]",
         "Mid Level",
         "Not Disclosed",
         "More than or equal to 3 years",
         "https://merojob.com/accountant-3733/",
         "Documents\nfinancial transactions by entering account information.Recommends\nfinancial actions by analyzing accounting options.Summarizes\ncurrent financial status by collecting information; preparing balance sheet,\nprofit and loss statement, and other reports.Substantiates\nfinancial transactions by auditing documents.Maintains\naccounting controls by preparing and recommending policies and procedures.Guides accounting\nclerical staff by coordinating activities and answering questions.Reconciles\nfinancial discrepancies by collecting and analyzing account information.Secures financial\ninformation by completing database backups.Maintains\nfinancial security by following internal controls.Prepares payments\nby verifying documentation, and requesting disbursements.Answers\naccounting procedure questions by researching and interpreting accounting\npolicy and regulations.Complies with\nfederal, state, and local financial legal requirements by studying existing and\nnew legislation, enforcing adherence to requirements, and advising management\non needed actions.Prepares special\nfinancial reports by collecting, analyzing, and summarizing account information\nand trends.Maintains\ncustomer confidence and protects operations by keeping financial information\nconfidential."
        ],
        [
         "Accountant",
         "Power Construction Corporation of China",
         "Kathmandu + UT 1 Project, Mailung Rasuwa",
         "[ 2 ]",
         "Mid Level",
         "Not Disclosed",
         "More than or equal to 2 years",
         "https://merojob.com/accountant-3732/",
         "Manage day-to-day financial transactions and maintain accurate records.Prepare financial statements, reports, and budgets.Handle accounts payable and receivable processes.Reconcile bank statements and ensure all discrepancies are resolved.Assist in preparing tax returns and ensure compliance with tax regulations.Monitor company expenses and assist in cost management.Manage payroll and employee benefits calculations.Perform periodic audits of financial records to ensure accuracy.Collaborate with internal and external auditors.Provide financial insights to support strategic decision-making."
        ],
        [
         "Accountant",
         "N.K Technology",
         "Kathmandu, Nepal",
         "[ 1 ]",
         "Mid Level",
         "Not Disclosed",
         "Less than or equal to 1 year",
         "https://merojob.com/accountant-3731/",
         "Handle day-to-day accounting transactions and maintain accurate financial records.Generate VAT bills and ensure proper documentation for taxation.Prepare and maintain ledger accounts, journal entries, and reconciliations.Manage accounts payable and receivable, ensuring timely payments and collections.Prepare financial statements, balance sheets, and profit & loss reports.File VAT, TDS, and tax returns as per government regulations.Ensure compliance with tax laws and financial regulations.Coordinate with auditors and assist in internal and external audits.Maintain cash flow records and monitor banking transactions.Work with accounting software (Tally, QuickBooks, or relevant ERP systems)."
        ]
       ],
       "datasetInfos": [],
       "dbfsResultPath": null,
       "isJsonSchema": true,
       "metadata": {},
       "overflow": false,
       "plotOptions": {
        "customPlotOptions": {},
        "displayType": "table",
        "pivotAggregation": null,
        "pivotColumns": null,
        "xColumns": null,
        "yColumns": null
       },
       "removedWidgets": [],
       "schema": [
        {
         "metadata": "{}",
         "name": "Job Title",
         "type": "\"string\""
        },
        {
         "metadata": "{}",
         "name": "Company",
         "type": "\"string\""
        },
        {
         "metadata": "{}",
         "name": "Location",
         "type": "\"string\""
        },
        {
         "metadata": "{}",
         "name": "No of Openings",
         "type": "\"string\""
        },
        {
         "metadata": "{}",
         "name": "Job Level",
         "type": "\"string\""
        },
        {
         "metadata": "{}",
         "name": "Salary",
         "type": "\"string\""
        },
        {
         "metadata": "{}",
         "name": "Experience",
         "type": "\"string\""
        },
        {
         "metadata": "{}",
         "name": "Job URL",
         "type": "\"string\""
        },
        {
         "metadata": "{}",
         "name": "Job Description",
         "type": "\"string\""
        }
       ],
       "type": "table"
      }
     },
     "output_type": "display_data"
    }
   ],
   "source": [
    "job_listenings_df = job_listenings_df.select([trim(col(c)).alias(c) for c in job_listenings_df.columns])\n",
    "display(job_listenings_df.limit(10))"
   ]
  },
  {
   "cell_type": "code",
   "execution_count": 0,
   "metadata": {
    "application/vnd.databricks.v1+cell": {
     "cellMetadata": {
      "byteLimit": 2048000,
      "rowLimit": 10000
     },
     "inputWidgets": {},
     "nuid": "cd059040-2430-407d-83fe-32bc138774bc",
     "showTitle": false,
     "tableResultSettingsMap": {},
     "title": ""
    }
   },
   "outputs": [
    {
     "output_type": "display_data",
     "data": {
      "text/html": [
       "<style scoped>\n",
       "  .table-result-container {\n",
       "    max-height: 300px;\n",
       "    overflow: auto;\n",
       "  }\n",
       "  table, th, td {\n",
       "    border: 1px solid black;\n",
       "    border-collapse: collapse;\n",
       "  }\n",
       "  th, td {\n",
       "    padding: 5px;\n",
       "  }\n",
       "  th {\n",
       "    text-align: left;\n",
       "  }\n",
       "</style><div class='table-result-container'><table class='table-result'><thead style='background-color: white'><tr><th>Job Title</th><th>Company</th><th>Location</th><th>No of Openings</th><th>Job Level</th><th>Salary</th><th>Experience</th><th>Job URL</th><th>Job Description</th></tr></thead><tbody><tr><td>Academic Staff</td><td>Sparkle Kids Academy</td><td>Manbhawan, Lalitpur, Nepal</td><td>1</td><td>Mid level</td><td>Negotiable</td><td>Less Than or Equal To 1 year</td><td>https://www.vocalpanda.com/academic-staff-5657</td><td>Plan and conduct engaging learning activities for young children.\n",
       "Create a nurturing and supportive classroom environment.\n",
       "Develop lesson plans and teaching materials as per the curriculum.\n",
       "Assess students' progress and provide constructive feedback.\n",
       "Maintain discipline and ensure a safe learning space.\n",
       "Communicate effectively with parents and guardians regarding student development.\n",
       "Adapt teaching methods to meet individual student needs.\n",
       "Work collaboratively with other staff and follow school policies.\n",
       "Female candidate, age below 30 years.\n",
       "Bachelor’s or Master’s degree (Education-related field preferred).\n",
       "At least 1 year of experience in any school.\n",
       "Montessori training is highly preferred.\n",
       "Strong English proficiency with excellent communication skills.\n",
       "Ability to work well with children and understand their needs.\n",
       "Versatile, smart, and positive personality.\n",
       "Unmarried status preferred.</td></tr><tr><td>Account Assistant</td><td>Sagarmatha Engineering College</td><td>Sanepa, Lalitpur</td><td>1</td><td>Mid Level</td><td>Not Disclosed</td><td>More than or equal to 1 year</td><td>https://merojob.com/account-assistant-340/</td><td>Compile and analyze account related information to prepare monthly, quarterly and annual report/statement as per the college's requirement.Ensure and maintain accounting systems and records in compliance with accepted policies and be prepared for internal and external audit as and when required.Be updated and inform all concerned in the organization about the latest regulations and policies related to applicable Tax and VAT and maintain system accordingly.Coordinate with related government line agencies and regulatory bodies for the smooth operation of Account/Finance Department.Receive fee from students and maintain students' fee accounts and coordinate with parents/guardian of students to ensure timely collection of fee/due fee.Prepare and submit daily, weekly, monthly and yearly fee collection details/report with necessary feedback, suggestions and recommendations.Be responsible for obtaining employees' and organizations' tax clearance certificate as and when required.Work flexibly and efficiently, maintain the highest level of professionalism, be instrumental to promote and implement the policies of the College.Maintain a high level of confidentiality of information in your work at all times.Work pro-actively to forward the success and vision of the College.Attend meetings and maintain regular communication with the line manager by submitting regular report.In addition to the above duties, you are required to assist the administration in planning the academic and administrative developmental activities and implementation of the same effectively.</td></tr><tr><td>कार्यालय सहायक</td><td>Contractor's Association of Kathmandu Valley</td><td>Location not found</td><td>Notfound</td><td>Not found</td><td>Not found</td><td>Not found</td><td>https://merojob.com/-5245/</td><td>Not found</td></tr><tr><td>Account Officer</td><td>Lomus Digital</td><td>Gairidhara, Subarna Shamsher Marg</td><td>1</td><td>Senior Level</td><td>Not Disclosed</td><td>More than 3 years</td><td>https://merojob.com/account-officer-721/</td><td>Document financial transactions by analysing documents and raising vouchers along the knowledge of taxation systems.Preparation of vouchers and entry into the system while complying with government policy by studying existing and new legislation.Enforcing adherence to requirements and advising management on needed actions.Handle general account queries, check invoices for inaccuracies and budgeting, finance, planning, handling tax matters and annual budget preparation.Prepares special financial reports by collecting, analysing and summarising account information and trends.Contact clients about invoices that are past due while maintaining records of business costs, such as labour & material.Payable management and scheduling.</td></tr><tr><td>Account Officer</td><td>Classic Tech Pvt.Ltd</td><td>New Baneshwor, Kathmandu, Kathmandu District</td><td>3</td><td>Mid Level</td><td>Nrs. 25K-30K Monthly</td><td>3 + years</td><td>https://www.kumarijob.com/classictech-pvt-ltd/59456-account-officer</td><td>Document financial transactions by analyzing documents and raising vouchers along the knowledge of taxation systems.\n",
       "Preparation of Vouchers and entry into the system while complying with government policy by studying existing and new legislation.\n",
       "Enforcing adherence to requirements, and advising management on needed actions.\n",
       "Handle general account queries, check invoices for inaccuracies and budgeting, Finance Planning, Handling Tax matters, and annual budget preparation.\n",
       "Prepares special financial reports by collecting, analyzing, and summarizing account information and trends.\n",
       "Contact clients about invoices that are past due while maintaining records of business costs, such as labor & material.\n",
       "Payable Management and Scheduling.</td></tr><tr><td>Accountant</td><td>Beez Consulting</td><td>Boudha, Kathmandu</td><td>2</td><td>Mid Level</td><td>Not Disclosed</td><td>More than or equal to 2 years</td><td>https://merojob.com/accountant-3734/</td><td>Post daily credit card transactions from COGC into Petro-Data.Ensure accuracy in billing for QTF, COGC, and Clarksville Transportation Company.Update and verify Vendor EFT entries and Freight Invoices for QT Fuel, COGC, andClarksville Transportation in Petro-Data.Report any significant issues to Fuel team.</td></tr><tr><td>Account Assistant</td><td>Mokshya</td><td>Khumaltar, Lalitpur</td><td>1</td><td>Mid Level</td><td>Not Disclosed</td><td>More than 1 year</td><td>https://merojob.com/account-assistant-339/</td><td>Assist in maintaining accurate financial records and ensure all transactions are properly recorded.Prepare and process invoices, receipts, and payments.Reconcile bank statements, accounts payable, and accounts receivable.Assist in preparing monthly, quarterly, and annual financial reports.Help with budgeting and forecasting activities.Assist with payroll processing and ensure timely payment.Handle office documentation, filing, and organizing accounting records.</td></tr><tr><td>Accountant</td><td>RV Group</td><td>RV GROUP, Bhagwati Bahal, Naxal</td><td>2</td><td>Mid Level</td><td>Not Disclosed</td><td>More than or equal to 3 years</td><td>https://merojob.com/accountant-3733/</td><td>Documents\n",
       "financial transactions by entering account information.Recommends\n",
       "financial actions by analyzing accounting options.Summarizes\n",
       "current financial status by collecting information; preparing balance sheet,\n",
       "profit and loss statement, and other reports.Substantiates\n",
       "financial transactions by auditing documents.Maintains\n",
       "accounting controls by preparing and recommending policies and procedures.Guides accounting\n",
       "clerical staff by coordinating activities and answering questions.Reconciles\n",
       "financial discrepancies by collecting and analyzing account information.Secures financial\n",
       "information by completing database backups.Maintains\n",
       "financial security by following internal controls.Prepares payments\n",
       "by verifying documentation, and requesting disbursements.Answers\n",
       "accounting procedure questions by researching and interpreting accounting\n",
       "policy and regulations.Complies with\n",
       "federal, state, and local financial legal requirements by studying existing and\n",
       "new legislation, enforcing adherence to requirements, and advising management\n",
       "on needed actions.Prepares special\n",
       "financial reports by collecting, analyzing, and summarizing account information\n",
       "and trends.Maintains\n",
       "customer confidence and protects operations by keeping financial information\n",
       "confidential.</td></tr><tr><td>Accountant</td><td>Power Construction Corporation of China</td><td>Kathmandu + UT 1 Project, Mailung Rasuwa</td><td>2</td><td>Mid Level</td><td>Not Disclosed</td><td>More than or equal to 2 years</td><td>https://merojob.com/accountant-3732/</td><td>Manage day-to-day financial transactions and maintain accurate records.Prepare financial statements, reports, and budgets.Handle accounts payable and receivable processes.Reconcile bank statements and ensure all discrepancies are resolved.Assist in preparing tax returns and ensure compliance with tax regulations.Monitor company expenses and assist in cost management.Manage payroll and employee benefits calculations.Perform periodic audits of financial records to ensure accuracy.Collaborate with internal and external auditors.Provide financial insights to support strategic decision-making.</td></tr><tr><td>Accountant</td><td>N.K Technology</td><td>Kathmandu, Nepal</td><td>1</td><td>Mid Level</td><td>Not Disclosed</td><td>Less than or equal to 1 year</td><td>https://merojob.com/accountant-3731/</td><td>Handle day-to-day accounting transactions and maintain accurate financial records.Generate VAT bills and ensure proper documentation for taxation.Prepare and maintain ledger accounts, journal entries, and reconciliations.Manage accounts payable and receivable, ensuring timely payments and collections.Prepare financial statements, balance sheets, and profit & loss reports.File VAT, TDS, and tax returns as per government regulations.Ensure compliance with tax laws and financial regulations.Coordinate with auditors and assist in internal and external audits.Maintain cash flow records and monitor banking transactions.Work with accounting software (Tally, QuickBooks, or relevant ERP systems).</td></tr></tbody></table></div>"
      ]
     },
     "metadata": {
      "application/vnd.databricks.v1+output": {
       "addedWidgets": {},
       "aggData": [],
       "aggError": "",
       "aggOverflow": false,
       "aggSchema": [],
       "aggSeriesLimitReached": false,
       "aggType": "",
       "arguments": {},
       "columnCustomDisplayInfos": {},
       "data": [
        [
         "Academic Staff",
         "Sparkle Kids Academy",
         "Manbhawan, Lalitpur, Nepal",
         "1",
         "Mid level",
         "Negotiable",
         "Less Than or Equal To 1 year",
         "https://www.vocalpanda.com/academic-staff-5657",
         "Plan and conduct engaging learning activities for young children.\nCreate a nurturing and supportive classroom environment.\nDevelop lesson plans and teaching materials as per the curriculum.\nAssess students' progress and provide constructive feedback.\nMaintain discipline and ensure a safe learning space.\nCommunicate effectively with parents and guardians regarding student development.\nAdapt teaching methods to meet individual student needs.\nWork collaboratively with other staff and follow school policies.\nFemale candidate, age below 30 years.\nBachelor’s or Master’s degree (Education-related field preferred).\nAt least 1 year of experience in any school.\nMontessori training is highly preferred.\nStrong English proficiency with excellent communication skills.\nAbility to work well with children and understand their needs.\nVersatile, smart, and positive personality.\nUnmarried status preferred."
        ],
        [
         "Account Assistant",
         "Sagarmatha Engineering College",
         "Sanepa, Lalitpur",
         "1",
         "Mid Level",
         "Not Disclosed",
         "More than or equal to 1 year",
         "https://merojob.com/account-assistant-340/",
         "Compile and analyze account related information to prepare monthly, quarterly and annual report/statement as per the college's requirement.Ensure and maintain accounting systems and records in compliance with accepted policies and be prepared for internal and external audit as and when required.Be updated and inform all concerned in the organization about the latest regulations and policies related to applicable Tax and VAT and maintain system accordingly.Coordinate with related government line agencies and regulatory bodies for the smooth operation of Account/Finance Department.Receive fee from students and maintain students' fee accounts and coordinate with parents/guardian of students to ensure timely collection of fee/due fee.Prepare and submit daily, weekly, monthly and yearly fee collection details/report with necessary feedback, suggestions and recommendations.Be responsible for obtaining employees' and organizations' tax clearance certificate as and when required.Work flexibly and efficiently, maintain the highest level of professionalism, be instrumental to promote and implement the policies of the College.Maintain a high level of confidentiality of information in your work at all times.Work pro-actively to forward the success and vision of the College.Attend meetings and maintain regular communication with the line manager by submitting regular report.In addition to the above duties, you are required to assist the administration in planning the academic and administrative developmental activities and implementation of the same effectively."
        ],
        [
         "कार्यालय सहायक",
         "Contractor's Association of Kathmandu Valley",
         "Location not found",
         "Notfound",
         "Not found",
         "Not found",
         "Not found",
         "https://merojob.com/-5245/",
         "Not found"
        ],
        [
         "Account Officer",
         "Lomus Digital",
         "Gairidhara, Subarna Shamsher Marg",
         "1",
         "Senior Level",
         "Not Disclosed",
         "More than 3 years",
         "https://merojob.com/account-officer-721/",
         "Document financial transactions by analysing documents and raising vouchers along the knowledge of taxation systems.Preparation of vouchers and entry into the system while complying with government policy by studying existing and new legislation.Enforcing adherence to requirements and advising management on needed actions.Handle general account queries, check invoices for inaccuracies and budgeting, finance, planning, handling tax matters and annual budget preparation.Prepares special financial reports by collecting, analysing and summarising account information and trends.Contact clients about invoices that are past due while maintaining records of business costs, such as labour & material.Payable management and scheduling."
        ],
        [
         "Account Officer",
         "Classic Tech Pvt.Ltd",
         "New Baneshwor, Kathmandu, Kathmandu District",
         "3",
         "Mid Level",
         "Nrs. 25K-30K Monthly",
         "3 + years",
         "https://www.kumarijob.com/classictech-pvt-ltd/59456-account-officer",
         "Document financial transactions by analyzing documents and raising vouchers along the knowledge of taxation systems.\nPreparation of Vouchers and entry into the system while complying with government policy by studying existing and new legislation.\nEnforcing adherence to requirements, and advising management on needed actions.\nHandle general account queries, check invoices for inaccuracies and budgeting, Finance Planning, Handling Tax matters, and annual budget preparation.\nPrepares special financial reports by collecting, analyzing, and summarizing account information and trends.\nContact clients about invoices that are past due while maintaining records of business costs, such as labor & material.\nPayable Management and Scheduling."
        ],
        [
         "Accountant",
         "Beez Consulting",
         "Boudha, Kathmandu",
         "2",
         "Mid Level",
         "Not Disclosed",
         "More than or equal to 2 years",
         "https://merojob.com/accountant-3734/",
         "Post daily credit card transactions from COGC into Petro-Data.Ensure accuracy in billing for QTF, COGC, and Clarksville Transportation Company.Update and verify Vendor EFT entries and Freight Invoices for QT Fuel, COGC, andClarksville Transportation in Petro-Data.Report any significant issues to Fuel team."
        ],
        [
         "Account Assistant",
         "Mokshya",
         "Khumaltar, Lalitpur",
         "1",
         "Mid Level",
         "Not Disclosed",
         "More than 1 year",
         "https://merojob.com/account-assistant-339/",
         "Assist in maintaining accurate financial records and ensure all transactions are properly recorded.Prepare and process invoices, receipts, and payments.Reconcile bank statements, accounts payable, and accounts receivable.Assist in preparing monthly, quarterly, and annual financial reports.Help with budgeting and forecasting activities.Assist with payroll processing and ensure timely payment.Handle office documentation, filing, and organizing accounting records."
        ],
        [
         "Accountant",
         "RV Group",
         "RV GROUP, Bhagwati Bahal, Naxal",
         "2",
         "Mid Level",
         "Not Disclosed",
         "More than or equal to 3 years",
         "https://merojob.com/accountant-3733/",
         "Documents\nfinancial transactions by entering account information.Recommends\nfinancial actions by analyzing accounting options.Summarizes\ncurrent financial status by collecting information; preparing balance sheet,\nprofit and loss statement, and other reports.Substantiates\nfinancial transactions by auditing documents.Maintains\naccounting controls by preparing and recommending policies and procedures.Guides accounting\nclerical staff by coordinating activities and answering questions.Reconciles\nfinancial discrepancies by collecting and analyzing account information.Secures financial\ninformation by completing database backups.Maintains\nfinancial security by following internal controls.Prepares payments\nby verifying documentation, and requesting disbursements.Answers\naccounting procedure questions by researching and interpreting accounting\npolicy and regulations.Complies with\nfederal, state, and local financial legal requirements by studying existing and\nnew legislation, enforcing adherence to requirements, and advising management\non needed actions.Prepares special\nfinancial reports by collecting, analyzing, and summarizing account information\nand trends.Maintains\ncustomer confidence and protects operations by keeping financial information\nconfidential."
        ],
        [
         "Accountant",
         "Power Construction Corporation of China",
         "Kathmandu + UT 1 Project, Mailung Rasuwa",
         "2",
         "Mid Level",
         "Not Disclosed",
         "More than or equal to 2 years",
         "https://merojob.com/accountant-3732/",
         "Manage day-to-day financial transactions and maintain accurate records.Prepare financial statements, reports, and budgets.Handle accounts payable and receivable processes.Reconcile bank statements and ensure all discrepancies are resolved.Assist in preparing tax returns and ensure compliance with tax regulations.Monitor company expenses and assist in cost management.Manage payroll and employee benefits calculations.Perform periodic audits of financial records to ensure accuracy.Collaborate with internal and external auditors.Provide financial insights to support strategic decision-making."
        ],
        [
         "Accountant",
         "N.K Technology",
         "Kathmandu, Nepal",
         "1",
         "Mid Level",
         "Not Disclosed",
         "Less than or equal to 1 year",
         "https://merojob.com/accountant-3731/",
         "Handle day-to-day accounting transactions and maintain accurate financial records.Generate VAT bills and ensure proper documentation for taxation.Prepare and maintain ledger accounts, journal entries, and reconciliations.Manage accounts payable and receivable, ensuring timely payments and collections.Prepare financial statements, balance sheets, and profit & loss reports.File VAT, TDS, and tax returns as per government regulations.Ensure compliance with tax laws and financial regulations.Coordinate with auditors and assist in internal and external audits.Maintain cash flow records and monitor banking transactions.Work with accounting software (Tally, QuickBooks, or relevant ERP systems)."
        ]
       ],
       "datasetInfos": [],
       "dbfsResultPath": null,
       "isJsonSchema": true,
       "metadata": {},
       "overflow": false,
       "plotOptions": {
        "customPlotOptions": {},
        "displayType": "table",
        "pivotAggregation": null,
        "pivotColumns": null,
        "xColumns": null,
        "yColumns": null
       },
       "removedWidgets": [],
       "schema": [
        {
         "metadata": "{}",
         "name": "Job Title",
         "type": "\"string\""
        },
        {
         "metadata": "{}",
         "name": "Company",
         "type": "\"string\""
        },
        {
         "metadata": "{}",
         "name": "Location",
         "type": "\"string\""
        },
        {
         "metadata": "{}",
         "name": "No of Openings",
         "type": "\"string\""
        },
        {
         "metadata": "{}",
         "name": "Job Level",
         "type": "\"string\""
        },
        {
         "metadata": "{}",
         "name": "Salary",
         "type": "\"string\""
        },
        {
         "metadata": "{}",
         "name": "Experience",
         "type": "\"string\""
        },
        {
         "metadata": "{}",
         "name": "Job URL",
         "type": "\"string\""
        },
        {
         "metadata": "{}",
         "name": "Job Description",
         "type": "\"string\""
        }
       ],
       "type": "table"
      }
     },
     "output_type": "display_data"
    }
   ],
   "source": [
    "#Cleaning different columns values\n",
    "job_listenings_df = job_listenings_df.withColumn(\n",
    "    \"Location\",\n",
    "    trim(\n",
    "        regexp_replace(\n",
    "            regexp_replace(\n",
    "                regexp_replace(col(\"Location\"), r\"[\\r\\n]+\", \" \"),  # remove newlines\n",
    "                r\"\\s*,\\s*\", \", \"                                   # normalize comma spacing\n",
    "            ),\n",
    "            r\"\\s+\", \" \"                                            # collapse extra spaces\n",
    "        )\n",
    "    )\n",
    ").withColumn(\n",
    "    \"Salary\",\n",
    "    trim(\n",
    "        regexp_replace(\n",
    "            regexp_replace(\n",
    "                regexp_replace(col(\"Salary\"), r\"[\\r\\n]+\", \" \"),    \n",
    "                r\"\\s*,\\s*\", \", \"                                   \n",
    "            ),\n",
    "            r\"\\s+\", \" \"                                            \n",
    "        )\n",
    "    )\n",
    ").withColumn(\n",
    "    \"No of Openings\",\n",
    "    trim(\n",
    "        regexp_replace(\n",
    "            regexp_replace(\n",
    "                regexp_replace(\n",
    "                    regexp_replace(col(\"No of Openings\"), r\"[\\[\\]]\", \"\"),  # remove [ and ]\n",
    "                    r\"[\\r\\n]+\", \"\"                                            # remove line breaks\n",
    "                ),\n",
    "                r\"\\s*,\\s*\", \",\"                                               \n",
    "            ),\n",
    "            r\"\\s+\", \"\"                                                      \n",
    "        )\n",
    "    )\n",
    ")\n",
    "display(job_listenings_df.limit(10))"
   ]
  },
  {
   "cell_type": "code",
   "execution_count": 0,
   "metadata": {
    "application/vnd.databricks.v1+cell": {
     "cellMetadata": {
      "byteLimit": 2048000,
      "rowLimit": 10000
     },
     "inputWidgets": {},
     "nuid": "1b4e6ea4-f026-460a-a80a-dff8d0172804",
     "showTitle": false,
     "tableResultSettingsMap": {},
     "title": ""
    }
   },
   "outputs": [],
   "source": [
    "#Dealing with No of Openings Column \n",
    "job_listenings_df = job_listenings_df.withColumn(\n",
    "    'No of Openings',\n",
    "    when(\n",
    "    lower(col('No of Openings')).isin(['notmentioned','notfound','notdefined','few']),\n",
    "    \"1\"\n",
    "    ).otherwise(col('No of Openings'))\n",
    ")\n"
   ]
  },
  {
   "cell_type": "code",
   "execution_count": 0,
   "metadata": {
    "application/vnd.databricks.v1+cell": {
     "cellMetadata": {
      "byteLimit": 2048000,
      "rowLimit": 10000
     },
     "inputWidgets": {},
     "nuid": "8d930cf4-0b87-45da-a20f-514b3b997095",
     "showTitle": false,
     "tableResultSettingsMap": {},
     "title": ""
    }
   },
   "outputs": [
    {
     "output_type": "display_data",
     "data": {
      "text/html": [
       "<style scoped>\n",
       "  .table-result-container {\n",
       "    max-height: 300px;\n",
       "    overflow: auto;\n",
       "  }\n",
       "  table, th, td {\n",
       "    border: 1px solid black;\n",
       "    border-collapse: collapse;\n",
       "  }\n",
       "  th, td {\n",
       "    padding: 5px;\n",
       "  }\n",
       "  th {\n",
       "    text-align: left;\n",
       "  }\n",
       "</style><div class='table-result-container'><table class='table-result'><thead style='background-color: white'><tr><th>Location</th><th>Standardized Location</th></tr></thead><tbody><tr><td>Kathmandu District</td><td>Kathmandu</td></tr><tr><td>Chitwan, Kathmandu, Sunsari (Laukahi)</td><td>Kathmandu, Sunsari, Chitwan</td></tr><tr><td>Bishalnagar, Hadigaun Marga, Dhumbarahi, Kathmandu, Kathmandu, Kathmandu District</td><td>Kathmandu</td></tr><tr><td>Kathmandu</td><td>Kathmandu</td></tr><tr><td>Kathmandu, Nepal</td><td>Kathmandu, Nepal</td></tr><tr><td>Khumaltar, Lalitpur, Lalitpur District</td><td>Lalitpur</td></tr><tr><td>Kathmandu, Bagmati, Makwanpur District</td><td>Kathmandu, Makwanpur</td></tr><tr><td>Chakrapath, Kathmandu</td><td>Kathmandu</td></tr><tr><td>Kathmandu, Kathmandu District</td><td>Kathmandu</td></tr><tr><td>pokhara -19, Gandaki, Gorkha District</td><td>Pokhara</td></tr></tbody></table></div>"
      ]
     },
     "metadata": {
      "application/vnd.databricks.v1+output": {
       "addedWidgets": {},
       "aggData": [],
       "aggError": "",
       "aggOverflow": false,
       "aggSchema": [],
       "aggSeriesLimitReached": false,
       "aggType": "",
       "arguments": {},
       "columnCustomDisplayInfos": {},
       "data": [
        [
         "Kathmandu District",
         "Kathmandu"
        ],
        [
         "Chitwan, Kathmandu, Sunsari (Laukahi)",
         "Kathmandu, Sunsari, Chitwan"
        ],
        [
         "Bishalnagar, Hadigaun Marga, Dhumbarahi, Kathmandu, Kathmandu, Kathmandu District",
         "Kathmandu"
        ],
        [
         "Kathmandu",
         "Kathmandu"
        ],
        [
         "Kathmandu, Nepal",
         "Kathmandu, Nepal"
        ],
        [
         "Khumaltar, Lalitpur, Lalitpur District",
         "Lalitpur"
        ],
        [
         "Kathmandu, Bagmati, Makwanpur District",
         "Kathmandu, Makwanpur"
        ],
        [
         "Chakrapath, Kathmandu",
         "Kathmandu"
        ],
        [
         "Kathmandu, Kathmandu District",
         "Kathmandu"
        ],
        [
         "pokhara -19, Gandaki, Gorkha District",
         "Pokhara"
        ]
       ],
       "datasetInfos": [],
       "dbfsResultPath": null,
       "isJsonSchema": true,
       "metadata": {},
       "overflow": false,
       "plotOptions": {
        "customPlotOptions": {},
        "displayType": "table",
        "pivotAggregation": null,
        "pivotColumns": null,
        "xColumns": null,
        "yColumns": null
       },
       "removedWidgets": [],
       "schema": [
        {
         "metadata": "{}",
         "name": "Location",
         "type": "\"string\""
        },
        {
         "metadata": "{}",
         "name": "Standardized Location",
         "type": "\"string\""
        }
       ],
       "type": "table"
      }
     },
     "output_type": "display_data"
    }
   ],
   "source": [
    "#Matching location column with defined known_locations to standardize location column\n",
    "from pyspark.sql import SparkSession\n",
    "from pyspark.sql.functions import udf, col\n",
    "from pyspark.sql.types import StringType, ArrayType\n",
    "from rapidfuzz import fuzz, process\n",
    "\n",
    "# Known locations\n",
    "known_locations = [\"Kathmandu\", \"Bhaktapur\", \"Lalitpur\", \"Kavrepalanchok\", \"Sindhupalchok\", \"Dolakha\", \"Ramechhap\", \"Okhaldhunga\", \n",
    "                   \"Solukhumbu\", \"Khotang\", \"Bhojpur\", \"Dhankuta\", \"Terhathum\", \"Sankhuwasabha\", \"Panchthar\", \"Ilam\", \"Jhapa\", \n",
    "                   \"Morang\", \"Sunsari\", \"Udayapur\", \"Saptari\", \"Siraha\", \"Dhanusha\", \"Mahottari\", \"Sarlahi\", \"Bara\", \"Parsa\", \n",
    "                   \"Rautahat\", \"Chitwan\", \"Makwanpur\", \"Nuwakot\", \"Dhading\", \"Rasuwa\", \"Sindhuli\", \"Gorkha\", \"Lamjung\", \n",
    "                   \"Tanahun\", \"Kaski\", \"Manang\", \"Mustang\", \"Myagdi\", \"Parbat\", \"Baglung\", \"Gulmi\", \"Arghakhanchi\", \n",
    "                   \"Palpa\", \"Nawalpur\", \"Rupandehi\", \"Kapilvastu\", \"Dang\", \"Pyuthan\", \"Rolpa\", \"Rukum East\", \"Rukum West\", \n",
    "                   \"Salyan\", \"Banke\", \"Bardiya\", \"Surkhet\", \"Dailekh\", \"Jajarkot\", \"Dolpa\", \"Humla\", \"Mugu\", \"Jumla\", \n",
    "                   \"Kalikot\", \"Achham\", \"Doti\", \"Bajura\", \"Bajhang\", \"Kailali\", \"Kanchanpur\", \"Dadeldhura\", \"Baitadi\", \n",
    "                   \"Darchula\", \"Remote\", \"Nepal\", \"Pokhara\"]\n",
    "\n",
    "# Fuzzy match UDF\n",
    "def match_location_fuzzy(location):\n",
    "    if location is None:\n",
    "        return \"Not defined\"\n",
    "    \n",
    "    matches = []\n",
    "    # Split location by comma and lowercase\n",
    "    parts = [p.strip().lower() for p in location.split(\",\")]\n",
    "\n",
    "    for part in parts:\n",
    "        result, score, _ = process.extractOne(part, known_locations, scorer=fuzz.partial_ratio)\n",
    "        if score >= 85:\n",
    "            matches.append(result)\n",
    "    \n",
    "    return \", \".join(set(matches)) if matches else \"Not defined\"\n",
    "\n",
    "# Register UDF\n",
    "match_location_udf = udf(match_location_fuzzy, StringType())\n",
    "\n",
    "# Apply UDF to create standardized location\n",
    "job_listenings_df = job_listenings_df.withColumn(\"Standardized Location\", match_location_udf(col(\"Location\")))\n",
    "\n",
    "# Show results\n",
    "display(job_listenings_df.select(\"Location\", \"Standardized Location\").limit(10))\n"
   ]
  },
  {
   "cell_type": "code",
   "execution_count": 0,
   "metadata": {
    "application/vnd.databricks.v1+cell": {
     "cellMetadata": {
      "byteLimit": 2048000,
      "rowLimit": 10000
     },
     "inputWidgets": {},
     "nuid": "49113c09-9923-43cd-9b5f-dfaa5097cc9a",
     "showTitle": false,
     "tableResultSettingsMap": {},
     "title": ""
    }
   },
   "outputs": [],
   "source": [
    "#If above fuzzy matching cant able to match the location set Not defined value as Nepal\n",
    "job_listenings_df = job_listenings_df.withColumn(\n",
    "    'Standardized Location',\n",
    "    when(\n",
    "        lower(col('Standardized Location')).isin(['kathmandu, nepal','kathmandu,nepal','lalitpur, nepal','bhaktapur, nepal']),\n",
    "        'Kathmandu',\n",
    "    ).\n",
    "    when(\n",
    "        lower(col('Standardized Location')).isin(['not defined','notdefined','not found','notfound']),\n",
    "        'Nepal'\n",
    "    ).\n",
    "    otherwise(col('Standardized Location'))\n",
    ")"
   ]
  },
  {
   "cell_type": "code",
   "execution_count": 0,
   "metadata": {
    "application/vnd.databricks.v1+cell": {
     "cellMetadata": {
      "byteLimit": 2048000,
      "rowLimit": 10000
     },
     "inputWidgets": {},
     "nuid": "88cdc5c9-b36d-4b08-842e-475fdb890fec",
     "showTitle": false,
     "tableResultSettingsMap": {},
     "title": ""
    }
   },
   "outputs": [
    {
     "output_type": "display_data",
     "data": {
      "text/html": [
       "<style scoped>\n",
       "  .table-result-container {\n",
       "    max-height: 300px;\n",
       "    overflow: auto;\n",
       "  }\n",
       "  table, th, td {\n",
       "    border: 1px solid black;\n",
       "    border-collapse: collapse;\n",
       "  }\n",
       "  th, td {\n",
       "    padding: 5px;\n",
       "  }\n",
       "  th {\n",
       "    text-align: left;\n",
       "  }\n",
       "</style><div class='table-result-container'><table class='table-result'><thead style='background-color: white'><tr><th>Location</th><th>Standardized Location</th></tr></thead><tbody><tr><td>Kathmandu District</td><td>Kathmandu</td></tr><tr><td>Chitwan, Kathmandu, Sunsari (Laukahi)</td><td>Kathmandu, Sunsari, Chitwan</td></tr><tr><td>Bishalnagar, Hadigaun Marga, Dhumbarahi, Kathmandu, Kathmandu, Kathmandu District</td><td>Kathmandu</td></tr><tr><td>Kathmandu</td><td>Kathmandu</td></tr><tr><td>Kathmandu, Nepal</td><td>Kathmandu</td></tr><tr><td>Khumaltar, Lalitpur, Lalitpur District</td><td>Lalitpur</td></tr><tr><td>Kathmandu, Bagmati, Makwanpur District</td><td>Kathmandu, Makwanpur</td></tr><tr><td>Chakrapath, Kathmandu</td><td>Kathmandu</td></tr><tr><td>Kathmandu, Kathmandu District</td><td>Kathmandu</td></tr><tr><td>pokhara -19, Gandaki, Gorkha District</td><td>Pokhara</td></tr></tbody></table></div>"
      ]
     },
     "metadata": {
      "application/vnd.databricks.v1+output": {
       "addedWidgets": {},
       "aggData": [],
       "aggError": "",
       "aggOverflow": false,
       "aggSchema": [],
       "aggSeriesLimitReached": false,
       "aggType": "",
       "arguments": {},
       "columnCustomDisplayInfos": {},
       "data": [
        [
         "Kathmandu District",
         "Kathmandu"
        ],
        [
         "Chitwan, Kathmandu, Sunsari (Laukahi)",
         "Kathmandu, Sunsari, Chitwan"
        ],
        [
         "Bishalnagar, Hadigaun Marga, Dhumbarahi, Kathmandu, Kathmandu, Kathmandu District",
         "Kathmandu"
        ],
        [
         "Kathmandu",
         "Kathmandu"
        ],
        [
         "Kathmandu, Nepal",
         "Kathmandu"
        ],
        [
         "Khumaltar, Lalitpur, Lalitpur District",
         "Lalitpur"
        ],
        [
         "Kathmandu, Bagmati, Makwanpur District",
         "Kathmandu, Makwanpur"
        ],
        [
         "Chakrapath, Kathmandu",
         "Kathmandu"
        ],
        [
         "Kathmandu, Kathmandu District",
         "Kathmandu"
        ],
        [
         "pokhara -19, Gandaki, Gorkha District",
         "Pokhara"
        ]
       ],
       "datasetInfos": [],
       "dbfsResultPath": null,
       "isJsonSchema": true,
       "metadata": {},
       "overflow": false,
       "plotOptions": {
        "customPlotOptions": {},
        "displayType": "table",
        "pivotAggregation": null,
        "pivotColumns": null,
        "xColumns": null,
        "yColumns": null
       },
       "removedWidgets": [],
       "schema": [
        {
         "metadata": "{}",
         "name": "Location",
         "type": "\"string\""
        },
        {
         "metadata": "{}",
         "name": "Standardized Location",
         "type": "\"string\""
        }
       ],
       "type": "table"
      }
     },
     "output_type": "display_data"
    }
   ],
   "source": [
    "#Comparing previous Location and Standardize Location\n",
    "display(job_listenings_df.select('Location','Standardized Location').limit(10))"
   ]
  },
  {
   "cell_type": "code",
   "execution_count": 0,
   "metadata": {
    "application/vnd.databricks.v1+cell": {
     "cellMetadata": {
      "byteLimit": 2048000,
      "rowLimit": 10000
     },
     "inputWidgets": {},
     "nuid": "70fbf3a3-1241-4add-8372-22ca5054bce5",
     "showTitle": false,
     "tableResultSettingsMap": {},
     "title": ""
    }
   },
   "outputs": [
    {
     "output_type": "display_data",
     "data": {
      "text/html": [
       "<style scoped>\n",
       "  .table-result-container {\n",
       "    max-height: 300px;\n",
       "    overflow: auto;\n",
       "  }\n",
       "  table, th, td {\n",
       "    border: 1px solid black;\n",
       "    border-collapse: collapse;\n",
       "  }\n",
       "  th, td {\n",
       "    padding: 5px;\n",
       "  }\n",
       "  th {\n",
       "    text-align: left;\n",
       "  }\n",
       "</style><div class='table-result-container'><table class='table-result'><thead style='background-color: white'><tr><th>Job Title</th><th>Job Category</th></tr></thead><tbody><tr><td>Admin Assistant</td><td>Management</td></tr><tr><td>Assistant Manager - Finance / A…</td><td>Management</td></tr><tr><td>Documentation Officer</td><td>Management</td></tr><tr><td>Medical Representative</td><td>Healthcare</td></tr><tr><td>Graphic Designer</td><td>Creative & Design</td></tr><tr><td>Internship Opportunity at Giftmandu</td><td>Other</td></tr><tr><td>Japanese Document Handler, Receptionist</td><td>Management</td></tr><tr><td>Digital Marketing Officer</td><td>Sales and Marketing</td></tr><tr><td>Grade Teachers</td><td>Teaching</td></tr><tr><td>Various Positions</td><td>Other</td></tr></tbody></table></div>"
      ]
     },
     "metadata": {
      "application/vnd.databricks.v1+output": {
       "addedWidgets": {},
       "aggData": [],
       "aggError": "",
       "aggOverflow": false,
       "aggSchema": [],
       "aggSeriesLimitReached": false,
       "aggType": "",
       "arguments": {},
       "columnCustomDisplayInfos": {},
       "data": [
        [
         "Admin Assistant",
         "Management"
        ],
        [
         "Assistant Manager - Finance / A…",
         "Management"
        ],
        [
         "Documentation Officer",
         "Management"
        ],
        [
         "Medical Representative",
         "Healthcare"
        ],
        [
         "Graphic Designer",
         "Creative & Design"
        ],
        [
         "Internship Opportunity at Giftmandu",
         "Other"
        ],
        [
         "Japanese Document Handler, Receptionist",
         "Management"
        ],
        [
         "Digital Marketing Officer",
         "Sales and Marketing"
        ],
        [
         "Grade Teachers",
         "Teaching"
        ],
        [
         "Various Positions",
         "Other"
        ]
       ],
       "datasetInfos": [],
       "dbfsResultPath": null,
       "isJsonSchema": true,
       "metadata": {},
       "overflow": false,
       "plotOptions": {
        "customPlotOptions": {},
        "displayType": "table",
        "pivotAggregation": null,
        "pivotColumns": null,
        "xColumns": null,
        "yColumns": null
       },
       "removedWidgets": [],
       "schema": [
        {
         "metadata": "{}",
         "name": "Job Title",
         "type": "\"string\""
        },
        {
         "metadata": "{}",
         "name": "Job Category",
         "type": "\"string\""
        }
       ],
       "type": "table"
      }
     },
     "output_type": "display_data"
    }
   ],
   "source": [
    "#Classifying Job Title acoording to its Job Type\n",
    "from difflib import get_close_matches\n",
    "\n",
    "known_job_category = {\n",
    "    \"IT\": [\n",
    "        \"Angular Developer\", \"Associate Officer - IT\", \"Business/System Analyst - ERP\", \n",
    "        \"Cybersecurity & IT Operations Lead\", \"Data Analytics Engineer\", \n",
    "        \"Digital Marketing Specialist with Social Media Marketing Experience\", \n",
    "        \"Front-End Developer (React.js)\", \"Full Stack Developer\", \"Fullstack Developer\", \n",
    "        \"IT Administrative Officer\", \"IT Assistant\", \"IT Associate\", \"IT Executive\", \n",
    "        \"IT Field Engineer\", \"IT Intern\", \"IT Officer\", \"Laravel Developer\", \n",
    "        \"Lead Cybersecurity & DevSecOps Lead\", \"Machine Learning Engineer\", \n",
    "        \"Mid QA Engineer (Automation)\", \"Mobile App Developer\", \"Native Android App Developer\", \n",
    "        \"Oracle Apex Developer\", \"PHP Laravel Intern\", \"Python Backend Developer\", \n",
    "        \"Python Developer (Full Stack)\", \"Quality Assurance (QA) Traineeship\", \n",
    "        \"SailPoint Engineer\", \"Senior .NET Developer (Full Stack)\", \n",
    "        \"Senior Software Architect\", \"Senior Web Developer\", \n",
    "        \"Software Engineer (Microsoft .NET)\", \"Software Sales & Support Engineer\", \n",
    "        \"Software Solutions Engineer\", \"Software Test Engineer\", \"UI UX Intern\", \n",
    "        \"UI/UX\", \"WordPress Intern\"\n",
    "    ],\n",
    "    \"Management\": [\n",
    "        \"Account Assistant\", \"Account Officer\", \"Accountant\", \"Accounts And Store Incharge\", \n",
    "        \"Accounts Trainee\", \"Admin Assistant\", \"Admin Coordinator\", \"Admin Executive\", \n",
    "        \"Administrative Assistant / Receptionist\", \"Assistant Manager - Enterprise\", \n",
    "        \"Assistant Manager - Finance / Admin\", \"Assistant Project Manager\", \n",
    "        \"Business Development Executive\", \"Business Development Manager\", \n",
    "        \"Business Development Officer\", \"Chief Executive Officer (CEO)\", \n",
    "        \"Chief Operating Officer\", \"Cluster Manager Trainee\", \"Documentation Expert\", \n",
    "        \"Documentation Officer\", \"Executive Assistant\", \n",
    "        \"Executive Assistant & Operations Coordinator\", \"Executive Assistant to the Director\", \n",
    "        \"Finance and Admin Officer\", \"Finance Controller\", \"Finance Manager\", \n",
    "        \"Front Desk Cum Admin Executive\", \"General Manager\", \"HR Administrative Assistant\", \n",
    "        \"HR And Admin Officer\", \"HR Business Partner - Enterprise\", \"HR Officer\", \n",
    "        \"HR/Admin Manager\", \"Human Resource Administrator\", \"Human Resource Assistant\", \n",
    "        \"Human Resource Manager\", \"Manager\", \"Office Admin/ Secretary\", \"Office Assistant\", \n",
    "        \"Operational Manager\", \"Operations Executive\", \"Operations Manager\", \n",
    "        \"Personal Assistant\", \"Plant Manager\", \"Principal\", \"Product Manager - Tax Planning\", \n",
    "        \"Program Officer - Alumni and Public Relations\", \"Project Associate\", \n",
    "        \"Project Coordinator\", \"Project Manager\", \"Regional Sales Manager\", \n",
    "        \"Sales Manager\", \"Secretary To Chairman\", \"Senior Accountant\", \n",
    "        \"Senior Admin Officer\", \"Senior Officer - Business Development\", \n",
    "        \"Store Assistant\", \"Store Operations Assistant\", \"Team Lead - Sales\", \n",
    "        \"Team Leader\", \"Territory Sales Manager\", \"Vice Principal\", \"Female Receptionist\", \n",
    "        \"Onshore Visa Support Officer\", \"Receptionist\", \"Visa Assistant\", \"Visa Officer\"\n",
    "    ],\n",
    "    \"Healthcare\": [\n",
    "        \"B. Sc Nurse / Staff Nurse\", \"Female Therapist\", \"General Physician (MDGP)\", \n",
    "        \"Lab Technician\", \"Massage Therapist\", \"Medical Representative\", \n",
    "        \"Pediatric Registrar\", \"Pharmacist/ Assistant Pharmacist\", \"Pharmacy Incharge\", \n",
    "        \"Physiotherapist\", \"Physiotherapy Assistant\", \"School Nurse\", \n",
    "        \"Speech Therapists\", \"Staff Nurse\"\n",
    "    ],\n",
    "    \"Sales and Marketing\": [\n",
    "        \"Area Sales Manager (ASM)\", \"Area Sales Representative (Honda)\", \"Brand Manager\", \n",
    "        \"Brand Promoter\", \"Branding Officer\", \"Business Development Executive\", \n",
    "        \"Business Development Manager\", \"Business Development Officer\", \n",
    "        \"Corporate Sales Officer\", \"Digital Marketing Manager\", \"Digital Marketing Officer\", \n",
    "        \"Digital Sales Manager\", \"Door-to-Door Marketing Representative\", \n",
    "        \"E-Commerce And Marketing Officer\", \"Marketing & Communication Officer\", \n",
    "        \"Marketing And Communication Manager\", \"Marketing And Communications Manager\", \n",
    "        \"Marketing Associate\", \"Marketing Executive\", \"Marketing Intern\", \n",
    "        \"Marketing Manager\", \"Marketing Officer\", \"Marketing Trainee\", \n",
    "        \"Online Marketing Assistant\", \"Outdoor Marketing\", \"PR Officer/HCM\", \n",
    "        \"Public Relation Officer\", \"Public Relation Officer (PRO)\", \"Regional Sales Officer\", \n",
    "        \"Retail Salesperson\", \"Sales & Front Desk Officer\", \"Sales & Marketing\", \n",
    "        \"Sales & Marketing Executive\", \"Sales and Marketing Executive\", \n",
    "        \"Sales and Marketing Officer\", \"Sales Associate\", \"Sales Executive\", \n",
    "        \"Sales Executive (Domestic & International)\", \"Sales Girl\", \"Sales Officer\", \n",
    "        \"Sales Promoter\", \"Sales Representative\", \"Sales Trainee\", \"Salesman\", \n",
    "        \"Technical Sales Officer\", \"Telecaller\"\n",
    "    ],\n",
    "    \"Engineering and Construction\": [\n",
    "        \"Architect\", \"BIM MEP Modeling Specialist\", \"Civil Engineer\", \"Electrical Engineer\", \n",
    "        \"Electrical Overseer\", \"Junior Architect\", \"Lead Architect\", \n",
    "        \"Mechanical Engineer – Automobile\", \"Mechanical Fitter\", \"On Site Supervisor\", \n",
    "        \"Plan Operator\", \"Repair Technician\", \"Spare Parts Manager\"\n",
    "    ],\n",
    "    \"Creative & Design\": [\n",
    "        \"Assistant - Graphics Designer\", \"Brand Model / Content Creator\", \n",
    "        \"Content & Social Media Officer\", \"Content Creator\", \n",
    "        \"Content Creator/ Video Presenter\", \"Content Developer\", \"Content Writer\", \n",
    "        \"Graphic Design Executive\", \"Graphic Designer\", \n",
    "        \"Graphic Designer / Content Creator\", \"Graphic Designer / Video Editor\", \n",
    "        \"Instructional Designer\", \"Interior Designer\", \"Motion Graphics Animator\", \n",
    "        \"News Reporter/Presenter\", \"Proposal Writer\", \"Social Media Analyst\", \n",
    "        \"Social Media Content Creator\", \"Social Media Coordinator\", \"Social Media Handler\", \n",
    "        \"Social Media Intern\", \"Video Creator\", \"Video Editor\", \"Videographer\", \n",
    "        \"Web Content Writer\", \"Website Content Management\"\n",
    "    ],\n",
    "    \"Legal\": [\n",
    "        \"Advocate\", \"Credit Analyst\", \"Credit Associate\", \"Loan And Recovery Assistant\", \n",
    "        \"Loan Assistant\", \"Loan Processing Associate\", \"Loan Processor\"\n",
    "    ],\n",
    "    \"Teaching\": [\n",
    "        \"Academic Staff\", \"Basic Level Computer Teacher\", \"Basic Level English Language Teacher\", \n",
    "        \"Computer Science Teacher\", \"Computer Teacher (Secondary Level)\", \"Dance Teacher\", \n",
    "        \"ECA (Extra-Curricular Activities) Teachers\", \"ECA Coordinator\", \"English Teacher\", \n",
    "        \"English Teacher (Secondary and Higher)\", \"Examination Head\", \"Fine Arts Teacher\", \n",
    "        \"Grade Teacher\", \"Grade Teacher - English\", \"High School Computer Teacher\", \n",
    "        \"High School Teacher\", \"IELTS Instructor\", \"IELTS Trainer\", \"IELTS/PTE Instructor\", \n",
    "        \"Japanese Instructor\", \"Japanese Language Instructor\", \"Japanese Language Teacher\", \n",
    "        \"Librarian\", \"Lower Secondary Computer Teacher\", \"Lower Secondary English Teacher\", \n",
    "        \"Lower Secondary Math Teacher\", \"Lower Secondary Mathematics Teacher\", \n",
    "        \"Lower Secondary Nepali Teacher\", \"Lower Secondary Science Teacher\", \n",
    "        \"Mandarin Teacher\", \"Math / Science Teacher\", \"Mathematics Teacher\", \n",
    "        \"Middle Level Science Teacher\", \"Middle School English Teacher\", \n",
    "        \"Middle School Math Teacher\", \"Middle School Teacher\", \"Montessori Teacher\", \n",
    "        \"Music Teacher (Keyboard and Violin)\", \"Mero Serofero Teacher\", \n",
    "        \"Nepali Language Teacher\", \"Nepali Teacher (Primary/Middle School)\", \n",
    "        \"Pre School Teacher\", \"Preschool Teacher\", \"Primary Level English Teacher\", \n",
    "        \"Primary Level Grade Teacher\", \"Primary Level Math/Science Teacher\", \n",
    "        \"Primary Level Nepali Teacher\", \"Primary Level Teacher\", \n",
    "        \"Professor / Asst. Professor / Senior Lecturer\", \"PYP-1 (Art Teacher)\", \n",
    "        \"Samajik Shikshya Teacher\", \"School Coordinator\", \"Science Teacher\", \n",
    "        \"Secondary English Teacher\", \"Secondary Level Mathematics Teacher\", \n",
    "        \"Secondary Level Teacher\", \"Secondary Math Teacher\", \"Teacher\", \n",
    "        \"Teacher & Staff\", \"Training Professional\"\n",
    "    ],\n",
    "    \"Hospitality\": [\n",
    "        \"Assistant Food & Beverage Manager\", \"Assistant Front Office Manager\", \n",
    "        \"Chief\", \"Cashier\", \"Food And Beverage Supervisor\", \"Front Desk Officer\", \n",
    "        \"Front Office Supervisor\", \"Guest Relation Supervisor\", \"Hostel Warden\", \n",
    "        \"Reservation Officer\", \"Senior Waiter\", \"Ticketing Officer\", \"Tour Manager\", \n",
    "        \"Waitress/Cook\"\n",
    "    ],\n",
    "    \"Administrative & Support\": [\n",
    "        \"Client Relation Officer\", \"Client Service Executive (Night Shift)\", \n",
    "        \"Client Services And Office Coordinator\", \"Communication & Telemarketing Executive\", \n",
    "        \"Computer Operator\", \"Counsellor\", \"Counselor\", \"Customer & Support Representative\", \n",
    "        \"Customer Moderator\", \"Customer Service Advisor\", \"Customer Service Associate\", \n",
    "        \"Customer Service Representative (CSR)\", \"Delivery Boy\", \"Dispatch And Delivery Person\", \n",
    "        \"Economist\", \"Logistics And Customer Service Associate\", \"Logistics Associate\", \n",
    "        \"Office Maintenance Supervisor\", \"Pricing Analyst\", \"Recruitment Consultant\", \n",
    "        \"Recruitment Coordinator\", \"Research Officer\", \"Student Wellness Officer (Part-time)\", \n",
    "        \"Talent Acquisition Trainee\", \"Team Leader – Mortgage Credit Analyst\", \n",
    "        \"Trainee Assistant\", \"Trainings And Media Officer\",\"कार्यालय सहायक\", \"Virtual Assistant in Accounts/Admin\"\n",
    "    ],\n",
    "\n",
    "}\n",
    "\n",
    "# Flatten to job title → category mapping\n",
    "from pyspark.sql.functions import udf\n",
    "from pyspark.sql.types import StringType\n",
    "\n",
    "flat_mapping = {}\n",
    "for category, titles in known_job_category.items():\n",
    "    for title in titles:\n",
    "        flat_mapping[title.lower()] = category\n",
    "\n",
    "def fuzzy_match_category(job_title):\n",
    "    if job_title:\n",
    "        job_title = job_title.lower()\n",
    "        matches = get_close_matches(job_title, flat_mapping.keys(), n=1, cutoff=0.5)\n",
    "        if matches:\n",
    "            return flat_mapping[matches[0]]\n",
    "    return \"Other\"  # Default if no good match found\n",
    "\n",
    "match_udf = udf(fuzzy_match_category, StringType())\n",
    "\n",
    "job_listenings_df = job_listenings_df.withColumn(\"Job Category\", match_udf(\"Job Title\"))\n",
    "display(job_listenings_df.select(\"Job Title\", \"Job Category\").limit(10))\n"
   ]
  },
  {
   "cell_type": "code",
   "execution_count": 0,
   "metadata": {
    "application/vnd.databricks.v1+cell": {
     "cellMetadata": {
      "byteLimit": 2048000,
      "rowLimit": 10000
     },
     "inputWidgets": {},
     "nuid": "d77ac63c-afe3-4e73-9fd9-15b4a7a66f70",
     "showTitle": false,
     "tableResultSettingsMap": {},
     "title": ""
    }
   },
   "outputs": [],
   "source": [
    "#Handling inappropriate data\n",
    "datetime_pattern = r\"(Jan\\.|Feb\\.|Mar\\.|Apr\\.|May|Jun\\.|Jul\\.|Aug\\.|Sep\\.|Oct\\.|Nov\\.|Dec\\.)\\s+\\d{1,2},\\s+\\d{4}.*\"\n",
    "job_listenings_df = job_listenings_df.withColumn(\n",
    "    'New Salary',\n",
    "    when(\n",
    "        lower(col('Salary')).isin(['not disclosed','not mentioned','not found']),\n",
    "        \"Not Disclosed\"\n",
    "    ).\n",
    "    when (\n",
    "        lower(col('Salary')).isin(['negotiable','nrs. monthly','(negotiable)','nrs. (negotiable) monthly','nrs. monthly (negotiable)','nrs. (negotiable) monthly (negotiable)','nrs. negotiable monthly']),\n",
    "        \"Negotiable\"\n",
    "    ).\n",
    "    when(\n",
    "        col(\"Salary\").rlike(datetime_pattern),\n",
    "        \"Not Disclosed\"\n",
    "    ).otherwise(col('Salary'))\n",
    ")"
   ]
  },
  {
   "cell_type": "code",
   "execution_count": 0,
   "metadata": {
    "application/vnd.databricks.v1+cell": {
     "cellMetadata": {
      "byteLimit": 2048000,
      "rowLimit": 10000
     },
     "inputWidgets": {},
     "nuid": "30a1af17-a121-494b-927f-556c3659d030",
     "showTitle": false,
     "tableResultSettingsMap": {},
     "title": ""
    }
   },
   "outputs": [],
   "source": [
    "#Dealing with Job level column\n",
    "job_listenings_df = job_listenings_df.withColumn(\n",
    "    \"Job Level\",\n",
    "    when(\n",
    "        lower(col('Job Level')).isin(['not found','not mentioned','associate','junior','entry level']),\n",
    "        \"Junior Level\"\n",
    "    ).\n",
    "    when(\n",
    "        lower(col('Job Level')).isin(['management','mid career','mid level']),\n",
    "        \"Mid Level\"\n",
    "    ).\n",
    "    when(\n",
    "        lower(col('Job Level')).isin(['top level','senior level']),\n",
    "        \"Senior Level\"\n",
    "    ).otherwise(col('Job Level'))\n",
    ")"
   ]
  },
  {
   "cell_type": "code",
   "execution_count": 0,
   "metadata": {
    "application/vnd.databricks.v1+cell": {
     "cellMetadata": {
      "byteLimit": 2048000,
      "rowLimit": 10000
     },
     "inputWidgets": {},
     "nuid": "4303a517-bb60-456b-8f29-966a333e5fcf",
     "showTitle": false,
     "tableResultSettingsMap": {},
     "title": ""
    }
   },
   "outputs": [
    {
     "output_type": "display_data",
     "data": {
      "text/html": [
       "<style scoped>\n",
       "  .table-result-container {\n",
       "    max-height: 300px;\n",
       "    overflow: auto;\n",
       "  }\n",
       "  table, th, td {\n",
       "    border: 1px solid black;\n",
       "    border-collapse: collapse;\n",
       "  }\n",
       "  th, td {\n",
       "    padding: 5px;\n",
       "  }\n",
       "  th {\n",
       "    text-align: left;\n",
       "  }\n",
       "</style><div class='table-result-container'><table class='table-result'><thead style='background-color: white'><tr><th>New Salary</th><th>salary_category</th></tr></thead><tbody><tr><td>Nrs. (upto 3ok) Monthly</td><td>Medium</td></tr><tr><td>Not Disclosed</td><td>Not disclosed</td></tr><tr><td>Nrs. 20k-25k Monthly</td><td>Medium</td></tr><tr><td>NRs. 35, 000 - 50, 000 Monthly</td><td>High</td></tr><tr><td>Not Disclosed</td><td>Not disclosed</td></tr><tr><td>15k-20k Monthly</td><td>Low</td></tr><tr><td>Negotiable</td><td>Negotiable</td></tr><tr><td>NRs. 30, 000 - 40, 000 Monthly</td><td>High</td></tr><tr><td>Negotiable</td><td>Negotiable</td></tr><tr><td>Negotiable</td><td>Negotiable</td></tr></tbody></table></div>"
      ]
     },
     "metadata": {
      "application/vnd.databricks.v1+output": {
       "addedWidgets": {},
       "aggData": [],
       "aggError": "",
       "aggOverflow": false,
       "aggSchema": [],
       "aggSeriesLimitReached": false,
       "aggType": "",
       "arguments": {},
       "columnCustomDisplayInfos": {},
       "data": [
        [
         "Nrs. (upto 3ok) Monthly",
         "Medium"
        ],
        [
         "Not Disclosed",
         "Not disclosed"
        ],
        [
         "Nrs. 20k-25k Monthly",
         "Medium"
        ],
        [
         "NRs. 35, 000 - 50, 000 Monthly",
         "High"
        ],
        [
         "Not Disclosed",
         "Not disclosed"
        ],
        [
         "15k-20k Monthly",
         "Low"
        ],
        [
         "Negotiable",
         "Negotiable"
        ],
        [
         "NRs. 30, 000 - 40, 000 Monthly",
         "High"
        ],
        [
         "Negotiable",
         "Negotiable"
        ],
        [
         "Negotiable",
         "Negotiable"
        ]
       ],
       "datasetInfos": [],
       "dbfsResultPath": null,
       "isJsonSchema": true,
       "metadata": {},
       "overflow": false,
       "plotOptions": {
        "customPlotOptions": {},
        "displayType": "table",
        "pivotAggregation": null,
        "pivotColumns": null,
        "xColumns": null,
        "yColumns": null
       },
       "removedWidgets": [],
       "schema": [
        {
         "metadata": "{}",
         "name": "New Salary",
         "type": "\"string\""
        },
        {
         "metadata": "{}",
         "name": "salary_category",
         "type": "\"string\""
        }
       ],
       "type": "table"
      }
     },
     "output_type": "display_data"
    }
   ],
   "source": [
    "#Classify salary into Low,Medium,High,Very high using fuzzy matching\n",
    "from pyspark.sql.functions import udf\n",
    "from pyspark.sql.types import StringType\n",
    "from rapidfuzz import fuzz\n",
    "\n",
    "salary_category = {\n",
    "    \"Low\": [\n",
    "        \"NPR 10K - 15K\", \"NPR 13K - 18K\", \"NPR 17.3K\", \"Nrs. 15k Monthly\",\n",
    "        \"NRs. 15,000 - 20,000 Monthly\", \"Nrs. 15k-20k Monthly\", \"15k-20k Monthly\",\n",
    "        \"NRs. 17,300 - 20,000 Monthly\", \"Nrs. (NPR 17,500 per month + Performance Bonus (Up to NPR 100,000)) Monthly (Negotiable)\"\n",
    "    ],\n",
    "    \"Medium\": [\n",
    "        \"Nrs. 25K-30K Monthly\", \"NRs. 25,000 - 35,000 Monthly\", \"NRs. 20,000 - 30,000 Monthly\",\n",
    "        \"Nrs. 25K-30K Monthly (Negotiable)\", \"NPR 25K - 35K\", \"NRs. 22,000 - 30,000 Monthly\",\n",
    "        \"Nrs. (upto 3ok) Monthly\", \"NRs. 20,000 - 22,000 Monthly\", \"NRs. 25,000 Monthly\",\n",
    "        \"Nrs. 20k-25k Monthly\", \"NPR 18K - 20K\", \"NPR 20K\", \"NPR 18K - 27.5K\",\n",
    "        \"NRs. 18,500 - 20,000 Monthly\", \"NRs. 18,000 - 30,000 Monthly\",\n",
    "        \"NRs. 18,500 - 22,000 Monthly\", \"Nrs. (18,000 – 25,000) Monthly\",\n",
    "        \"NPR 17K - 21K\", \"NRs. 20,000 - 28,000 Monthly\", \"NRs. 18,000 Monthly\",\n",
    "        \"NRs. 20,000 - 25,000 Monthly\", \"NRs. 21,000 - 30,000 Monthly\",\n",
    "        \"NRs. 17,500 - 30,000 Monthly\", \"Nrs. (20K - 30K) Monthly (Negotiable)\",\n",
    "        \"NRs. 25,000 - 30,000 Monthly\", \"NRs. 20,000 - 35,000 Monthly\",\n",
    "        \"Nrs. (18K - 32K)\", \"Nrs. (Above 25,000) Monthly\", \"NRs. 18,000 - 25,000 Monthly\"\n",
    "    ],\n",
    "    \"High\": [\n",
    "        \"30K-40K Monthly\", \"NRs. 50,000 - 60,000 Monthly\", \"Nrs. 30K-40K Monthly (Negotiable)\",\n",
    "        \"NRs. 30,000 - 40,000 Monthly\", \"Nrs. 40K-50K Monthly\", \"NRs. 25,000 - 50,000 Monthly\",\n",
    "        \"NRs. 30,000 - 35,000 Monthly\", \"NRs. 35,000 - 40,000 Monthly\",\n",
    "        \"NRs. 25,000 - 40,000 Monthly\", \"NRs. 20,000 - 40,000 Monthly\",\n",
    "        \"NRs. 55,000 - 65,000 Monthly\", \"NPR 23K - 40K\", \"NRs. 35,000 - 50,000 Monthly\",\n",
    "        \"NRs. 40,000 - 50,000 Monthly\", \"NRs. 30,000 - 50,000 Monthly\",\n",
    "        \"NRs. 32,000 - 40,000 Monthly\", \"NRs. 35,000 - 45,000 Monthly\",\n",
    "        \"Nrs. (30K-35K) Monthly (Negotiable)\", \"NRs. 80,000 Monthly\",\n",
    "        \"NRs. 50,000 Monthly\", \"NRs. 55,000 Monthly\", \"NRs. 60,000 Monthly\",\n",
    "        \"NRs. 50,000 - 70,000 Monthly\", \"NRs. 40,000 - 60,000 Monthly\",\n",
    "        \"Nrs. 60K-80K Monthly (Negotiable)\", \"NRs. 55,000 - 80,000 Monthly\",\n",
    "        \"NRs. 60,000 - 70,000 Monthly\", \"NRs. 800,000 - 1,000,000 Yearly\"\n",
    "    ],\n",
    "    \"Very High\": [\n",
    "        \"NRs. 80,000 - 100,000 Monthly\", \"NRs. 70,000 - 100,000 Monthly\",\n",
    "        \"NRs. 50,000 - 100,000 Monthly\", \"Nrs. 80K-100K\",\n",
    "        \"NRs. 90,000 - 120,000 Monthly\", \"NRs. 100,000 - 120,000 Monthly\",\n",
    "        \"Nrs. 100K-125K Monthly\", \"NRs. 100,000 Monthly\",\n",
    "        \"NRs. 100,000 - 150,000 Monthly\", \"NRs. 140,000 - 180,000 Monthly\",\n",
    "        \"NRs. 60,000 - 130,000 Monthly\"\n",
    "    ],\n",
    "    \"Not disclosed\": ['Not found', 'Not disclosed'],\n",
    "    \"Negotiable\": ['Negotiable']\n",
    "}\n",
    "\n",
    "# Function to categorize salary based on fuzzy match\n",
    "def categorize_salary(salary):\n",
    "    if salary is None:\n",
    "        return \"Not disclosed\"\n",
    "\n",
    "    salary = salary.strip()\n",
    "\n",
    "    best_score = 0\n",
    "    best_category = \"Not disclosed\"\n",
    "\n",
    "    for category, salary_list in salary_category.items():\n",
    "        for known_salary in salary_list:\n",
    "            score = fuzz.ratio(salary.lower(), known_salary.lower())\n",
    "            if score > best_score:\n",
    "                best_score = score\n",
    "                best_category = category\n",
    "\n",
    "    return best_category\n",
    "\n",
    "\n",
    "categorize_salary_udf = udf(categorize_salary, StringType())\n",
    "\n",
    "\n",
    "job_listenings_df = job_listenings_df.withColumn(\"salary_category\", categorize_salary_udf(\"New Salary\"))\n",
    "\n",
    "display(job_listenings_df.select(\"New Salary\", \"salary_category\").limit(10))\n"
   ]
  },
  {
   "cell_type": "markdown",
   "metadata": {
    "application/vnd.databricks.v1+cell": {
     "cellMetadata": {
      "byteLimit": 2048000,
      "rowLimit": 10000
     },
     "inputWidgets": {},
     "nuid": "2e4c8734-b909-4a82-8d50-dd3237df950c",
     "showTitle": false,
     "tableResultSettingsMap": {},
     "title": ""
    }
   },
   "source": [
    "# **Visualization**"
   ]
  },
  {
   "cell_type": "code",
   "execution_count": 0,
   "metadata": {
    "application/vnd.databricks.v1+cell": {
     "cellMetadata": {
      "byteLimit": 2048000,
      "rowLimit": 10000
     },
     "inputWidgets": {},
     "nuid": "6907bc1e-8d18-4f8e-ace2-a373e69fa663",
     "showTitle": false,
     "tableResultSettingsMap": {},
     "title": ""
    }
   },
   "outputs": [
    {
     "output_type": "display_data",
     "data": {
      "text/html": [
       "<style scoped>\n",
       "  .table-result-container {\n",
       "    max-height: 300px;\n",
       "    overflow: auto;\n",
       "  }\n",
       "  table, th, td {\n",
       "    border: 1px solid black;\n",
       "    border-collapse: collapse;\n",
       "  }\n",
       "  th, td {\n",
       "    padding: 5px;\n",
       "  }\n",
       "  th {\n",
       "    text-align: left;\n",
       "  }\n",
       "</style><div class='table-result-container'><table class='table-result'><thead style='background-color: white'><tr><th>Job Title</th><th>Company</th><th>Location</th><th>No of Openings</th><th>Job Level</th><th>Salary</th><th>Experience</th><th>Job URL</th><th>Job Description</th><th>Standardized Location</th><th>Job Category</th><th>New Salary</th><th>salary_category</th></tr></thead><tbody><tr><td>Admin Assistant</td><td>Hot Stone</td><td>Kathmandu District</td><td>1</td><td>Mid Level</td><td>Nrs. (upto 3ok) Monthly</td><td>Not mentioned</td><td>https://www.kumarijob.com/hot-stone/59690-admin-assistant</td><td>Answer and direct phone calls, screen and forward incoming inquiries.\n",
       "Manage and schedule appointments, meetings, and conferences.\n",
       "Prepare and organize meeting rooms, documents, and presentations.\n",
       "Maintain office files, databases, and records (digital and physical).\n",
       "Perform office tasks such as photocopying, printing, scanning, and faxing documents.\n",
       "Manage office supplies inventory, ordering replacements as necessary.\n",
       "Draft, proofread, and send emails, letters, and memos.\n",
       "Assist with travel arrangements, itineraries, and accommodations for team members.\n",
       "Coordinate events, meetings, and team activities.\n",
       "Maintain and organize the office space for a productive environment.\n",
       "Support accounting or finance teams with administrative tasks (e.g., invoicing, budgeting).\n",
       "Assist HR with employee onboarding, documentation, and other admin duties.\n",
       "Other duties as required to support the team</td><td>Kathmandu</td><td>Management</td><td>Nrs. (upto 3ok) Monthly</td><td>Medium</td></tr><tr><td>Assistant Manager - Finance / A…</td><td>Avinash Group</td><td>Chitwan, Kathmandu, Sunsari (Laukahi)</td><td>4</td><td>Senior Level</td><td>Not Disclosed</td><td>More than or equal to 2 years</td><td>https://merojob.com/senior-accountant-503/</td><td>Assist in preparing financial statements, including balance sheets, profit and loss accounts, and cash flow statements.Perform monthly and quarterly financial reconciliationsSupport in the preparation of tax returns and compliance with tax regulationsAssist in audits including reviewing internal controls and processesAnalyze financial data and prepare reports to help in decision makingLiaise with stakeholders, clients and assist in providing financial advice.Manage accounts payable and receivable processes.Assist in preparation of Management reports and budgets.Coordinate with tax, auditors and bank authorities as & when necessary.</td><td>Kathmandu, Sunsari, Chitwan</td><td>Management</td><td>Not Disclosed</td><td>Not disclosed</td></tr><tr><td>Documentation Officer</td><td>HRN Group & Management Company</td><td>Bishalnagar, Hadigaun Marga, Dhumbarahi, Kathmandu, Kathmandu, Kathmandu District</td><td>2</td><td>Junior Level</td><td>Nrs. 20k-25k Monthly</td><td>1 + year</td><td>https://www.kumarijob.com/hrn-group-management-company/58657-documentation-officer</td><td>Ensure compliance with Japanese regulations for documentation and travel.\n",
       "Prepare, verify, and submit official paperwork.\n",
       "Coordinate with clients, vendors, and internal teams.\n",
       "Provide administrative support (filing, scanning, record-keeping).\n",
       "Communicate with Japanese authorities and consular offices.\n",
       "Maintain document security and confidentiality.\n",
       "Be flexible for travel as needed.\n",
       "Stay updated on regulation changes.\n",
       "Manage documentation for travel, visas, and permits.</td><td>Kathmandu</td><td>Management</td><td>Nrs. 20k-25k Monthly</td><td>Medium</td></tr><tr><td>Medical Representative</td><td>Revive Pharma</td><td>Kathmandu</td><td>1</td><td>Mid Level</td><td>NRs. 35, 000 - 50, 000 Monthly</td><td>More than or equal to 1 year</td><td>https://merojob.com/medical-representative-161/</td><td>Promote and sell pharmaceutical products to healthcare providers, including doctors, pharmacists, and medical staff.Build and maintain strong relationships with healthcare professionals to generate product awareness.Conduct regular visits to medical facilities and pharmacies within the assigned area.Educate clients on product benefits, usage, and features to drive engagement.Prepare and submit sales reports, forecasts, and market analysis.Attend product training sessions and keep up-to-date with industry trends and new products.Achieve monthly and quarterly sales targets set by the company.</td><td>Kathmandu</td><td>Healthcare</td><td>NRs. 35, 000 - 50, 000 Monthly</td><td>High</td></tr><tr><td>Graphic Designer</td><td>Healthy Home NP</td><td>Kathmandu, Nepal</td><td>1</td><td>Junior Level</td><td>Not mentioned</td><td>Not mentioned</td><td>https://www.kumarijob.com/more-jobs/59547-graphic-designer</td><td>Graphic Design:Create visually appealing designs for digital and print, including brochures, posters, banners, social media graphics, email templates, website assets, and advertisements.Develop branding materials and ensure brand consistency across all design projects.Collaborate with the marketing team to conceptualize and execute creative campaigns.Ensure designs meet the brandâ€™s quality and guidelines while adhering to deadlines. Video Editing:Edit raw video footage into professional, polished video content for online campaigns, social media, and promotional materials.Create animations, motion graphics, 3D designs and other visual effects for videos as needed.Manage the video production process, including selecting sound effects, background music, and voice-overs, as well as color grading and video optimization for different platforms.Assist in scripting, storyboarding, and shooting video content when necessary. Collaborative Work:Collaborate with the content, marketing, and social media teams to develop multimedia content that tells a cohesive story.Stay updated with design and video editing trends to ensure fresh and modern content.Manage multiple projects simultaneously and meet tight deadlines.</td><td>Kathmandu</td><td>Creative & Design</td><td>Not Disclosed</td><td>Not disclosed</td></tr><tr><td>Internship Opportunity at Giftmandu</td><td>Giftmandu.com</td><td>Khumaltar, Lalitpur, Lalitpur District</td><td>4</td><td>Junior Level</td><td>15k-20k Monthly</td><td>Fresher</td><td>https://www.kumarijob.com/giftmanducom/59448-internship-opportunity-at-giftmandu</td><td>Order Processing: Assist in managing online orders, ensuring accuracy in packaging and dispatch.\n",
       "Gift Wrapping Staff: Help with professional gift wrapping, ensuring beautifully presented packages.\n",
       "Customer Support: Respond to customer inquiries via email, chat, and phone, ensuring excellent service.\n",
       "Delivery Management: Coordinate with the delivery team, organize shipments, and track orders.</td><td>Lalitpur</td><td>Other</td><td>15k-20k Monthly</td><td>Low</td></tr><tr><td>Japanese Document Handler, Receptionist</td><td>A Reputed Recruitment Agency</td><td>Kathmandu, Bagmati, Makwanpur District</td><td>3</td><td>Mid Level</td><td>Nrs. Negotiable Monthly</td><td>3 + years</td><td>https://www.kumarijob.com/administrator/59586-japanese-document-handler-receptionist</td><td>Instruction To Apply :</td><td>Kathmandu, Makwanpur</td><td>Management</td><td>Negotiable</td><td>Negotiable</td></tr><tr><td>Digital Marketing Officer</td><td>Royal Everest Travel Agency</td><td>Chakrapath, Kathmandu</td><td>10</td><td>Mid Level</td><td>NRs. 30, 000 - 40, 000 Monthly</td><td>More than or equal to 1 year</td><td>https://merojob.com/digital-marketing-74/</td><td>Design and implement digital marketing campaigns to attract and retain customersManage and optimize online advertising campaigns such as Google AdWords, Facebook ads, and others Create engaging and SEO-friendly content for our website and social media channels Monitor and analyze website traffic and online performance using tools like Google Analytics Develop and execute email marketing campaigns to target potential customers Collaborate with the sales team to identify opportunities for lead generation Stay in tune with the latest digital marketing trends and techniques</td><td>Kathmandu</td><td>Sales and Marketing</td><td>NRs. 30, 000 - 40, 000 Monthly</td><td>High</td></tr><tr><td>Grade Teachers</td><td>LRI School</td><td>Kathmandu, Kathmandu District</td><td>5</td><td>Mid Level</td><td>Nrs. Monthly</td><td>2 + years</td><td>https://www.kumarijob.com/learning-realm-international-lri-school/59411-grade-teachers</td><td>Develop and implement age-appropriate lesson plans that align with the curriculum for the assigned grade.\n",
       "Use diverse teaching methods, including lectures, interactive activities, group work, and hands-on exercises.\n",
       "Integrate various subjects (e.g., language arts, math, science, social studies) into a comprehensive learning experience.\n",
       "Modify lesson plans to address the needs of students with diverse learning abilities.</td><td>Kathmandu</td><td>Teaching</td><td>Negotiable</td><td>Negotiable</td></tr><tr><td>Various Positions</td><td>Saraswati Adarsha Vidyashram</td><td>pokhara -19, Gandaki, Gorkha District</td><td>3</td><td>Mid Level</td><td>Nrs. Monthly</td><td>3 + years</td><td>https://www.kumarijob.com/administrator/59701-various-positions</td><td>Instruction To Apply :</td><td>Pokhara</td><td>Other</td><td>Negotiable</td><td>Negotiable</td></tr></tbody></table></div>"
      ]
     },
     "metadata": {
      "application/vnd.databricks.v1+output": {
       "addedWidgets": {},
       "aggData": [],
       "aggError": "",
       "aggOverflow": false,
       "aggSchema": [],
       "aggSeriesLimitReached": false,
       "aggType": "",
       "arguments": {},
       "columnCustomDisplayInfos": {},
       "data": [
        [
         "Admin Assistant",
         "Hot Stone",
         "Kathmandu District",
         "1",
         "Mid Level",
         "Nrs. (upto 3ok) Monthly",
         "Not mentioned",
         "https://www.kumarijob.com/hot-stone/59690-admin-assistant",
         "Answer and direct phone calls, screen and forward incoming inquiries.\nManage and schedule appointments, meetings, and conferences.\nPrepare and organize meeting rooms, documents, and presentations.\nMaintain office files, databases, and records (digital and physical).\nPerform office tasks such as photocopying, printing, scanning, and faxing documents.\nManage office supplies inventory, ordering replacements as necessary.\nDraft, proofread, and send emails, letters, and memos.\nAssist with travel arrangements, itineraries, and accommodations for team members.\nCoordinate events, meetings, and team activities.\nMaintain and organize the office space for a productive environment.\nSupport accounting or finance teams with administrative tasks (e.g., invoicing, budgeting).\nAssist HR with employee onboarding, documentation, and other admin duties.\nOther duties as required to support the team",
         "Kathmandu",
         "Management",
         "Nrs. (upto 3ok) Monthly",
         "Medium"
        ],
        [
         "Assistant Manager - Finance / A…",
         "Avinash Group",
         "Chitwan, Kathmandu, Sunsari (Laukahi)",
         "4",
         "Senior Level",
         "Not Disclosed",
         "More than or equal to 2 years",
         "https://merojob.com/senior-accountant-503/",
         "Assist in preparing financial statements, including balance sheets, profit and loss accounts, and cash flow statements.Perform monthly and quarterly financial reconciliationsSupport in the preparation of tax returns and compliance with tax regulationsAssist in audits including reviewing internal controls and processesAnalyze financial data and prepare reports to help in decision makingLiaise with stakeholders, clients and assist in providing financial advice.Manage accounts payable and receivable processes.Assist in preparation of Management reports and budgets.Coordinate with tax, auditors and bank authorities as & when necessary.",
         "Kathmandu, Sunsari, Chitwan",
         "Management",
         "Not Disclosed",
         "Not disclosed"
        ],
        [
         "Documentation Officer",
         "HRN Group & Management Company",
         "Bishalnagar, Hadigaun Marga, Dhumbarahi, Kathmandu, Kathmandu, Kathmandu District",
         "2",
         "Junior Level",
         "Nrs. 20k-25k Monthly",
         "1 + year",
         "https://www.kumarijob.com/hrn-group-management-company/58657-documentation-officer",
         "Ensure compliance with Japanese regulations for documentation and travel.\nPrepare, verify, and submit official paperwork.\nCoordinate with clients, vendors, and internal teams.\nProvide administrative support (filing, scanning, record-keeping).\nCommunicate with Japanese authorities and consular offices.\nMaintain document security and confidentiality.\nBe flexible for travel as needed.\nStay updated on regulation changes.\nManage documentation for travel, visas, and permits.",
         "Kathmandu",
         "Management",
         "Nrs. 20k-25k Monthly",
         "Medium"
        ],
        [
         "Medical Representative",
         "Revive Pharma",
         "Kathmandu",
         "1",
         "Mid Level",
         "NRs. 35, 000 - 50, 000 Monthly",
         "More than or equal to 1 year",
         "https://merojob.com/medical-representative-161/",
         "Promote and sell pharmaceutical products to healthcare providers, including doctors, pharmacists, and medical staff.Build and maintain strong relationships with healthcare professionals to generate product awareness.Conduct regular visits to medical facilities and pharmacies within the assigned area.Educate clients on product benefits, usage, and features to drive engagement.Prepare and submit sales reports, forecasts, and market analysis.Attend product training sessions and keep up-to-date with industry trends and new products.Achieve monthly and quarterly sales targets set by the company.",
         "Kathmandu",
         "Healthcare",
         "NRs. 35, 000 - 50, 000 Monthly",
         "High"
        ],
        [
         "Graphic Designer",
         "Healthy Home NP",
         "Kathmandu, Nepal",
         "1",
         "Junior Level",
         "Not mentioned",
         "Not mentioned",
         "https://www.kumarijob.com/more-jobs/59547-graphic-designer",
         "Graphic Design:Create visually appealing designs for digital and print, including brochures, posters, banners, social media graphics, email templates, website assets, and advertisements.Develop branding materials and ensure brand consistency across all design projects.Collaborate with the marketing team to conceptualize and execute creative campaigns.Ensure designs meet the brandâ€™s quality and guidelines while adhering to deadlines. Video Editing:Edit raw video footage into professional, polished video content for online campaigns, social media, and promotional materials.Create animations, motion graphics, 3D designs and other visual effects for videos as needed.Manage the video production process, including selecting sound effects, background music, and voice-overs, as well as color grading and video optimization for different platforms.Assist in scripting, storyboarding, and shooting video content when necessary. Collaborative Work:Collaborate with the content, marketing, and social media teams to develop multimedia content that tells a cohesive story.Stay updated with design and video editing trends to ensure fresh and modern content.Manage multiple projects simultaneously and meet tight deadlines.",
         "Kathmandu",
         "Creative & Design",
         "Not Disclosed",
         "Not disclosed"
        ],
        [
         "Internship Opportunity at Giftmandu",
         "Giftmandu.com",
         "Khumaltar, Lalitpur, Lalitpur District",
         "4",
         "Junior Level",
         "15k-20k Monthly",
         "Fresher",
         "https://www.kumarijob.com/giftmanducom/59448-internship-opportunity-at-giftmandu",
         "Order Processing: Assist in managing online orders, ensuring accuracy in packaging and dispatch.\nGift Wrapping Staff: Help with professional gift wrapping, ensuring beautifully presented packages.\nCustomer Support: Respond to customer inquiries via email, chat, and phone, ensuring excellent service.\nDelivery Management: Coordinate with the delivery team, organize shipments, and track orders.",
         "Lalitpur",
         "Other",
         "15k-20k Monthly",
         "Low"
        ],
        [
         "Japanese Document Handler, Receptionist",
         "A Reputed Recruitment Agency",
         "Kathmandu, Bagmati, Makwanpur District",
         "3",
         "Mid Level",
         "Nrs. Negotiable Monthly",
         "3 + years",
         "https://www.kumarijob.com/administrator/59586-japanese-document-handler-receptionist",
         "Instruction To Apply :",
         "Kathmandu, Makwanpur",
         "Management",
         "Negotiable",
         "Negotiable"
        ],
        [
         "Digital Marketing Officer",
         "Royal Everest Travel Agency",
         "Chakrapath, Kathmandu",
         "10",
         "Mid Level",
         "NRs. 30, 000 - 40, 000 Monthly",
         "More than or equal to 1 year",
         "https://merojob.com/digital-marketing-74/",
         "Design and implement digital marketing campaigns to attract and retain customersManage and optimize online advertising campaigns such as Google AdWords, Facebook ads, and others Create engaging and SEO-friendly content for our website and social media channels Monitor and analyze website traffic and online performance using tools like Google Analytics Develop and execute email marketing campaigns to target potential customers Collaborate with the sales team to identify opportunities for lead generation Stay in tune with the latest digital marketing trends and techniques",
         "Kathmandu",
         "Sales and Marketing",
         "NRs. 30, 000 - 40, 000 Monthly",
         "High"
        ],
        [
         "Grade Teachers",
         "LRI School",
         "Kathmandu, Kathmandu District",
         "5",
         "Mid Level",
         "Nrs. Monthly",
         "2 + years",
         "https://www.kumarijob.com/learning-realm-international-lri-school/59411-grade-teachers",
         "Develop and implement age-appropriate lesson plans that align with the curriculum for the assigned grade.\nUse diverse teaching methods, including lectures, interactive activities, group work, and hands-on exercises.\nIntegrate various subjects (e.g., language arts, math, science, social studies) into a comprehensive learning experience.\nModify lesson plans to address the needs of students with diverse learning abilities.",
         "Kathmandu",
         "Teaching",
         "Negotiable",
         "Negotiable"
        ],
        [
         "Various Positions",
         "Saraswati Adarsha Vidyashram",
         "pokhara -19, Gandaki, Gorkha District",
         "3",
         "Mid Level",
         "Nrs. Monthly",
         "3 + years",
         "https://www.kumarijob.com/administrator/59701-various-positions",
         "Instruction To Apply :",
         "Pokhara",
         "Other",
         "Negotiable",
         "Negotiable"
        ]
       ],
       "datasetInfos": [],
       "dbfsResultPath": null,
       "isJsonSchema": true,
       "metadata": {},
       "overflow": false,
       "plotOptions": {
        "customPlotOptions": {},
        "displayType": "table",
        "pivotAggregation": null,
        "pivotColumns": null,
        "xColumns": null,
        "yColumns": null
       },
       "removedWidgets": [],
       "schema": [
        {
         "metadata": "{}",
         "name": "Job Title",
         "type": "\"string\""
        },
        {
         "metadata": "{}",
         "name": "Company",
         "type": "\"string\""
        },
        {
         "metadata": "{}",
         "name": "Location",
         "type": "\"string\""
        },
        {
         "metadata": "{}",
         "name": "No of Openings",
         "type": "\"string\""
        },
        {
         "metadata": "{}",
         "name": "Job Level",
         "type": "\"string\""
        },
        {
         "metadata": "{}",
         "name": "Salary",
         "type": "\"string\""
        },
        {
         "metadata": "{}",
         "name": "Experience",
         "type": "\"string\""
        },
        {
         "metadata": "{}",
         "name": "Job URL",
         "type": "\"string\""
        },
        {
         "metadata": "{}",
         "name": "Job Description",
         "type": "\"string\""
        },
        {
         "metadata": "{}",
         "name": "Standardized Location",
         "type": "\"string\""
        },
        {
         "metadata": "{}",
         "name": "Job Category",
         "type": "\"string\""
        },
        {
         "metadata": "{}",
         "name": "New Salary",
         "type": "\"string\""
        },
        {
         "metadata": "{}",
         "name": "salary_category",
         "type": "\"string\""
        }
       ],
       "type": "table"
      }
     },
     "output_type": "display_data"
    }
   ],
   "source": [
    "display(job_listenings_df.limit(10))"
   ]
  },
  {
   "cell_type": "code",
   "execution_count": 0,
   "metadata": {
    "application/vnd.databricks.v1+cell": {
     "cellMetadata": {
      "byteLimit": 2048000,
      "rowLimit": 10000
     },
     "inputWidgets": {},
     "nuid": "c7723a0d-5467-4379-b216-89f332d7ceef",
     "showTitle": false,
     "tableResultSettingsMap": {},
     "title": ""
    }
   },
   "outputs": [
    {
     "output_type": "display_data",
     "data": {
      "image/png": "[encoded data removed]"
     },
     "metadata": {
      "application/vnd.databricks.v1+output": {
       "addedWidgets": {},
       "arguments": {},
       "data": "data:image/png;base64,iVBORw0KGgoAAAANSUhEUgAAAjgAAAI4CAYAAABndZP2AAAAOXRFWHRTb2Z0d2FyZQBNYXRwbG90bGliIHZlcnNpb24zLjUuMSwgaHR0cHM6Ly9tYXRwbG90bGliLm9yZy/YYfK9AAAACXBIWXMAAAsTAAALEwEAmpwYAABK9ElEQVR4nO3dd5xcZaH/8c+zLb3vJiGV3ksEaQoEBURkwQJKu5Z78XfWq+K1XiMiiohe6xULskeuqKCoYMMVKSod6Z0ECJ1Qk0CA9GT3/P6YAUJI2TIzz8yZz/v1mtduds6c891ks/vd5znnPCHLMiRJkvKkIXYASZKkUrPgSJKk3LHgSJKk3LHgSJKk3LHgSJKk3LHgSJKk3LHgSBUWQjgzhPClEu1rWghhcQihsfjnK0IIHy7Fvov7+1sI4YOl2l8fjvu1EMKCEMLTA9zPh0II15QqV6mFEH4eQvha7BxSHllwpBIKITwSQlgWQngphLAohHBdCOEjIYRX/q9lWfaRLMtO7eW+DtzQNlmWPZZl2fAsy7pLkP0rIYRz19r/IVmW/WKg++5jjmnAZ4DtsyybuI7nNw0hZCGEpjIce6N/55JqgwVHKr3DsiwbAUwH/gf4PPB/pT5IOX7AV4lpwMIsy56NHURS7bLgSGWSZdkLWZZdCBwFfDCEsCO8dloihNAaQugqjvY8F0K4OoTQEEI4h8IP+r8Up6D+e42Ri+NDCI8B/1zPaMYWIYQbQwgvhhD+HEIYWzzW/iGEeWtmfHnEIoTwduBE4Kji8e4oPv/KlFcx10khhEdDCM+GEH4ZQhhVfO7lHB8MITxWnF764vr+bkIIo4qvn1/c30nF/R8IXAZMKub4+cb+nte3r9duEn4UQnghhHBvCOGAje1zHcdoCCHMCiE8GEJYGEL43Rp/r38LIXx8re3vCCG8p/j+tiGEy4r/vveFEN63nmOs82uhr1klFfifRyqzLMtuBOYB+67j6c8Un2sDJlAoGVmWZe8HHqMwGjQ8y7JvrfGamcB2wMHrOeQHgP8ANgFWAz/oRcaLga8Dvy0eb5d1bPah4uMtwObAcOBHa22zD7ANcABwcghhu/Uc8ofAqOJ+ZhYz/3uWZX8HDgGeLOb40Mayr29fazy/J/Ag0Ap8GfjDy+WkD04A3lXc/yTgeeDHxefOA455ecMQwvYURu/+GkIYRqGw/RoYDxwNnFHcZm3r/FroY05JRRYcqTKeBNb1Q3UVhSIyPcuyVVmWXZ1tfIG4r2RZtiTLsmXref6cLMvuzrJsCfAl4H0vn4Q8QMcB38uy7KEsyxYDXwCOXmv06JQsy5ZlWXYHcAfwuqJUzHI08IUsy17KsuwR4LvA+/saqJf7ehb4fvHv97fAfcChfTzUR4AvZlk2L8uyFcBXgCOLn/sfgRkhhOnFbY8D/lDcrh14JMuys7MsW51l2W3A74H3ruMY/flakLQeFhypMiYDz63j498GHgAuDSE8FEKY1Yt9Pd6H5x8FmimMXgzUpOL+1tx3E4XRhpetedXTUgqjPGtrLWZae1+T+5GpN/t6Yq2i8CiFz6UvpgN/LE4fLQLmAN3AhCzLXgL+SqFoQWE051drvG7Pl19XfO1xwOtOnqZ/XwuS1sOCI5VZCGF3Cj9wX3e5cnHU4TNZlm0OHA58eo1zRNb32/vGfqufusb70yiMDCwAlgBD18jVSGE6pLf7fZLCD+w1970aeGYjr1vbgmKmtff1RB/309t9TQ4hhLWef7KPx3kcOCTLstFrPAZnWfbycc4Djgkh7A0MBi5f43VXrvW64VmW/efaB9jI14KkPrLgSGUSQhgZQmgHfgOcm2XZXevYpj2EsGXxB/ALFEYFeopPP0PhvJK++rcQwvYhhKHAV4ELipeR3w8MDiEcGkJoBk4CBq3xumeATTdwYut5wKdCCJuFEIbz6jk7q/sSrpjld8BpIYQRxamdTwPnbviV/d7XeOATIYTmEMJ7KZy/dNEGdtscQhi8xqMJOLN4jOkAIYS2EMI713jNRRRK1lcp/J28/G/YBWwdQnh/8fjNIYTd13Vu0ka+FiT1kQVHKr2/hBBeovDb+xeB7/Hak17XtBXwd2Ax8C/gjCzLXv7t/xvAScWpjc/24fjnAD+nMF00GPgEFK7qAj4KnEVhhGMJhZNaX3Z+8e3CEMKt69jvz4r7vgp4GFhO4eTb/jihePyHKIxs/bq4/754ecRpY/u6gcLf8wLgNODILMsWbmC/FwHL1nh8BTgduJDC9NFLwPUUTl4uBCmcb/MH4MDi8V/++EvA2yhMXz1J4d/km7y2WL5sQ18LkvooeA6bpFoSQtgZuCrLstGxs0iqXo7gSKoZxemz9wE3x84iqbrl9U6okvLpMQrTPOub8pMkwCkqSZKUQ05RSZKk3LHgSJKk3LHgSJKk3LHgSJKk3LHgSJKk3LHgSJKk3LHgSJKk3LHgSJKk3LHgSJKk3LHgSJKk3LHgSJKk3LHgSJKk3LHgSJKk3LHgSJKk3LHgSJKk3LHgSJKk3LHgSJKk3LHgSJKk3LHgSJKk3LHgSJKk3LHgSJKk3LHgSJKk3LHgSJKk3LHgSJKk3LHgSJKk3LHgSJKk3LHgSJKk3LHgSJKk3LHgSJKk3LHgSJKk3LHgSJKk3LHgSJKk3LHgSJKk3LHgSJKk3LHgSJKk3LHgSJKk3LHgSJKk3LHgSJKk3LHgSJKk3LHgSJKk3LHgSJKk3LHgSJKk3LHgSJKk3LHgSJKk3LHgSJKk3LHgSJKk3LHgSJKk3LHgSJKk3LHgSJKk3LHgSJKk3LHgSJKk3LHgSJKk3LHgSJKk3LHgSJKk3LHgSJKk3LHgaINCCF8MIdwTQrgzhHB7CGHPfu7njSGEHwwgx6YhhLv7+/pe7P/nIYQjy7V/SVJlNcUOoOoVQtgbaAd2zbJsRQihFWjpz76yLLsZuLkPx27Ksmx1f44lSZIjONqQTYAFWZatAMiybEGWZU8ChBB2CyFcGUK4JYRwSQhhk+LHrwghfDOEcGMI4f4Qwr7Fj+8fQugqvj82hPCn4qjQ9SGEnYsf/0oI4ZwQwrXAOb0JuK4cIYRtQwg3rrHNpiGEuzaUW5KULxYcbcilwNRiUTkjhDATIITQDPwQODLLst2AnwGnrfG6pizL9gA+CXx5Hfs9Bbgty7KdgROBX67x3PbAgVmWHbOxcOvLkWXZvUBLCGGz4qZHAb/tRW5JUk44RaX1yrJscQhhN2Bf4C0USsIsClNNOwKXhRAAGoGn1njpH4pvbwE2Xceu9wGOKB7jnyGEcSGEkcXnLsyybFkvI26zgRy/o1Bs/qf49qiNbC9JyhELjjYoy7Ju4ArgiuI0zwcpFJd7sizbez0vW1F8203fv8aW9GHbsIEcvwXODyH8AciyLJsbQthpA9tLknLEgqP1CiFsA/RkWTa3+KEZwKPAfUBbCGHvLMv+VZz62TrLsnt6ueurgeOAU0MI+1M4z+fF4qhKX6w3R5ZlD4YQuoEvUSg7G9y+rweuS2k6GJhUfEwERgMj1vEYvtafh1AYLWukMC3ecOlB3PjIZuwB9FAowj3Fx3LgJeDF4mND7y8EngDmJSTLy/q5S6o5FhxtyHDghyGE0cBq4AEgybJsZfGS6h+EEEZR+Dr6PtDbovAV4GchhDuBpRRGhXpjmxDCvDX+/ClgQzl+C3wb2AygBLnzK02HAFsBmwOTebXIrPn+mFIdrqeBYUBrqfaXkj4HzKNYeNbx9tGE5KVSHU9S9QtZlsXOIKlS0nQKhXORXn5sW3w7jcKUX0VcfDBXPjadmZU6XtETwGxgTvExG5idkCyocA5JFeAIjpRHhRGZNwC7A7sBOwBbUxiVq1eTi4+D1vxgSrqA15aeO4GbEpLFFU8oqWQcwZFqXZq2ADsDb6RQaN5IodA0xoy1IZFGcPqih0LZuR64ofh2dkLSEzWVpF6z4Ei1Jk1bKVy2PxPYk0K56dcdpmOpgYKzLi8BN/Fq4bkhIXkmbiRJ62PBkapdmo6kUGbeWnzsRAXPlymHGi0463IfcBmFm2Je7rSWVD0sOFK1KZw/82bgAAqFZjeqeLqpP3JUcNa0isLIzqXFx81OaUnxWHCkapCmE4B3Au+iUGoGRc1TZjktOGt7DvgHhbJzSULyeOQ8Ul2x4EixpOmWwLsplJq9qKO14eqk4KztVuB84PyE5MHYYaS8s+BIlZSmu1MoNO+isLBoXarTgrOm23i17DwQO4yURxYcqdzSdAcKd2s+GpgaOU1VsOC8xh28Wnbujx1GygsLjlQOhUu5j6VQbHaNnKbqWHDW607gPOAXCYkr3UsDYMGRSqVww712CqXmEKA5bqDqZcHZqNXARcBZwEUJSXfkPFLNseBIA1U4r+ZDFKagxsYNUxssOH3yBPBz4P8SkocjZ5FqhgVH6o/CvWqOBT5GYc0n9YEFp18y4J/AT4E/JiQrI+eRqpoFR+qLNN0C+Cjw78CYyGlqlgVnwBYCvwR+lJA8FDuMVI0sOFJvpOlbgU8Ch1JH96spFwtOyfQAfwa+l5BcEzuMVE0sONL6pOkgCtNQn6SwoKVKxIJTFjcB36NwubknJavuWXCktaXpUOA/gc8CEyOnySULTlk9AnyXwknJyyJnkaKx4EgvS9MRFE4a/jTQFjlNrllwKmI+8EPgxwnJc7HDSJVmwZHSdBTwCQpTUV7mXQEWnIpaTKHofDsheT52GKlSLDiqX2k6FvgUcAIwKnKaumLBiWIR8B3g9IRkceQsUtlZcFR/CsXmvylc7j0icpq6ZMGJ6lngG8BPEpIVscNI5WLBUf0oXBV1AvBFYHTcMPXNglMVHgdOBc5OSFbHDiOVmgVH+ZemATgK+DqwWeQ0woJTZR4AvgKcl5D0RM4ilYw3LFO+pem+wPUUVmi23EivtyVwLnB7SvrW2GGkUmmKHUAqizTdCvgW8K7ISaRasRPwj5T0fOAzCcnjsQNJA+EUlfIlTcdRGG7vAJrjhtH6OEVV9ZZSOBH5256IrFrlFJXyI00/BNwLfBzLjTQQQymcgHxPSnpY7DBSfzhFpdqXptsAZwL7R04i5c0WwIUp6UXAJxOSubEDSb3lFJVqV5oOBk4EPg+0RE6jPnCKqiatpLCY59cSkiWxw0gb4xSValOaHgDcCXwJy41UCS3ALOBur7ZSLXCKSrUlTcdT+C3yuNhRpDq1KfD3lDQFPpeQvBQ5j7ROjuCodqTp+ymcRGy5keIKFK5UvCslPSB2GGldHMFR9Stc+n0mcGTsKJJeYzqvjuZ81tEcVRNHcFTd0vTtwF1YbqRqllAYzTkwdhDpZY7gqDql6VDgu8BHYkeR1CvTgcsczVG1cARH1SdN9wBux3Ij1aIEuDMl3SN2ENU3R3BUPdK0icJl3yfi16ZUyzYFrklJvwB8LyHxhmuqOEdwVB3SdFPgWuBkLDdSHjQD36FwJ+SxscOo/lhwFF+avgO4BXBIW8qfduD2lPTNsYOovvibsuJJ0wbgFOCLFO6rISmfpgJXpKRfAr7plJUqwREcxZGmrcAlwElYbqR60AR8A/hbStoWO4zyz4KjykvTvYBbAe+ZIdWfgylMWe0XO4jyzYKjykrTE4CrKAxZS6pPkyjcATmJHUT55Tk4qozCjfvOAo6JHUVSVWgGOlPSHYFPJSTdsQMpXxzBUfml6SbA1VhuJL3eCcBFKeno2EGULxYclVea7gLcCOwaO4qkqvU24PqUdKvYQZQfFhyVT+H+NtcAU2JHkVT1tgFuSEnfGjuI8sGCo/JI048DFwLDY0eRVDPGAJekpP8ZO4hqnycZq7QKN+/7X+ATsaNIqklNwBkp6Q7Af3nysfrLERyVTpoOA/6E5UbSwH0MuCAlHRQ7iGqTBUel8eqVUofFjiIpN95F4c7HI2IHUe2x4Gjg0nQ6hXLzhthRJOXOW4B/pqStsYOotlhwNDBpug2FK6W2iB1FUm69Ebg6JfUO6Oo1C476L013prDsgpeBSyq3bYFrU9JtYgdRbbDgqH/SdE/gCmB85CSS6sdUCiM5u8UOoupnwVHfpelbgL9TuGeFJFVSG3B5Srp/7CCqbhYc9U3h7sQX4Q38JMUzgsLVVe+IHUTVy4Kj3kvT91K4z83gyEkkaTDw+5T0wNhBVJ0sOOqdND0SOA9ojh1FkooGA39OSfeLHUTVx4KjjUvTw4FfA42xo0jSWoYCf01J944dRNXFgqMNS9NDgPNx5EZS9RpO4ZycN8YOouphwdF6XXXu1fsCfwBaYmeRpI0YBVyaku4SO4iqgwVH69TRxZ6/Gr3vReeO2veG2FkkqZfGAH8vrkSuOmfB0et0dLEjxUvBrx623cx0zAFXRA0kSb3XSqHkbB07iOKy4Og1OrrYHLgUGPvyx24ZssX+p4895Mp4qSSpTyZSWKBzWuwgiseCo1d0dLEJcBmwydrPzR48deY3W995VQZZ5ZNJUp9NBi5OSb3jep2y4AiAji5GUxi52Xx92zzUMmG/U9uOuLaH0F2xYJLUf9tRuE/OoNhBVHkWHNHRRRPwO2DHjW37RPO4fU4e/74bV9OwqvzJJGnA9gXOTUn9eVdn/AcXwOnAQb3deH7TqL2/OOGY21fRuLyMmSSpVI4Evhc7hCrLglPnOrr4GPDRvr5uUeOw3WdNOHbO8tC8uAyxJKnU/islPSF2CFWOBaeOdXRxEIXRm35Z3DjkDbMmHPvwktDyQgljSVK5/G9KemjsEKoMC06d6uhiWwpLMAxofallDYN2mjXhuKdeahi8sDTJJKlsGoHfpKQzYgdR+Vlw6lBHF2OBLgq3Nh+wlQ3N286acOyi5xqGPV2K/UlSGQ0HulLSSbGDqLwsOHWmo4tmCutLbVHK/a4OTVucNOHoFfMbR8wr5X4lqQwmA79PSV1nL8csOPXnJ8DMcuy4OzROP3n8UQ1PNI15uBz7l6QS2gv439ghVD4WnDrS0cWngePLeYye0DDp1LYjhz/S3Da3nMeRpBL4aEr6/tghVB4WnDrR0cWhwLcrcawshLZvtL6r9f6WibMrcTxJGoDOlHSX2CFUehacOtDRxXTgXCr57x3CmO+OO2zK3YOm3lmxY0pS3w2hcD7O6NhBVFoWnJwrLsNwHjC64gcPYeQPx759y5sHb35LxY8tSb23BYXlHELsICodC07+nQrsHe3oIQz96ZgDdrxm6DY3RssgSRt3KPCl2CFUOhacHOvo4kDg87FzEMKgc0btt+tlw3a6LnYUSdqAL6ekb48dQqVhwcmpji7GA+cA1THkGkLTBSP32usvI3a7OnYUSVqPBuBXKem02EE0cBacHOroIgC/BCbGzvIaITR0Dd91n9+MfNOVsaNI0nqMBX6Zkvrzscb5D5hPnwUOjh1inUIIlw/fcebZo/e/InYUSVqPmcBnYofQwFhwcqajiz2A02Ln2Jjrh269/4/HHuxIjqRq9TXvj1PbLDg50tHFSOA3QHPsLL1x5+DpM787rv3KDLLYWSRpLS0ULh0fFDuI+qcpdgCVVApsFjtEX9w/aNLMr7e+++ovLPjjmxvqqHD/xy9+QddddzF+xAju/vKXAfjcBRfwlzvvpKWpiS3a2jj7gx9k9NChr3vt6f/4Bz+95hqyLOP/7bMPnzzwQAA+//vf87d77mHG1Kn88t//HYBzr7+eBYsXv7KNpD7ZEfgG8OnYQdR3dfMDJe86uvgP4KjYOfrjsZa2fU9pe+/13YTVsbNUyof23puLP/GJ13zsoO235+4vf5k7Tz6ZrceP5xt/+9vrXnf3E0/w02uu4cYvfIE7vvQluu66iweefZYXli3j1scf586TT6alsZG7nniCZStXcvZ11/Gxt7ylUp+WlEefTEkPiB1CfWfByYGOLiZT46viPt085k0njT/6llU0rIidpRL223prxq41OvO27benqbERgL0235x5ixa97nVznn6aPTfbjKEtLTQ1NjJz6635w2230RACq7q7ybKMpStX0tzYyHcuu4wT3vpWmov7lNQvAfi5SznUHgtOPvwYGBk7xEA91zRizxMnHHv3itC0NHaW2H527bUcssMOr/v4jpMmcfXcuSxcvJilK1dy0V138fhzzzFi8GDeseOOvOFrX2OTUaMYNWQINzz8MO+aMaPy4aX8mQKcETuE+sZzcGpcRxdHAO+MnaNUXmwcutusCcfe8fVnzttsSLaq5ktbf5x20UU0NTZy3J57vu657TbZhM8ffDBvO/10hrW0MGPqVBobCr+n/PfBB/PfBxfuDvDhX/6Srx5+OGddcw2Xzp7NzpMnc9Khh1b085By5piU9C8JyXmxg6h3HMGpYR1djAZ+GDtHqS1tGLzLrAnHzVscBj0fO0ul/fy66+i6805+dfzxhLDum1Afv88+3PLFL3LV5z7HmKFD2XrChNc8f9tjj5EB20yYwPm33MLvkoQH589n7jPPVOAzkHLt9JR0bOwQ6h0LTm37FrBJ7BDlsLyhZftZE49bsKhh6PzYWSrl4rvv5luXXsqFH/sYQ1ta1rvdsy++CMBjzz3HH267jWP32OM1z3/pwgs59fDDWdXdTXdPDwANDQ0sXbmyfOGl+tBG4fuuakDIMm9BUos6upgJXE61rDVVJo1Z98OnPvvbweO6F+eqyB1z1llccd99LFi8mAkjR3LKYYfxjYsvZsXq1YwbNgwonGh85nHH8eSiRXz4nHO46IQTANj3299m4ZIlNDc28r0jj+SA7bZ7Zb9/uv12bn/8cb5y2GEAfPaCC7jknnvYecoUfnX88ZX/RNfj4oO58rHpzIydQ+qHDNgvIbkmdhBtmAWnBnV0MRi4A9g6dpZKaMh65n15/vndE1e/MD12FpWGBUc1bjYwIyFZFTuI1s8pqtr0Jeqk3AD0hIYpX2l776DHm8Y+GDuLJAHbA5+LHUIbZsGpMR1d7EQd/sfKQsPE09qOGPVg84R7Y2eRJOCklHSL2CG0fhacGtLRRQNwFjWy1lSpZSG0fqv18E3mtEy+O3YWSXVvCN4bp6pZcGrLCcAeG90qz0IY9f1x79j0tsGb3hY7iqS697aU9OjYIbRuFpwa0dHFeODU2DmqQgjDzxxz0HbXD9nqpthRJNW9/3UZh+pkwakdXwZGxA5RNUIYfPbo/Xe5Yuj218eOIqmuTQS+EjuEXs+CUwM6utgGSGLnqDohtJw36s27/234jGtjR5FU1z7qCcfVx4JTG76J64atWwiNfxqx+5t+P2KPq2JHkVS3moFvxA6h17LgVLmOLvYlR4tplkUI4dIRM/Y7d9S+V8aOIqluvTcl3St2CL3KglPFOroIwHdi56gVVw/bbmY65kBLjqRY/H5dRSw41e0o6v2y8D66ZcjmM08fe4glR1IMb05J3x07hAosOFWqo4sW4Ouxc9Si2YOnzvxm6zuvygqL4klSJf1PSuo5k1XAglO9Pg5sFjtErXqoZcJ+p7YdcW0PoTt2Fkl1ZWugI3YIWXCqUkcXY4CTYueodU80j9vn5PHvu3E1Da74K6mSvpySjowdot5ZcKrTScCY2CHyYH7TqL2/OOGY21fRuDx2Fkl1ow34fOwQ9c6CU2U6utiUwvSUSmRR47DdZ004ds7y0Lw4dhZJdeMTKem42CHqmQWn+nweaIkdIm8WNw55w6wJxz68JLS8EDuLpLowHPiv2CHqmQWninR0MRH499g58mpZw6CdZk047qmXGgYvjJ1FUl04wXNx4rHgVJdPAoNih8izlQ3N286acOyi5xqGPR07i6TcG42nHERjwakSHV2MAv4zdo56sDo0bXHShKNXzG8cMS92Fkm596mUdGjsEPXIglM9Pgo4lFkh3aFx+snjj2p4omnMw7GzSMq1VrwvThQWnCrQ0cVgCtNTqqCe0DDp1LYjhz/S3DY3dhZJufbZlNTTDyrMglMd/gMYHztEPcpCaPtG67ta72+ZODt2Fkm5NYnC93lVkAUnso4umoDPxc5R10IY891xh025e9DUO2NHkZRbn3eNqsqy4MR3FLBp7BB1L4SRPxz79i1vHrz5LbGjSMql6cC/xQ5RTyw4EXV0EYBZsXOoKIShPx1zwI7XDN3mxthRJOXSp2IHqCcWnLgOBXaMHUJrCGHQOaP22/WyYTtdFzuKpNzZOSXdJ3aIemHBicvRm2oUQtMFI/fa6y8jdrs6dhRJueON/yrEghNJRxczgDfHzqH1CKGha/iu+/xm5JuujB1FUq68JyWdGDtEPbDgxPP/YgfQRoQQLh++48yzR+9/RewoknKjGUhih6gHFpwIOroYChwXO4d65/qhW+//47EHO5IjqVQ6vGS8/Cw4cbwXGBU7hHrvzsHTZ353XPuVGWSxs0iqeZOAd8cOkXcWnDicnqpB9w+aNPPrre++pgd6YmeRVPM+FjtA3llwKqyji+3x5OKa9VhL276ntL33+m7C6thZJNW0mSmptwkpIwtO5X04dgANzNPNY9500vijb1lFw4rYWSTVNEdxysiCU0EdXQwCPhA7hwbuuaYRe5444di7V4SmpbGzSKpZx6WkQ2KHyCsLTmW9GxgXO4RK48XGobvNmnDs3GWh+cXYWSTVpBHA4bFD5JUFp7K890HOLG0YvMusCcfNWxwGPR87i6Sa5AKcZWLBqZCOLrYE9o+dQ6W3vKFl+1kTj1uwqGHo/NhZJNWcg1PS1tgh8siCUzkfBkLsECqPVaFpqxMnHLN4YePwp2JnkVRTmoH3xQ6RRxacCujoIuDJxbnXHRo3O2n80d1PN416NHYWSTXFaaoysOBUxpuATWKHUPn1hIYpX2l776DHm8Y+GDuLpJqxd0q6eewQeWPBqYwjYgdQ5WShYeJpbUeMerB5wr2xs0iqGa5PWGIWnMpwzZE6k4XQ+q3WwzeZ0zL57thZJNUEC06JWXDKrKOL3YBNY+dQBCGM+v64d2x62+BNb4sdRVLV2yYlfWPsEHliwSm/98QOoIhCGH7mmIO2u37IVjfFjiKp6jmKU0IWnPKz4NS7EAafPXr/Xa4Yuv31saNIqmqezlBCFpwyKq4cvm3sHKoCIbScN+rNu/9t+IxrY0eRVLWmp6S7xA6RFxac8nL0Rq8KofFPI3Z/0+9H7HFV7CiSqtY7YwfICwtOeXl5uF4rhHDpiBn7nTtq3ytjR5FUlSw4JWLBKZOOLjYDZsTOoep09bDtZqZjDrTkSFrbrinp1Ngh8sCCUz5OT2mDbhmy+czTxx5iyZG0tkNjB8gDC075OD2ljZo9eOrMb7a+86oMsthZJFWNd8QOkAcWnDLo6GIcsFfsHKoND7VM2O/UtiOu7SF0x84iqSq8NSUdFDtErbPglMdbgRA7hGrHE83j9jl5/PtuXE3DqthZJEU3DJgZO0Sts+CUx4GxA6j2zG8atfcXJxxz+yoal8fOIim6Q2IHqHUWnPI4IHYA1aZFjcN2nzXh2DnLQ/Pi2FkkRXVw7AC1zoJTYh1dbApsETuHatfixiFvmDXh2IeXhJYXYmeRFM12KWlb7BC1zIJTeo7eaMCWNQzaadaE4556qWHwwthZJEWzb+wAtcyCU3oWHJXEyobmbWdNOHbRcw3Dno6dRVIU+8UOUMssOKXnF6RKZnVo2uKkCUevmN84Yl7sLJIqzhGcAbDglFBHF1sAk2PnUL50h8bpJ48/quGJpjEPx84iqaJ2SUlHxg5Rqyw4pWXbVln0hIZJp7YdOfyR5ra5sbNIqphG4M2xQ9QqC05pOT2lsslCaPtG67ta72+ZODt2FkkV4y/O/WTBKS2/EFVeIYz57rjDptw1aOodsaNIqgh/ce4nC06JdHSxCbBl7ByqAyGM/NHYt2918+DNb4kdRVLZ7Z6SDo4dohZZcEpnz9gBVEdCGPrTMQfsePXQbW+IHUVSWbXg4s39YsEpnRmxA6jOhDDo3FH77nbZsJ2uix1FUllZcPrBglM6u8QOoDoUQtMFI/fa68IRu10dO4qksvHnSz9YcEpnRuwAqlMhNPx1+K77/Gbkm66MHUVSWcyIHaAWWXBKoKOLUcCmsXOojoUQLh++48yfjd7fkiPlz1Yp6ZDYIWqNBac0do4dQAK4YejWM3889mBLjpQvjcCOsUPUGgtOaTg/qqpx5+DpM78zrv3KDLLYWSSVzIzYAWqNBac0LDiqKnMHTZr59dZ3X9MDPbGzSCoJf870kQWnNGbEDiCt7bGWtn1PaXvv9d2E1bGzSBqwGbED1BoLzgB1dDk3qur1dPOYN500/uhbVtGwInYWSQOyc0oaYoeoJRacgdsa8DbaqlrPNY3Y88QJx969IjQtjZ1FUr+NADaPHaKWWHAGznlRVb0XG4fuNmvCsXOXheYXY2eR1G/+vOkDC87AzYgdQOqNpQ2Dd5k14bh5i8Og52NnkdQv28UOUEssOAO3Q+wAUm8tb2jZftbE4xYsahg6P3YWSX3mFFUfWHAGbtPYAaS+WBWatjpxwjGLFzYOfyp2Fkl9slnsALXEgjNw02IHkPqqOzRudtL4o7ufbhr1aOwsknrNEZw+sOAMQEcXo4GRsXNI/dETGqZ8pe29gx5vGvtg7CySemVKStoUO0StsOAMjKM3qmlZaJh4WtsRox5snnBv7CySNqoRf+70mgVnYPxCU83LQmj9Vuvhm8xpmXx37CySNsppql6y4AzM9NgBpJIIYdT3x71j09sGb3pb7CiSNsgTjXvJgjMwjuAoP0IYfuaYg7a7fshWN8WOImm9HMHpJQvOwFhwlC8hDD579P67XDF0++tjR5G0To7g9JIFZ2CcolL+hNBy3qg37/634TOujR1F0utYcHrJgjMwjuAon0Jo/NOI3d/0+xF7XBU7iqTXmBI7QK2w4PRTRxfNwCaxc0hlE0K4dMSM/c4dte+VsaNIesW42AFqhQWn/6bg35/qwNXDtpuZjjnQkiNVh0Ep6fDYIWqBP6D7b2rsAFKl3DJk85mnjz3EkiNVh9bYAWqBBaf/xsYOIFXS7MFTZ36z9Z1XZZDFziLVOQtOL1hw+s81qFR3HmqZsN+pbUdc20Pojp1FqmOeh9MLFpz+GxE7gBTDE83j9jl5/PtuXE3DqthZpDrlCE4vWHD6zxEc1a35TaP2/uKEY25fRePy2FmkOmTB6QULTv9ZcFTXFjUO233WhGPnLA/Ni2NnkeqMBacXLDj9Z8FR3VvcOOQNsyYc+/CS0PJC7CxSHfEcnF6w4PSf5+BIwLKGQTvNmnDcUy81DF4YO4tUJxzB6QULTv85giMVrWxo3nbWhGMXPdcw7OnYWaQ64M+fXrDg9J9fYNIaVoemLU6acPSK+Y0j5sXOIuXcoNgBaoEFp/8sONJaukPj9JPHH9XwRNOYh2NnkXKsJXaAWmDB6T8LjrQOPaFh0qltRw5/pLltbuwsUk41xw5QCyw4/edJxtJ6ZCG0faP1Xa33t0ycHTuLlEOO4PSCBaf/HMGRNiSEMd8dd9iUuwZNvSN2FClnLDi9YMHpP7/ApI0JYeSPxr59q5sHb35L7ChSjvjzpxcsOP3nYoNSb4Qw9KdjDtjx6qHb3hA7ipQTFpxesOD0X0/sAFLNCGHQuaP23e2yYTtdFzuKlAMWnF5oih2ghjmCI/VFCE0XjNxrr2UNLVe34IyVNAAWnF5wBKf/LDhSX4XQ8Nfhu+7z8NCxK2NHkWqYBacXLDj9Z8GR+iOEwJiXJseOIdUwf3b3gn9J/ec5OFI/NLUsXdDQuGq72DmkGrYidoBaYMHpP0dwpH4YN/X++0MgxM4h1bDlsQPUAgtO/1lwpH4YN3luFjuDVOMsOL1gwek/p6ikPsuywSOe3zp2CqnGOUXVCxac/nMER+qjYWOeuS8E2mLnkGqcIzi9YMHpPwuO1Edt0+c8EzuDlAMWnF6w4PSfU1RSH40a/9iY2BmkHHCKqhcsOP3njcqkPmhoWvliY/OK7WPnkHLAEZxesOD033OxA0i1ZOzkB+aE4PIwUglYcHrBgtN/C2MHkGpJ69T7HPWUSsMpql6w4PSfBUfqg6EjF2weO4OUE0tiB6gFFpz+s+BIvTRk5MIHQ0Pm+lM17sRNT+SUnU7h1BmnctobT3vNc5d99zI6QgeLFyxe7+uXvbiMz0/5POd9/DwAVq1YxelvP51TdjyFK8644pXtzknO4bFbHyvL55ATC2IHqAXOh/efBUfqpdZpc+YBW8TOoYH7zOWfYXjr8Nd87LnHn2P2pbMZO23sBl974ZcuZKv9tnrlz7Mvmc2W+2zJIScewrfe/C32/+j+PH7H42TdGdN2nVaW/DnxbOwAtcARnP6z4Ei9NGbiw8M3vpVq1fmfOp/3fOs9hLD+JcYeveVRXnzmRbZ/26sX0jU2N7Jy6Uq6V3VDcQGPC790IYefeni5I9e6+bED1AILTv85RCj1QmhYvaxp0LIdYudQCQT4/tu+z2m7ncZV6VUA3P7n2xk9eTRTd5m63pf19PRwwWcu4MjvHPmaj2930HYsfGQh39zrm7z1E2/ljgvvYNqu0xg9aXQ5P4s8cASnF5yi6j9HcKReGLPJw/eEwBtj59DAfe6azzFm8hhefPZFTj/odCZuO5G/ff1vfPLST27wdVeecSU7vmNHxkx57X0eG5sa+fCvPwxA96puTj/4dD7654/yu0//jucfe569PrAXuxy+S7k+nVrmCE4vWHD6z4Ij9ULrtHuXxs6g0hgzuVBQRo4fyYx3z2DulXNZ+PBCTt3lVACen/c8X9v1a3zhxi8wauKoV1730L8eYu7Vc7nyjCtZvng53Su7GTR8EO/5n/e8ss0VZ1zBXh/Yi4euf4gho4Zw5G+P5Htv/Z4FZ90cwekFC07/WXCkXhg2+pn1z12oZqxYsoKsJ2PwiMGsWLKC2ZfO5tCTD+U7z37nlW1O3PRETrz5xNedhHz8r45/5f3rfn4dj9786GvKzZLnl3BX11184pJPcOdf7qShoQECrFq2qvyfWG1yBKcXLDj9552MpY0YNOyFxxsaezaLnUMD9+IzL3Lmu88EoHt1N3scuwc7vn3H9W7/yM2PcNWZV/GBsz6w0X3/9at/5ZAvHkJDQwM7HLwDV/z4Cm7a6Sb2+8h+JcufI0sTEkdFeyFkWRY7Q83q6OIFYGTsHFK1mrztDVdN3PIOf0pJpfNIQuIvDb3gVVQD45VU0gaMmfTg4NgZpJxxeqqXLDgD4602pfUIoXtVy5DF28XOIeXMM7ED1AoLzsA8EDuAVK1Gjn98dgiMiJ1DyplHYgeoFRacgbHgSOvRNm3OotgZpBx6OHaAWmHBGRgLjrQew8c9tUnsDFIOWXB6yYIzMA/GDiBVo+bBS55pbFq9dewcUg5ZcHrJgjMwjuBI6zBu6n3+35DKoywFJ4SQhRDOXePPTSGE+SGEruKfDw8hzFrPaxf35eOlEEL4Sgjhsxvaxhv9DUBnO4s7ungGmBA7SzVavXI5f5m1H92rVpB1r2azNx/JG487hX9+5zjmP3AzDY3NtG29B/t9rJOGpubXvf76s/+bx2/6K1nWw+QZB/Gm5HR6Vq/kkq+9kyUL5rH9Oz7KDod+FICrfpSw/ds/QuuWu1b609Q6jJs8d/3LSkvqr4UJyQtl2vcSYMcQwpAsy5YBBwFPvPxklmUXAheW6dhl4QjOwDlNtR6NzYNoP+2fHPnDOzjiB7fz+K0X88y917Pl/sfxvp/cy5E/uovulcu499KzXvfap+dcxzNzruWIH97JkT+6m/lzb+Kpu6/k8VsvYeL2+3DkD+9k7uXnALDw4TvIerotN1Uj6xk07IVtY6eQcmhumfd/EXBo8f1jgPNefiKE8KEQwo+K728WQvhXCOGuEMLX+nKAEMIWIYSLQwi3hBCuDiFsG0IYFUJ4NITQUNxmWAjh8RBC87q27+2xLDgD51D8eoQQaB5SWJOmZ/UqelavIoTAtDe+gxACIQTattqDxQvmrfO13SuX07N6JT2rVtDTvYohoyfQ0NjM6hVL6eleBRTuwn3TuV/ijcedWslPTRswYtyTc0JgbOwcUg7dX+b9/wY4OoQwGNgZuGE9250O/CTLsp2Ap/p4jBQ4Icuy3YDPAmdkWfYCcDsws7hNO3BJlmWr1rV9bw/kFNXAWXA2oKe7mz9+ajdeeOoBdjj0Y4zfZs9Xn1u9irmXn8ObktNf97oJ2+7NpJ3ewrkf3IQsy9jh0I8zZup2jJq0FXMvP4c/fXYvdnn353jkhgtp3WJXho2bVMlPSxvQOn2Od/iWyqOsIzhZlt0ZQtiUwujNRRvY9M3AEcX3zwG+2Zv9hxCGA28Czg/hlVnsQcW3vwWOAi4HjgbO2Mj2G2XBGTinqDagobGRI35wOysWL+LSr7+b5x69m7HTCwv0XfOTj7LJjvuxyQ77vu51Lzz5AM/Pm8NxZxdGd/76pYN46p6r2WSHfTngc78GCgXpoi8fzNu++Gf+ddanWTz/MbZ66wfYdM/DK/cJ6nVGts0bFzuDlFPlHsGBwnk23wH2Bzb0f7k/C1k2AIuyLJuxnuN+PYQwFtgN+CcwbAPb9+pgGhhHcHph0PDRTNrpLTx+y8UA3HLeKSx7YT57H/+9dW7/yPV/ZMI2e9E8ZDjNQ4YzdbdDeObef71mm3suOoOt3vIBnr3velqGjeKA//4td/3xu2X/XLR+jc3Ln29sWunyDFJ53FeBY/wMOCXLsrs2sM21FEZZAI7r7Y6zLHsReDiE8F6AULBL8bnFwE0Upr+6sizr3tD2vWHBGTgLznose2E+KxYvAmD1imU8cftljJ6yLfdechbzbr2EAz53HqFh3V+Cw9um8dTdV9LTvZqe1at46u4rGTP11Z+bKxY/z2M3dbH1Wz/A6hVLCaGBEAKrVy6rxKem9Rg3Ze69IdAYO4eUQyuB2eU+SJZl87Is+8FGNvsv4GMhhLuAyRvYbmgIYd4aj09TKETHhxDuAO4B3rnG9r8F/q349mUb2n6DQpb1Z5RJa+ro4knAu7auZeHDd3LF9z9I1tNN1tPD5vu8j92OOZmfvrOJ4eOn0zKksEzRpnu/h92OOZn5c29m9t/OZOYnzqKnu5trfvJRnr7nKgiBqbu+nb0//Opoz3U//RSb7vVOJu20P6tXLueSUw9n6cIn2O6Qj7DjYSfE+pTr3nb7/v6aoaMW7hM7h5RDtyUkXiraBxacEujo4s+AJ36o7u166E+fDiGbGDuHlEM/S0iOjx2iljhFVRo3xw4gxTZ09LNzLTdS2dwaO0CtseCUxk2xA0ixtU2b82TsDFKO3RY7QK2x4JSGBUd1b9SER0fFziDlVA9wR+wQtcaCUwKd7SzEFV5VxxoaVy5ualm+fewcUk7dn5AsiR2i1lhwSsdRHNWtMZMemh0CLbFzSDnl9FQ/WHBKx4KjutU69b7lsTNIOeYJxv1gwSkdr6RS3Ro6ev6msTNIOeYITj9YcErnFgongkl1ZfDw5x9taOiZFjuHlFMZjuD0iwWnRDrbeYnKrBMiVZXWaXMejZ1ByrG7EpLnY4eoRRac0vI8HNWdMZs8PCR2BinHrowdoFZZcErLgqO6Ehq6VzQPXrJD7BxSjl0RO0CtsuCU1r9iB5AqafSER+4JgaGxc0g5leEITr9ZcErrNsC5UtWN1mn3vhQ7g5Rj9yQkC2OHqFUWnBLqbKcHuDx2DqlSho99ekrsDFKOXRE7QC2z4JTe32MHkCqhZchLTzU0dm8RO4eUY05PDYAFp/T+ETuAVAmtU+99MHYGKcc8/2aALDgl1tnO/cC82Dmkchsz+cGm2BmkHJudkMyPHaKWWXDKw2kq5VvoWT1o6IvbxY4h5ZijNwNkwSmPS2IHkMppZOu8OSEwKnYOKcf8RXmAelVwQgiL+7PzEMLhIYRZ/Xlt8fX7hxC6+vv6Xuz/ihDCG8uw60uB7jLsV6oKbdPnPBc7g5Rjyyn8HNEAlHUEJ8uyC7Ms+5/ebh9CyMWcfmc7zwE3xM4hlcuI1ifHx84g5dg/EpIlsUPUul4XnLVHU0IIPwohfKj4/iMhhFNCCLeGEO4KIWxb/PiHQgg/Kr6/aQjhnyGEO0MI/wghTCt+/OchhDNDCDcA3+pllreFEP5VPN75IYThIYS3hxDOX1fedW3f2897AP5WgWNIFdfUsnRBQ+OqbWPnkHLswtgB8qCUIzgLsizbFfgJ8Nl1PP9D4BdZlu0M/Ar4wRrPTQHelGXZpzd2kBBCK3AScGDxeDcDn6YwX7lnCGFYcdOjgN9sYPtys+Aol8ZNvf++EAixc0g5lQF/iR0iD0pZcP5QfHsLsOk6nt8b+HXx/XOAfdZ47vwsy3p7zspewPbAtSGE24EPAtOzLFsNXAwcVpzqOhT48/q27+WxBuJW4JkKHEeqqHGT58aOIOXZTQnJU7FD5EFfznlZzWsL0eC1nl9RfNvdx/0C9GWuMQCXZVl2zDqe+w3wceA54OYsy14KIWxo+7LpbCfr6OIvwIcreVypvLJs8Ijnt46dQsoxp6dKpC8jOI8C24cQBoUQRgMH9PFY1wFHF98/Dri6j69/2fXAm0MIWwKEEIaFEF7+hnslsCvw/yiUnY1tX26/rdBxpIoYPvbp+0KgLXYOKccsOCWy0YJTnO5ZkWXZ48DvgLuLb2/r47FOAP49hHAn8H7gv3r5ugNCCPNefgBbAh8Czivu61/AtgDFaa4u4JDiW7Ism7++7SvgcpymUo60Tpvj17NUPg8nJHfFDpEXIcuyDW8Qwi7AT7Ms26MykfKlo4sfUpg2k2reLm/7xZ1NLSt2jp1DyqnTE5JPxg6RFxscwQkhfAQ4j8JVSOqf32x8E6n6NTateKGxecX2sXNIOeb0VAltsOBkWXZmlmXbZ1nmHRX77zrgsdghpIEaO/mBOSH0+QICSb3zFK4/VVKuRVVmne1keLKxcmDc1PtXxc4g5divExKX+CkhC05lOE2lmjd05ILNY2eQcuyc2AHyxoJTAZ3t3ArcHzuH1F9DRi54MDRkk2PnkHLqzoTkjtgh8saCUzmO4qhmtU2bMy92BinHfhk7QB5ZcCrHgqOaNXriIyNiZ5ByqptXlzFSCVlwKqSznTmAQ5CqOQ2Nq5Y2DVq2Q+wcUk793bWnysOCU1nnxQ4g9dXoiQ/PDoFBsXNIOeXJxWViwamsXwJeaqua0jrt3qWxM0g59RLwx9gh8sqCU0Gd7TyFX8yqMcPGPDs1dgYpp36fkPgLRJlYcCrvR7EDSL01aNgLjzc09GwWO4eUU2fHDpBnFpwK62znasDVYlUTWqfNeSR2Bimn7kxIroodIs8sOHH8OHYAqTfGbPKQJxdL5fHD2AHyzoITx7nAC7FDSBsSQveqliGLXT1cKr3ngF/FDpF3FpwIOttZAvw8dg5pQ0aOf/yeEBgeO4eUQ2clJMtih8g7C048ZwBZ7BDS+rRNn+Moo1R63RS+/6vMLDiRdLZzP/D32Dmk9Rk+9qlNYmeQcujChOTR2CHqgQUnLk82VlVqHrzkmcam1VvHziHlkCcXV4gFJ66/ADZ5VZ1xU+97IHYGKYfuTkgujx2iXlhwIupspwc4M3YOaW3jJs/1e4NUeo7eVJDfxOL7KbA4dgjpVVnPoGEvbBs7hZQzz1G4RYgqxIITWWc7C/GMelWREa1PzgmBMbFzSDnzv647VVkWnOrwbWBJ7BASQNu0OQtiZ5ByZhHwg9gh6o0Fpwp0trMAR3FUJUa2Pd4aO4OUM6cnJC/GDlFvLDjV4zuAw5eKqrF5+fMNTau2i51DypEXge/HDlGPLDhVorOdZ4GfxM6h+jZuytw5Ifh9QSqhHyUki2KHqEd+I6su3wZcn0TRjJtyf0/sDFKOLAa+FztEvbLgVJHOdp7B++IooiEjn9sqdgYpR85ISBbGDlGvLDjV55s4iqMIho1+5v4Qsgmxc0g5sZTCuZWKxIJTZYqjOJ2xc6j+tE6f81TsDFKOdCYk82OHqGcWnOr0LWB57BCqL6PGPzYqdgYpJ5ZS+D6uiCw4VaiznaeANHYO1Y+GxpWLm1qW7xA7h5QT305Ino4dot5ZcKrXN4CXYodQfRg76cHZIdAcO4eUA09SuCJWkVlwqlRnO08DX4+dQ/Vh3NT7nBKVSuOkhMSld6qABae6/S/wYOwQyr9ho+dvFjuDlAN3AL+IHUIFFpwq1tnOCuCzsXMo3wYPf+6R0JBNjZ1DyoHPJCTeLLNKWHCqXGc7fwL+HjuH8qtt+pzHYmeQcqArIflH7BB6lQWnNnwSWB07hPJp9CYPD42dQapxq4HPxQ6h17Lg1IDOdu7BJRxUBqFh9fLmQUu3j51DqnFpQnJv7BB6LQtO7TgZcE0TldToCY/ODgFHcKT+ewH4SuwQej0LTo3obOd5CiVHKpnWafd6ryVpYL7qkgzVyYJTWzqBu2KHUH4MH/v0lNgZpBp2O3B67BBaNwtODelsp5vCCcfSgLUMeenJhsbuLWLnkGpUD9CRkHTHDqJ1s+DUmM52/gn8IXYO1b7Wafd6E0mp/85MSG6MHULrZ8GpTScAi2KHUG0bO+kB156S+udp4MTYIbRhFpwa1NnOk8B/xc6hGhZ6VrcMfWm72DGkGnVCQvJC7BDaMAtOjeps55dAV+wcqk0j2+bNDoFRsXNINehPCckFsUNo4yw4tS0Bno8dQrWnbdocv26kvnsB+FjsEOodC04N62znKeATsXOo9oxofWJ87AxSDfpcQvJk7BDqHQtOjets51zgwtg5VDuaWpYuaGhcvW3sHFKNuRw4K3YI9Z4FJx86gOdih1BtGDf1/vtDIMTOIdWQRcAHE5IsdhD1ngUnBzrbeRqnqtRL46bMjR1BqjUfSUgejx1CfWPByYnOdn4F/Dl2DlW7LBs8/PmtY6eQasg5CclvY4dQ31lw8uUjOFWlDRg+9ul7Q6A1dg6pRjyEV03VLAtOjhSnqj4eO4eqV+v0Oc/GziDViG7g/QnJS7GDqH8sODnT2c55wC9i51B1GtX22NjYGaQacVpCcl3sEOo/C04+fRS4K3YIVZfGphUvNDavdHkGaeP+BXw1dggNjAUnhzrbWQocCTi0qleMnfzAnBBoip1DqnIvAf+WkHTHDqKBseDkVGc79wPHx86h6jFu6n2rYmeQasAJCclDsUNo4Cw4OdbZzvnAD2LnUHUYOnLhFrEzSFUuTUg8hzEnLDj591kK88mqY0NGLngwNGSTYueQqtj1wAmxQ6h0LDg519nOKuB9wILYWRRP2/Q582JnkKrYM8CRCcnK2EFUOhacOtDZzjzgOKAndhbFMXriIyNiZ5Cq1CrgvQnJE7GDqLQsOHWis51LgVNj51DlNTSuWtrUsmyH2DmkKvWZhOTq2CFUehac+vJV4NLYIVRZoyc+fE8IDIqdQ6pC5yQkP4wdQuVhwakjne30UJiqejR2FlVO67R7l8XOIFWhW4GO2CFUPhacOtPZzgLgHcCiyFFUIcPGPDstdgapyiwA3pOQWP5zzIJThzrbmQ28B/CKgZwbNGzRYw0NPZvGziFVkVXAUQmJI9k5Z8GpU53tXI53Os691mn3PhI7g1Rljk9I/hk7hMrPglPHOts5F/hS7BwqnzGTHhocO4NURU5KSM6JHUKVYcGpc53tfA04K3YOlV4I3StbBi/ePnYOqUp0JiSnxQ6hyrHgCOA/gYtjh1BpjZrw2OwQGB47h1QF/gJ8LHYIVZYFR3S2s5rCcg63R46iEmqddu+i2BmkKnAjcHRC0h07iCrLgiMAOtt5CTgUeDx2FpXG8LFPubim6t0DQHtCsjR2EFWeBUev6GznSQr3yHkhdhYNTPPgJc80Nq3eOnYOKaL5wCEJyfzYQRSHBUev0dnO3cAReI+cmtY69d65sTNIES0FDktIHogdRPFYcPQ6ne38g8I5OatiZ1H/jJ38QGPsDFIkyyhMS90QO4jisuBonTrb+TNwLOCJeTWnp3vQsBe2jZ1CimA5cHhCcnnsIIrPgqP16mznAuADQE/sLOq9Ea1PzgmBMbFzSBW2AnhXQvL32EFUHSw42qDOdn4NfBjIYmdR77RNn7MwdgapwlZSWDzzkthBVD0sONqoznbOBj6CJacmjGyd1xo7g1RBq4AjE5KLYgdRdbHgqFc620mBBEtOVWtsXv58Q9Oq7WLnkCpkNYWVwf8SO4iqjwVHvdbZzlkUViD3nJwqNW7K/feG4P9r1YXVwDEJyR9jB1F18huh+qQ4XfUhLDlVadzU+/13UT1YDbw/IbkgdhBVLwuO+qyznXOA9+Ml5FUmy4aMeH6r2CmkMltG4Wqp38QOoupmwVG/FK+ueh+F+06oCgwb/ezcELLxsXNIZfQ8cGBC8tfYQVT9LDjqt852/gAcCDwXO4ugdfqcp2JnkMroCWDfhOS62EFUGyw4GpDOdq4F3gw8EjlK3Rs94dHRsTNIZXI/8OaE5J7YQVQ7LDgasM527gX2Bm6NnaVeNTStfKmxecX2sXNIZXAzsE9C8mjsIKotFhyVRGc7TwMzgYtjZ6lHYzd5cE4INMfOIZXY34G3JCTzYwdR7bHgqGQ621kMHAb8LHaWejNu2n0rYmeQSux84NCEZHHsIKpNFhyVVGc7qzvbOR44JXaWejJs1PxNY2eQSug7wNEJycrYQVS7QpZ5532VR0cXxwNnAk2xs+TZ4BHPPbzDzAs2i51DKoEVwP9LSM6JHUS1zxEclU1nO/8HHA4siZ0lz9qmzXk8dgapBJ4CZlpuVCoWHJVVZzt/o3AZ+UOxs+TV6E0eHho7gzRANwFvTEhuiB1E+WHBUdl1tnMHsBvQFTtL3oSG1cubBy3dIXYOaQB+BeyXkDwZO4jyxYKjiuhsZxGF6aqTcKHOkhk98dF7QmBI7BxSP/QAn09I/i0hcckXlZwFRxXT2U7W2c5pwMGA97Uogdapc7yEVrXoReDwhORbsYMovyw4qrjOdv4O7Ao43z5Aw8c+MyV2BqmP7gT2dMFMlZsFR1F0tjMP2A/4cewstaplyItPNDR2bxE7h9QHZ1AoN/fGDqL88z44iq6ji+OAFPBqoD6YtM2NV2+y1e37xs4h9cIi4PiE5A+xg6h+OIKj6Drb+RWwJ4UVg9VLYyc/2BI7g9QL1wEzLDeqNAuOqkJnO3cDuwPnxs5SE0LP6pYhL20XO4a0AT3ANyjcvM+VwFVxTlGp6nR08S6gExgfOUrVGjn+sTu22uPiXWLnkNbjGeDfEpK/xw6i+uUIjqpOZzt/AnYALogcpWq1TZuzKHYGaT0uBXax3Cg2R3BU1Tq6OAb4ETA2dpZqMuPtP7u3sWn1trFzSGtYDHw2IemMHUQCR3BU5TrbOQ/YEZd5eEXToKXzGxpXbxM7h7SGfwA7Wm5UTSw4qnqd7TzV2c5hwH9QuANqXWudct/9IRBi55AojNr8J3CQJxKr2lhwVDM62zmbwmjOZbGzxDR2ylzLjarB34AdEpIzExLPdVDV8Rwc1aSOLj4CfBsYHjtLZWU9ux760+dDYFzsJKpbC4BPJiS/ih1E2hBHcFSTOts5E9gW+HXsLJU0fOxT91puFNGvgO0sN6oFjuCo5nV0sQ/wQ2BG5Chlt9kb/nHF2MkP7h87h+rOXcAnEpIrYgeRessRHNW8znauAXajcLLjwshxympk2+OO3qiSFgIfA95guVGtcQRHudLRxRjgVOAjQGPkOCXV2LzihV3e9ovhIeTr81JV6gZ+Anw5IXkudhipPyw4yqWOLnYGfgDMjJ2lVNqm33P9tJ2u3St2DuXeP4H/Skjujh1EGggLjnKto4ujgO8AU2JnGaht9/nDNcNGL9gndg7l1sMU7kTsqt/KBc/BUa51tvNbYBvga8CSyHEGZOjIhVvEzqBcWgR8EdjecqM8cQRHdaOjizbgcxROmhwaOU6fDB01/4Ht9v3jlrFzKFdeAk4HvpuQLIqcRSo5C47qTkcX44H/Bj4KDIkcp1em7XTVlW3T783N+USKaimFBWy/lZDk+qpD1TcLjupWRxcTgM9TuOKqqovOzgedc2vzoGW7xs6hmrYcOBP4n4TkmdhhpHKz4KjudXSxCTALSIDBkeO8TkPjqqUz3n52YwgMip1FNWklcBbw9YTkidhhpEqx4EhFHV1MAr4A/D+onjIxdsr9N20244rdY+dQzVkO/BI4LSF5LHYYqdIsONJaOrqYQmFE50PAsLhpYOu9L7xqxLin94udQzVjPnAGcEZC8mzsMFIsFhxpPTq6GA38B4WrrjaPleMN7zjr0YaGnumxjq+aMQf4HnBuQrI8dhgpNguOtBEdXTQA7wBOAA4CQqWOPWjYokd3fMvvLDfakL9TKDYXJyR+Q5eKLDhSH3R0sQ3wceCDwIhyH2/Kdv+6asIWdzk9pbWtBM4DvpeQ3Bk7jFSNLDhSP3R0MZJCyfk4sHW5jrPTAb+6qWXIEk8w1svuA84GfpGQPB07jFTNLDjSAHR0EYC3UZi+OoQSLn8SQvfKN7zj/1aFEP9EZ0W1GDgf+L+E5NrYYaRaYcGRSqR4mfnRwLHAbgPd3+iJD9++xRsvmzHQ/ahmXQv8DPhdQrI4dhip1lhwpDLo6GJrCkXnWGCr/uxjyz0uunLU+Hkuz1BfnqZw75qfJST3xQ4j1TILjlRmHV28kULROQqY1NvXveGQ/5vb0Njdr3KkmvIs8Cfg98A/E5LVceNI+WDBkSqkeLn5/hTKzhHA6PVt2zx48dM7H/jriZVJpgjmAX8oPq5OSHoi55Fyx4IjRdDRRQuFk5IPp3CPndeUmU22vvmaSVvfuk+MbCqbhyiM0vweuNF71kjlZcGRIiteibUrcGjxsfsO+//m+sHDX9w7bjINUDdwC3AJ8IeE5Pa4caT6YsGRqkxHF+N3edsv3trUsuIdFO6c7FRV7bifwp2F/w5cnpAsihtHql8WHKnKpaQ7USg6BwJ7s4Fzd1RxzwL/oFhqXLVbqh4WHKmGpKQB2A54E4WyszewLRVcH6uOZcADwE3ADcAVwF2eSyNVJwuOVONS0jHAXrxaePakAutk1YGngRuLj5uAmxKS5+NGktRbFhwpZ1LSBgqjPDsCO6zxdgugMWK0avYEMBu4lWKpSUjmxY0kaSAsOFKdSEkHUZjO2mGNx47AZpRwDa0qthJ4EJhL4WTgORRKzeyE5MWYwSSVngVHqnMpaQswBZi61mPaGu+PiRawd3qA+cBTwJPFx8vvP0Sh1DyWkHRHSyipoiw4kjYqJR1GoehMpnAV12hg1Drervn+SApTYg1rPMJaf375YwDLgCUUVs9e32MJ8BLwDK8WmKeAp13iQNKaLDiSJCl36mHeXZIk1RkLjiRJyh0LjiRJyh0LjiRJyh0LjiRJyh0LjiRJyh0LjiRJyh0LjiRJyh0LjiRJyh0LjiRJyh0LjiRJyh0LjiRJyh0LjiRJyh0LjiRJyh0LjiRJyh0LjiRJyh0LjiRJyh0LjiRJyh0LjiRJyh0LjiRJyh0LjiRJyh0LjiRJyh0LjiRJyh0LjiRJyh0LjiRJyh0LjiRJyh0LjiRJyh0LjiRJyh0LjiRJyh0LjiRJyh0LjiRJyh0LjiRJyh0LjiRJyh0LjiRJyh0LjiRJyh0LjiRJyh0LjiRJyh0LjiRJyh0LjiRJyh0LjiRJyh0LjiRJyh0LjiRJyh0LjiRJyh0LjiRJyh0LjiRJyh0LjiRJyh0LjiRJyh0LjiRJyh0LjiRJyh0LjiRJyh0LjiRJyh0LjiRJyh0LjiRJyh0LjiRJyh0LjiRJyh0LjiRJyh0LjiRJyh0LjiRJyh0LjiRJyh0LjiRJyh0LjiRJyh0LjiRJyh0LjiRJyh0LjiRJyh0LjiRJyh0LjiRJyh0LjiRJyh0LjiRJyp3/D9kbEPbx/rGhAAAAAElFTkSuQmCC\n",
       "datasetInfos": [],
       "metadata": {},
       "removedWidgets": [],
       "type": "image"
      }
     },
     "output_type": "display_data"
    }
   ],
   "source": [
    "vis_job_level = job_listenings_df.groupBy('Job Level').count()\n",
    "\n",
    "vis_job_level_pd = vis_job_level.toPandas()\n",
    "\n",
    "custom_colors = ['#FF9999', '#66B3FF', '#99FF99', '#FFCC99', '#C2C2F0']\n",
    "plt.figure(figsize=(8, 8))\n",
    "plt.pie(\n",
    "    vis_job_level_pd['count'],                     \n",
    "    labels=vis_job_level_pd['Job Level'],           \n",
    "    autopct='%1.1f%%',                             \n",
    "    startangle=90,                                 \n",
    "    colors=custom_colors                      \n",
    ")\n",
    "\n",
    "plt.title('Distribution of Job Levels')\n",
    "plt.axis('equal')  \n",
    "plt.tight_layout()\n",
    "plt.show()"
   ]
  },
  {
   "cell_type": "code",
   "execution_count": 0,
   "metadata": {
    "application/vnd.databricks.v1+cell": {
     "cellMetadata": {
      "byteLimit": 2048000,
      "rowLimit": 10000
     },
     "inputWidgets": {},
     "nuid": "e946dba2-8f3f-416d-9c4e-521e8c85da8c",
     "showTitle": false,
     "tableResultSettingsMap": {},
     "title": ""
    }
   },
   "outputs": [
    {
     "output_type": "display_data",
     "data": {
      "text/html": [
       "<style scoped>\n",
       "  .table-result-container {\n",
       "    max-height: 300px;\n",
       "    overflow: auto;\n",
       "  }\n",
       "  table, th, td {\n",
       "    border: 1px solid black;\n",
       "    border-collapse: collapse;\n",
       "  }\n",
       "  th, td {\n",
       "    padding: 5px;\n",
       "  }\n",
       "  th {\n",
       "    text-align: left;\n",
       "  }\n",
       "</style><div class='table-result-container'><table class='table-result'><thead style='background-color: white'><tr><th>Job Category</th><th>Job Level</th><th>Count</th></tr></thead><tbody><tr><td>Teaching</td><td>Senior Level</td><td>2</td></tr><tr><td>Healthcare</td><td>Junior Level</td><td>8</td></tr><tr><td>Other</td><td>Junior Level</td><td>9</td></tr><tr><td>Administrative & Support</td><td>Senior Level</td><td>3</td></tr><tr><td>Engineering and Construction</td><td>Junior Level</td><td>4</td></tr><tr><td>Legal</td><td>Mid Level</td><td>4</td></tr><tr><td>Teaching</td><td>Junior Level</td><td>8</td></tr><tr><td>Other</td><td>Senior Level</td><td>4</td></tr><tr><td>Administrative & Support</td><td>Junior Level</td><td>22</td></tr><tr><td>Sales and Marketing</td><td>Junior Level</td><td>35</td></tr><tr><td>Legal</td><td>Senior Level</td><td>1</td></tr><tr><td>Sales and Marketing</td><td>Senior Level</td><td>16</td></tr><tr><td>Healthcare</td><td>Senior Level</td><td>1</td></tr><tr><td>IT</td><td>Junior Level</td><td>18</td></tr><tr><td>Management</td><td>Senior Level</td><td>28</td></tr><tr><td>IT</td><td>Senior Level</td><td>7</td></tr><tr><td>Management</td><td>Junior Level</td><td>32</td></tr><tr><td>Engineering and Construction</td><td>Senior Level</td><td>2</td></tr><tr><td>Engineering and Construction</td><td>Mid Level</td><td>13</td></tr><tr><td>Other</td><td>Mid Level</td><td>5</td></tr><tr><td>Creative & Design</td><td>Mid Level</td><td>29</td></tr><tr><td>Hospitality</td><td>Mid Level</td><td>10</td></tr><tr><td>Creative & Design</td><td>Junior Level</td><td>19</td></tr><tr><td>IT</td><td>Mid Level</td><td>18</td></tr><tr><td>Teaching</td><td>Mid Level</td><td>74</td></tr><tr><td>Administrative & Support</td><td>Mid Level</td><td>17</td></tr><tr><td>Legal</td><td>Junior Level</td><td>3</td></tr><tr><td>Management</td><td>Mid Level</td><td>61</td></tr><tr><td>Hospitality</td><td>Senior Level</td><td>4</td></tr><tr><td>Sales and Marketing</td><td>Mid Level</td><td>47</td></tr><tr><td>Hospitality</td><td>Junior Level</td><td>15</td></tr><tr><td>Healthcare</td><td>Mid Level</td><td>9</td></tr></tbody></table></div>"
      ]
     },
     "metadata": {
      "application/vnd.databricks.v1+output": {
       "addedWidgets": {},
       "aggData": [],
       "aggError": "",
       "aggOverflow": false,
       "aggSchema": [],
       "aggSeriesLimitReached": false,
       "aggType": "",
       "arguments": {},
       "columnCustomDisplayInfos": {},
       "data": [
        [
         "Teaching",
         "Senior Level",
         2
        ],
        [
         "Healthcare",
         "Junior Level",
         8
        ],
        [
         "Other",
         "Junior Level",
         9
        ],
        [
         "Administrative & Support",
         "Senior Level",
         3
        ],
        [
         "Engineering and Construction",
         "Junior Level",
         4
        ],
        [
         "Legal",
         "Mid Level",
         4
        ],
        [
         "Teaching",
         "Junior Level",
         8
        ],
        [
         "Other",
         "Senior Level",
         4
        ],
        [
         "Administrative & Support",
         "Junior Level",
         22
        ],
        [
         "Sales and Marketing",
         "Junior Level",
         35
        ],
        [
         "Legal",
         "Senior Level",
         1
        ],
        [
         "Sales and Marketing",
         "Senior Level",
         16
        ],
        [
         "Healthcare",
         "Senior Level",
         1
        ],
        [
         "IT",
         "Junior Level",
         18
        ],
        [
         "Management",
         "Senior Level",
         28
        ],
        [
         "IT",
         "Senior Level",
         7
        ],
        [
         "Management",
         "Junior Level",
         32
        ],
        [
         "Engineering and Construction",
         "Senior Level",
         2
        ],
        [
         "Engineering and Construction",
         "Mid Level",
         13
        ],
        [
         "Other",
         "Mid Level",
         5
        ],
        [
         "Creative & Design",
         "Mid Level",
         29
        ],
        [
         "Hospitality",
         "Mid Level",
         10
        ],
        [
         "Creative & Design",
         "Junior Level",
         19
        ],
        [
         "IT",
         "Mid Level",
         18
        ],
        [
         "Teaching",
         "Mid Level",
         74
        ],
        [
         "Administrative & Support",
         "Mid Level",
         17
        ],
        [
         "Legal",
         "Junior Level",
         3
        ],
        [
         "Management",
         "Mid Level",
         61
        ],
        [
         "Hospitality",
         "Senior Level",
         4
        ],
        [
         "Sales and Marketing",
         "Mid Level",
         47
        ],
        [
         "Hospitality",
         "Junior Level",
         15
        ],
        [
         "Healthcare",
         "Mid Level",
         9
        ]
       ],
       "datasetInfos": [],
       "dbfsResultPath": null,
       "isJsonSchema": true,
       "metadata": {},
       "overflow": false,
       "plotOptions": {
        "customPlotOptions": {},
        "displayType": "table",
        "pivotAggregation": null,
        "pivotColumns": null,
        "xColumns": null,
        "yColumns": null
       },
       "removedWidgets": [],
       "schema": [
        {
         "metadata": "{}",
         "name": "Job Category",
         "type": "\"string\""
        },
        {
         "metadata": "{}",
         "name": "Job Level",
         "type": "\"string\""
        },
        {
         "metadata": "{}",
         "name": "Count",
         "type": "\"long\""
        }
       ],
       "type": "table"
      }
     },
     "output_type": "display_data"
    }
   ],
   "source": [
    "display(job_listenings_df.groupBy('Job Category', 'Job Level').agg(count('*').alias('Count')))"
   ]
  },
  {
   "cell_type": "code",
   "execution_count": 0,
   "metadata": {
    "application/vnd.databricks.v1+cell": {
     "cellMetadata": {
      "byteLimit": 2048000,
      "rowLimit": 10000
     },
     "inputWidgets": {},
     "nuid": "45669301-938d-4c01-8662-bdd9d95326ff",
     "showTitle": false,
     "tableResultSettingsMap": {},
     "title": ""
    }
   },
   "outputs": [
    {
     "output_type": "display_data",
     "data": {
      "image/png": "[encoded data removed]"
     },
     "metadata": {
      "application/vnd.databricks.v1+output": {
       "addedWidgets": {},
       "arguments": {},
       "data": "data:image/png;base64,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\n",
       "datasetInfos": [],
       "metadata": {},
       "removedWidgets": [],
       "type": "image"
      }
     },
     "output_type": "display_data"
    }
   ],
   "source": [
    "from pyspark.sql.functions import count\n",
    "import seaborn as sns\n",
    "import matplotlib.pyplot as plt\n",
    "\n",
    "# Step 1: Group & aggregate\n",
    "job_category_level = job_listenings_df.groupBy('Job Category', 'Job Level').agg(count('*').alias('Count'))\n",
    "\n",
    "# Step 2: Convert to Pandas\n",
    "job_category_level_pd = job_category_level.toPandas()\n",
    "\n",
    "# Step 3: Plot\n",
    "plt.figure(figsize=(14, 6))\n",
    "sns.barplot(data=job_category_level_pd, x='Job Category', y='Count', hue='Job Level')\n",
    "plt.xticks(rotation=45)\n",
    "plt.title('Job Distribution by Category and Level')\n",
    "plt.xlabel('Job Category')\n",
    "plt.ylabel('Number of Jobs')\n",
    "plt.legend(title='Job Level')\n",
    "plt.tight_layout()\n",
    "plt.show()\n"
   ]
  },
  {
   "cell_type": "code",
   "execution_count": 0,
   "metadata": {
    "application/vnd.databricks.v1+cell": {
     "cellMetadata": {
      "byteLimit": 2048000,
      "rowLimit": 10000
     },
     "inputWidgets": {},
     "nuid": "c49557ea-42b8-44cc-8e6d-013432b5f482",
     "showTitle": false,
     "tableResultSettingsMap": {},
     "title": ""
    }
   },
   "outputs": [
    {
     "output_type": "display_data",
     "data": {
      "text/html": [
       "<style scoped>\n",
       "  .table-result-container {\n",
       "    max-height: 300px;\n",
       "    overflow: auto;\n",
       "  }\n",
       "  table, th, td {\n",
       "    border: 1px solid black;\n",
       "    border-collapse: collapse;\n",
       "  }\n",
       "  th, td {\n",
       "    padding: 5px;\n",
       "  }\n",
       "  th {\n",
       "    text-align: left;\n",
       "  }\n",
       "</style><div class='table-result-container'><table class='table-result'><thead style='background-color: white'><tr><th>Job Category</th><th>Total No of Openings</th></tr></thead><tbody><tr><td>Sales and Marketing</td><td>334.0</td></tr><tr><td>Management</td><td>193.0</td></tr><tr><td>Teaching</td><td>149.0</td></tr><tr><td>Administrative & Support</td><td>128.0</td></tr><tr><td>Other</td><td>97.0</td></tr><tr><td>IT</td><td>75.0</td></tr><tr><td>Creative & Design</td><td>67.0</td></tr><tr><td>Legal</td><td>57.0</td></tr><tr><td>Healthcare</td><td>46.0</td></tr><tr><td>Hospitality</td><td>41.0</td></tr><tr><td>Engineering and Construction</td><td>21.0</td></tr></tbody></table></div>"
      ]
     },
     "metadata": {
      "application/vnd.databricks.v1+output": {
       "addedWidgets": {},
       "aggData": [],
       "aggError": "",
       "aggOverflow": false,
       "aggSchema": [],
       "aggSeriesLimitReached": false,
       "aggType": "",
       "arguments": {},
       "columnCustomDisplayInfos": {},
       "data": [
        [
         "Sales and Marketing",
         334.0
        ],
        [
         "Management",
         193.0
        ],
        [
         "Teaching",
         149.0
        ],
        [
         "Administrative & Support",
         128.0
        ],
        [
         "Other",
         97.0
        ],
        [
         "IT",
         75.0
        ],
        [
         "Creative & Design",
         67.0
        ],
        [
         "Legal",
         57.0
        ],
        [
         "Healthcare",
         46.0
        ],
        [
         "Hospitality",
         41.0
        ],
        [
         "Engineering and Construction",
         21.0
        ]
       ],
       "datasetInfos": [],
       "dbfsResultPath": null,
       "isJsonSchema": true,
       "metadata": {},
       "overflow": false,
       "plotOptions": {
        "customPlotOptions": {},
        "displayType": "table",
        "pivotAggregation": null,
        "pivotColumns": null,
        "xColumns": null,
        "yColumns": null
       },
       "removedWidgets": [],
       "schema": [
        {
         "metadata": "{}",
         "name": "Job Category",
         "type": "\"string\""
        },
        {
         "metadata": "{}",
         "name": "Total No of Openings",
         "type": "\"double\""
        }
       ],
       "type": "table"
      }
     },
     "output_type": "display_data"
    }
   ],
   "source": [
    "display(job_listenings_df.groupBy('Job Category').agg(sum(col('No of Openings')).alias('Total No of Openings')).orderBy(col('Total No of Openings').desc()))"
   ]
  },
  {
   "cell_type": "code",
   "execution_count": 0,
   "metadata": {
    "application/vnd.databricks.v1+cell": {
     "cellMetadata": {
      "byteLimit": 2048000,
      "rowLimit": 10000
     },
     "inputWidgets": {},
     "nuid": "35428372-939e-4fcf-b78d-6c392c5c23c1",
     "showTitle": false,
     "tableResultSettingsMap": {},
     "title": ""
    }
   },
   "outputs": [
    {
     "output_type": "display_data",
     "data": {
      "image/png": "[encoded data removed]"
     },
     "metadata": {
      "application/vnd.databricks.v1+output": {
       "addedWidgets": {},
       "arguments": {},
       "data": "data:image/png;base64,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\n",
       "datasetInfos": [],
       "metadata": {},
       "removedWidgets": [],
       "type": "image"
      }
     },
     "output_type": "display_data"
    }
   ],
   "source": [
    "vis_Openings = job_listenings_df.groupBy('Job Category').agg(sum(col('No of Openings')).alias('Total No of Openings')).orderBy(col('Total No of Openings').desc())\n",
    "\n",
    "vis_Openings_pd = vis_Openings.toPandas()\n",
    "\n",
    "plt.figure(figsize=(14,6))\n",
    "sns.barplot(data = vis_Openings_pd, x= 'Job Category' , y = 'Total No of Openings')\n",
    "plt.title('Job Categories with the Highest Number of Openings')\n",
    "plt.xticks(rotation=45)\n",
    "plt.xlabel('Job Category')\n",
    "plt.ylabel('No. of Openings')\n",
    "plt.show()"
   ]
  },
  {
   "cell_type": "code",
   "execution_count": 0,
   "metadata": {
    "application/vnd.databricks.v1+cell": {
     "cellMetadata": {
      "byteLimit": 2048000,
      "rowLimit": 10000
     },
     "inputWidgets": {},
     "nuid": "ea80e9e6-d8a7-4fbd-b145-909eb28ea3ce",
     "showTitle": false,
     "tableResultSettingsMap": {},
     "title": ""
    }
   },
   "outputs": [
    {
     "output_type": "display_data",
     "data": {
      "text/html": [
       "<style scoped>\n",
       "  .table-result-container {\n",
       "    max-height: 300px;\n",
       "    overflow: auto;\n",
       "  }\n",
       "  table, th, td {\n",
       "    border: 1px solid black;\n",
       "    border-collapse: collapse;\n",
       "  }\n",
       "  th, td {\n",
       "    padding: 5px;\n",
       "  }\n",
       "  th {\n",
       "    text-align: left;\n",
       "  }\n",
       "</style><div class='table-result-container'><table class='table-result'><thead style='background-color: white'><tr><th>Standardized Location</th><th>count</th></tr></thead><tbody><tr><td>Kathmandu</td><td>325</td></tr><tr><td>Nepal</td><td>82</td></tr><tr><td>Lalitpur</td><td>55</td></tr><tr><td>Kathmandu, Bara</td><td>11</td></tr><tr><td>Bhaktapur</td><td>9</td></tr><tr><td>Pokhara</td><td>7</td></tr><tr><td>Chitwan</td><td>4</td></tr><tr><td>Makwanpur</td><td>3</td></tr><tr><td>Sarlahi</td><td>3</td></tr><tr><td>Kathmandu, Bhaktapur</td><td>2</td></tr></tbody></table></div>"
      ]
     },
     "metadata": {
      "application/vnd.databricks.v1+output": {
       "addedWidgets": {},
       "aggData": [],
       "aggError": "",
       "aggOverflow": false,
       "aggSchema": [],
       "aggSeriesLimitReached": false,
       "aggType": "",
       "arguments": {},
       "columnCustomDisplayInfos": {},
       "data": [
        [
         "Kathmandu",
         325
        ],
        [
         "Nepal",
         82
        ],
        [
         "Lalitpur",
         55
        ],
        [
         "Kathmandu, Bara",
         11
        ],
        [
         "Bhaktapur",
         9
        ],
        [
         "Pokhara",
         7
        ],
        [
         "Chitwan",
         4
        ],
        [
         "Makwanpur",
         3
        ],
        [
         "Sarlahi",
         3
        ],
        [
         "Kathmandu, Bhaktapur",
         2
        ]
       ],
       "datasetInfos": [],
       "dbfsResultPath": null,
       "isJsonSchema": true,
       "metadata": {},
       "overflow": false,
       "plotOptions": {
        "customPlotOptions": {},
        "displayType": "table",
        "pivotAggregation": null,
        "pivotColumns": null,
        "xColumns": null,
        "yColumns": null
       },
       "removedWidgets": [],
       "schema": [
        {
         "metadata": "{}",
         "name": "Standardized Location",
         "type": "\"string\""
        },
        {
         "metadata": "{}",
         "name": "count",
         "type": "\"long\""
        }
       ],
       "type": "table"
      }
     },
     "output_type": "display_data"
    }
   ],
   "source": [
    "display(job_listenings_df.groupBy('Standardized Location').count().orderBy(col('count').desc()).limit(10))"
   ]
  },
  {
   "cell_type": "code",
   "execution_count": 0,
   "metadata": {
    "application/vnd.databricks.v1+cell": {
     "cellMetadata": {
      "byteLimit": 2048000,
      "rowLimit": 10000
     },
     "inputWidgets": {},
     "nuid": "93daf278-3f78-4656-b2df-3d9855d6887a",
     "showTitle": false,
     "tableResultSettingsMap": {},
     "title": ""
    }
   },
   "outputs": [
    {
     "output_type": "display_data",
     "data": {
      "image/png": "[encoded data removed]"
     },
     "metadata": {
      "application/vnd.databricks.v1+output": {
       "addedWidgets": {},
       "arguments": {},
       "data": "data:image/png;base64,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\n",
       "datasetInfos": [],
       "metadata": {},
       "removedWidgets": [],
       "type": "image"
      }
     },
     "output_type": "display_data"
    }
   ],
   "source": [
    "vis_location = job_listenings_df.groupBy('Standardized Location').count().orderBy(col('count').desc()).limit(5)\n",
    "\n",
    "vis_locatio_pd = vis_location.toPandas()\n",
    "\n",
    "plt.figure(figsize=(10,6))\n",
    "sns.barplot(data = vis_locatio_pd, x =  'Standardized Location', y = 'count')\n",
    "plt.xticks(rotation= 90)\n",
    "plt.title('Top 5 Locations with the Highest Number of Jobs')\n",
    "plt.xlabel('Location')\n",
    "plt.ylabel('No. of Jobs')\n",
    "plt.tight_layout()\n",
    "plt.show()"
   ]
  },
  {
   "cell_type": "code",
   "execution_count": 0,
   "metadata": {
    "application/vnd.databricks.v1+cell": {
     "cellMetadata": {
      "byteLimit": 2048000,
      "rowLimit": 10000
     },
     "inputWidgets": {},
     "nuid": "968f447d-17a6-473a-94f7-486de76bb527",
     "showTitle": false,
     "tableResultSettingsMap": {},
     "title": ""
    }
   },
   "outputs": [
    {
     "output_type": "display_data",
     "data": {
      "text/html": [
       "<style scoped>\n",
       "  .table-result-container {\n",
       "    max-height: 300px;\n",
       "    overflow: auto;\n",
       "  }\n",
       "  table, th, td {\n",
       "    border: 1px solid black;\n",
       "    border-collapse: collapse;\n",
       "  }\n",
       "  th, td {\n",
       "    padding: 5px;\n",
       "  }\n",
       "  th {\n",
       "    text-align: left;\n",
       "  }\n",
       "</style><div class='table-result-container'><table class='table-result'><thead style='background-color: white'><tr><th>Company</th><th>Total Openings</th></tr></thead><tbody><tr><td>Kalash Services Pvt. Ltd</td><td>50.0</td></tr><tr><td>Praramva World School and college</td><td>32.0</td></tr><tr><td>Entegra Sources</td><td>30.0</td></tr><tr><td>B & B Soft Tech Kathmandu</td><td>30.0</td></tr><tr><td>B. And B. Soft Tech Kathmandu</td><td>30.0</td></tr><tr><td>Machhapuchchhre School</td><td>25.0</td></tr><tr><td>Stepup Amigos</td><td>25.0</td></tr><tr><td>Elite Grand School</td><td>22.0</td></tr><tr><td>SG Design Nepal</td><td>20.0</td></tr><tr><td>Hubeirongyi</td><td>20.0</td></tr></tbody></table></div>"
      ]
     },
     "metadata": {
      "application/vnd.databricks.v1+output": {
       "addedWidgets": {},
       "aggData": [],
       "aggError": "",
       "aggOverflow": false,
       "aggSchema": [],
       "aggSeriesLimitReached": false,
       "aggType": "",
       "arguments": {},
       "columnCustomDisplayInfos": {},
       "data": [
        [
         "Kalash Services Pvt. Ltd",
         50.0
        ],
        [
         "Praramva World School and college",
         32.0
        ],
        [
         "Entegra Sources",
         30.0
        ],
        [
         "B & B Soft Tech Kathmandu",
         30.0
        ],
        [
         "B. And B. Soft Tech Kathmandu",
         30.0
        ],
        [
         "Machhapuchchhre School",
         25.0
        ],
        [
         "Stepup Amigos",
         25.0
        ],
        [
         "Elite Grand School",
         22.0
        ],
        [
         "SG Design Nepal",
         20.0
        ],
        [
         "Hubeirongyi",
         20.0
        ]
       ],
       "datasetInfos": [],
       "dbfsResultPath": null,
       "isJsonSchema": true,
       "metadata": {},
       "overflow": false,
       "plotOptions": {
        "customPlotOptions": {},
        "displayType": "table",
        "pivotAggregation": null,
        "pivotColumns": null,
        "xColumns": null,
        "yColumns": null
       },
       "removedWidgets": [],
       "schema": [
        {
         "metadata": "{}",
         "name": "Company",
         "type": "\"string\""
        },
        {
         "metadata": "{}",
         "name": "Total Openings",
         "type": "\"double\""
        }
       ],
       "type": "table"
      }
     },
     "output_type": "display_data"
    }
   ],
   "source": [
    "display(job_listenings_df.groupBy('Company').agg(sum(col('No of Openings')).alias('Total Openings')).orderBy(col('Total Openings').desc()).limit(10))"
   ]
  },
  {
   "cell_type": "code",
   "execution_count": 0,
   "metadata": {
    "application/vnd.databricks.v1+cell": {
     "cellMetadata": {
      "byteLimit": 2048000,
      "rowLimit": 10000
     },
     "inputWidgets": {},
     "nuid": "a7880a18-a757-4d19-bb90-aefd590984e9",
     "showTitle": false,
     "tableResultSettingsMap": {},
     "title": ""
    }
   },
   "outputs": [
    {
     "output_type": "display_data",
     "data": {
      "image/png": "[encoded data removed]"
     },
     "metadata": {
      "application/vnd.databricks.v1+output": {
       "addedWidgets": {},
       "arguments": {},
       "data": "data:image/png;base64,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\n",
       "datasetInfos": [],
       "metadata": {},
       "removedWidgets": [],
       "type": "image"
      }
     },
     "output_type": "display_data"
    }
   ],
   "source": [
    "from pyspark.sql.functions import count, col, sum\n",
    "import seaborn as sns\n",
    "import matplotlib.pyplot as plt\n",
    "\n",
    "# Step 1: Group by 'Company' and sum the 'No of Openings', sorting and limiting to top 5\n",
    "vis_company = job_listenings_df.groupBy('Company').agg(sum(col('No of Openings')).alias('Total Openings')) \\\n",
    "    .orderBy(col('Total Openings').desc()).limit(10)\n",
    "\n",
    "# Step 2: Convert to Pandas DataFrame\n",
    "vis_company_pd = vis_company.toPandas()\n",
    "\n",
    "# Step 3: Plot the data\n",
    "plt.figure(figsize=(16, 6))\n",
    "sns.barplot(data=vis_company_pd, x='Company', y='Total Openings')\n",
    "plt.xlabel('Company')\n",
    "plt.ylabel('Number of Openings')\n",
    "plt.title('Top 10 Companies with the Most Job Openings')\n",
    "plt.xticks(rotation= 45)\n",
    "plt.tight_layout()\n",
    "plt.show()"
   ]
  },
  {
   "cell_type": "code",
   "execution_count": 0,
   "metadata": {
    "application/vnd.databricks.v1+cell": {
     "cellMetadata": {
      "byteLimit": 2048000,
      "rowLimit": 10000
     },
     "inputWidgets": {},
     "nuid": "48c005f4-198d-486b-8d6a-7abd60cb0fe5",
     "showTitle": false,
     "tableResultSettingsMap": {},
     "title": ""
    }
   },
   "outputs": [
    {
     "output_type": "display_data",
     "data": {
      "text/html": [
       "<style scoped>\n",
       "  .table-result-container {\n",
       "    max-height: 300px;\n",
       "    overflow: auto;\n",
       "  }\n",
       "  table, th, td {\n",
       "    border: 1px solid black;\n",
       "    border-collapse: collapse;\n",
       "  }\n",
       "  th, td {\n",
       "    padding: 5px;\n",
       "  }\n",
       "  th {\n",
       "    text-align: left;\n",
       "  }\n",
       "</style><div class='table-result-container'><table class='table-result'><thead style='background-color: white'><tr><th>salary_category</th><th>count</th></tr></thead><tbody><tr><td>High</td><td>56</td></tr><tr><td>Very High</td><td>13</td></tr><tr><td>Low</td><td>11</td></tr><tr><td>Not disclosed</td><td>237</td></tr><tr><td>Medium</td><td>86</td></tr><tr><td>Negotiable</td><td>125</td></tr></tbody></table></div>"
      ]
     },
     "metadata": {
      "application/vnd.databricks.v1+output": {
       "addedWidgets": {},
       "aggData": [],
       "aggError": "",
       "aggOverflow": false,
       "aggSchema": [],
       "aggSeriesLimitReached": false,
       "aggType": "",
       "arguments": {},
       "columnCustomDisplayInfos": {},
       "data": [
        [
         "High",
         56
        ],
        [
         "Very High",
         13
        ],
        [
         "Low",
         11
        ],
        [
         "Not disclosed",
         237
        ],
        [
         "Medium",
         86
        ],
        [
         "Negotiable",
         125
        ]
       ],
       "datasetInfos": [],
       "dbfsResultPath": null,
       "isJsonSchema": true,
       "metadata": {},
       "overflow": false,
       "plotOptions": {
        "customPlotOptions": {},
        "displayType": "table",
        "pivotAggregation": null,
        "pivotColumns": null,
        "xColumns": null,
        "yColumns": null
       },
       "removedWidgets": [],
       "schema": [
        {
         "metadata": "{}",
         "name": "salary_category",
         "type": "\"string\""
        },
        {
         "metadata": "{}",
         "name": "count",
         "type": "\"long\""
        }
       ],
       "type": "table"
      }
     },
     "output_type": "display_data"
    }
   ],
   "source": [
    "display(job_listenings_df.groupBy('salary_category').count())"
   ]
  },
  {
   "cell_type": "code",
   "execution_count": 0,
   "metadata": {
    "application/vnd.databricks.v1+cell": {
     "cellMetadata": {
      "byteLimit": 2048000,
      "rowLimit": 10000
     },
     "inputWidgets": {},
     "nuid": "52593904-44cd-4498-a95f-d6560960292e",
     "showTitle": false,
     "tableResultSettingsMap": {},
     "title": ""
    }
   },
   "outputs": [
    {
     "output_type": "display_data",
     "data": {
      "image/png": "[encoded data removed]"
     },
     "metadata": {
      "application/vnd.databricks.v1+output": {
       "addedWidgets": {},
       "arguments": {},
       "data": "data:image/png;base64,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\n",
       "datasetInfos": [],
       "metadata": {},
       "removedWidgets": [],
       "type": "image"
      }
     },
     "output_type": "display_data"
    }
   ],
   "source": [
    "vis_salary = job_listenings_df.groupBy('salary_category').count()\n",
    "\n",
    "# Convert to Pandas DataFrame\n",
    "vis_salary_pd = vis_salary.toPandas()\n",
    "\n",
    "# Plot pie chart\n",
    "plt.figure(figsize=(8, 8))\n",
    "plt.pie(\n",
    "    vis_salary_pd['count'], \n",
    "    labels=vis_salary_pd['salary_category'],\n",
    "    autopct='%1.1f%%', \n",
    "    startangle=90,\n",
    "    colors=['#ff9999', '#66b3ff', '#99ff99', '#ffcc99', '#c2c2f0', '#ffb3e6'], \n",
    ")\n",
    "plt.title('Salary Category Distribution')\n",
    "plt.axis('equal')  \n",
    "plt.show()"
   ]
  },
  {
   "cell_type": "code",
   "execution_count": 0,
   "metadata": {
    "application/vnd.databricks.v1+cell": {
     "cellMetadata": {
      "byteLimit": 2048000,
      "rowLimit": 10000
     },
     "inputWidgets": {},
     "nuid": "65ee305b-1600-429a-afb6-ec3a75669fe5",
     "showTitle": false,
     "tableResultSettingsMap": {},
     "title": ""
    }
   },
   "outputs": [
    {
     "output_type": "display_data",
     "data": {
      "text/html": [
       "<style scoped>\n",
       "  .table-result-container {\n",
       "    max-height: 300px;\n",
       "    overflow: auto;\n",
       "  }\n",
       "  table, th, td {\n",
       "    border: 1px solid black;\n",
       "    border-collapse: collapse;\n",
       "  }\n",
       "  th, td {\n",
       "    padding: 5px;\n",
       "  }\n",
       "  th {\n",
       "    text-align: left;\n",
       "  }\n",
       "</style><div class='table-result-container'><table class='table-result'><thead style='background-color: white'><tr><th>Job Category</th><th>salary_category</th><th>count</th></tr></thead><tbody><tr><td>Creative & Design</td><td>Not disclosed</td><td>15</td></tr><tr><td>IT</td><td>Low</td><td>2</td></tr><tr><td>Sales and Marketing</td><td>Not disclosed</td><td>33</td></tr><tr><td>Sales and Marketing</td><td>High</td><td>15</td></tr><tr><td>Legal</td><td>Negotiable</td><td>1</td></tr><tr><td>Administrative & Support</td><td>Very High</td><td>1</td></tr><tr><td>Creative & Design</td><td>Negotiable</td><td>17</td></tr><tr><td>Sales and Marketing</td><td>Low</td><td>3</td></tr><tr><td>Teaching</td><td>Not disclosed</td><td>51</td></tr><tr><td>Engineering and Construction</td><td>Medium</td><td>1</td></tr><tr><td>Healthcare</td><td>Not disclosed</td><td>7</td></tr><tr><td>Hospitality</td><td>Medium</td><td>7</td></tr><tr><td>Hospitality</td><td>Not disclosed</td><td>13</td></tr><tr><td>Other</td><td>Negotiable</td><td>13</td></tr><tr><td>Engineering and Construction</td><td>High</td><td>1</td></tr><tr><td>Legal</td><td>Not disclosed</td><td>3</td></tr><tr><td>Legal</td><td>Medium</td><td>1</td></tr><tr><td>Engineering and Construction</td><td>Not disclosed</td><td>12</td></tr><tr><td>Administrative & Support</td><td>Low</td><td>2</td></tr><tr><td>Administrative & Support</td><td>Medium</td><td>6</td></tr><tr><td>IT</td><td>Not disclosed</td><td>28</td></tr><tr><td>Teaching</td><td>Medium</td><td>12</td></tr><tr><td>Hospitality</td><td>Negotiable</td><td>9</td></tr><tr><td>Engineering and Construction</td><td>Negotiable</td><td>5</td></tr><tr><td>Management</td><td>High</td><td>12</td></tr><tr><td>Healthcare</td><td>High</td><td>2</td></tr><tr><td>Healthcare</td><td>Negotiable</td><td>4</td></tr><tr><td>Sales and Marketing</td><td>Very High</td><td>3</td></tr><tr><td>Administrative & Support</td><td>Not disclosed</td><td>16</td></tr><tr><td>IT</td><td>Negotiable</td><td>9</td></tr><tr><td>Management</td><td>Not disclosed</td><td>56</td></tr><tr><td>Other</td><td>Low</td><td>1</td></tr><tr><td>IT</td><td>Very High</td><td>2</td></tr><tr><td>Creative & Design</td><td>Medium</td><td>11</td></tr><tr><td>Other</td><td>Medium</td><td>1</td></tr><tr><td>Teaching</td><td>High</td><td>12</td></tr><tr><td>Teaching</td><td>Negotiable</td><td>8</td></tr><tr><td>Creative & Design</td><td>High</td><td>3</td></tr><tr><td>Legal</td><td>High</td><td>3</td></tr><tr><td>Sales and Marketing</td><td>Medium</td><td>18</td></tr><tr><td>Management</td><td>Very High</td><td>5</td></tr><tr><td>IT</td><td>High</td><td>2</td></tr><tr><td>Administrative & Support</td><td>High</td><td>6</td></tr><tr><td>Healthcare</td><td>Very High</td><td>1</td></tr><tr><td>Sales and Marketing</td><td>Negotiable</td><td>26</td></tr><tr><td>Other</td><td>Not disclosed</td><td>3</td></tr><tr><td>Management</td><td>Low</td><td>1</td></tr><tr><td>Management</td><td>Negotiable</td><td>22</td></tr><tr><td>Management</td><td>Medium</td><td>25</td></tr><tr><td>Creative & Design</td><td>Low</td><td>2</td></tr><tr><td>Administrative & Support</td><td>Negotiable</td><td>11</td></tr><tr><td>Healthcare</td><td>Medium</td><td>4</td></tr><tr><td>Teaching</td><td>Very High</td><td>1</td></tr></tbody></table></div>"
      ]
     },
     "metadata": {
      "application/vnd.databricks.v1+output": {
       "addedWidgets": {},
       "aggData": [],
       "aggError": "",
       "aggOverflow": false,
       "aggSchema": [],
       "aggSeriesLimitReached": false,
       "aggType": "",
       "arguments": {},
       "columnCustomDisplayInfos": {},
       "data": [
        [
         "Creative & Design",
         "Not disclosed",
         15
        ],
        [
         "IT",
         "Low",
         2
        ],
        [
         "Sales and Marketing",
         "Not disclosed",
         33
        ],
        [
         "Sales and Marketing",
         "High",
         15
        ],
        [
         "Legal",
         "Negotiable",
         1
        ],
        [
         "Administrative & Support",
         "Very High",
         1
        ],
        [
         "Creative & Design",
         "Negotiable",
         17
        ],
        [
         "Sales and Marketing",
         "Low",
         3
        ],
        [
         "Teaching",
         "Not disclosed",
         51
        ],
        [
         "Engineering and Construction",
         "Medium",
         1
        ],
        [
         "Healthcare",
         "Not disclosed",
         7
        ],
        [
         "Hospitality",
         "Medium",
         7
        ],
        [
         "Hospitality",
         "Not disclosed",
         13
        ],
        [
         "Other",
         "Negotiable",
         13
        ],
        [
         "Engineering and Construction",
         "High",
         1
        ],
        [
         "Legal",
         "Not disclosed",
         3
        ],
        [
         "Legal",
         "Medium",
         1
        ],
        [
         "Engineering and Construction",
         "Not disclosed",
         12
        ],
        [
         "Administrative & Support",
         "Low",
         2
        ],
        [
         "Administrative & Support",
         "Medium",
         6
        ],
        [
         "IT",
         "Not disclosed",
         28
        ],
        [
         "Teaching",
         "Medium",
         12
        ],
        [
         "Hospitality",
         "Negotiable",
         9
        ],
        [
         "Engineering and Construction",
         "Negotiable",
         5
        ],
        [
         "Management",
         "High",
         12
        ],
        [
         "Healthcare",
         "High",
         2
        ],
        [
         "Healthcare",
         "Negotiable",
         4
        ],
        [
         "Sales and Marketing",
         "Very High",
         3
        ],
        [
         "Administrative & Support",
         "Not disclosed",
         16
        ],
        [
         "IT",
         "Negotiable",
         9
        ],
        [
         "Management",
         "Not disclosed",
         56
        ],
        [
         "Other",
         "Low",
         1
        ],
        [
         "IT",
         "Very High",
         2
        ],
        [
         "Creative & Design",
         "Medium",
         11
        ],
        [
         "Other",
         "Medium",
         1
        ],
        [
         "Teaching",
         "High",
         12
        ],
        [
         "Teaching",
         "Negotiable",
         8
        ],
        [
         "Creative & Design",
         "High",
         3
        ],
        [
         "Legal",
         "High",
         3
        ],
        [
         "Sales and Marketing",
         "Medium",
         18
        ],
        [
         "Management",
         "Very High",
         5
        ],
        [
         "IT",
         "High",
         2
        ],
        [
         "Administrative & Support",
         "High",
         6
        ],
        [
         "Healthcare",
         "Very High",
         1
        ],
        [
         "Sales and Marketing",
         "Negotiable",
         26
        ],
        [
         "Other",
         "Not disclosed",
         3
        ],
        [
         "Management",
         "Low",
         1
        ],
        [
         "Management",
         "Negotiable",
         22
        ],
        [
         "Management",
         "Medium",
         25
        ],
        [
         "Creative & Design",
         "Low",
         2
        ],
        [
         "Administrative & Support",
         "Negotiable",
         11
        ],
        [
         "Healthcare",
         "Medium",
         4
        ],
        [
         "Teaching",
         "Very High",
         1
        ]
       ],
       "datasetInfos": [],
       "dbfsResultPath": null,
       "isJsonSchema": true,
       "metadata": {},
       "overflow": false,
       "plotOptions": {
        "customPlotOptions": {},
        "displayType": "table",
        "pivotAggregation": null,
        "pivotColumns": null,
        "xColumns": null,
        "yColumns": null
       },
       "removedWidgets": [],
       "schema": [
        {
         "metadata": "{}",
         "name": "Job Category",
         "type": "\"string\""
        },
        {
         "metadata": "{}",
         "name": "salary_category",
         "type": "\"string\""
        },
        {
         "metadata": "{}",
         "name": "count",
         "type": "\"long\""
        }
       ],
       "type": "table"
      }
     },
     "output_type": "display_data"
    }
   ],
   "source": [
    "display(job_listenings_df.groupBy('Job Category','salary_category').count())"
   ]
  },
  {
   "cell_type": "code",
   "execution_count": 0,
   "metadata": {
    "application/vnd.databricks.v1+cell": {
     "cellMetadata": {
      "byteLimit": 2048000,
      "rowLimit": 10000
     },
     "inputWidgets": {},
     "nuid": "a0597a6d-6f95-41f4-9886-5c4b3ee4e5e4",
     "showTitle": false,
     "tableResultSettingsMap": {},
     "title": ""
    }
   },
   "outputs": [
    {
     "output_type": "display_data",
     "data": {
      "image/png": "[encoded data removed]"
     },
     "metadata": {
      "application/vnd.databricks.v1+output": {
       "addedWidgets": {},
       "arguments": {},
       "data": "data:image/png;base64,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\n",
       "datasetInfos": [],
       "metadata": {},
       "removedWidgets": [],
       "type": "image"
      }
     },
     "output_type": "display_data"
    }
   ],
   "source": [
    "vis_salary_jobCategory = job_listenings_df.groupBy('salary_category', 'Job Category').count()\n",
    "\n",
    "# Convert to Pandas DataFrame\n",
    "vis_salary_jobCategory_pd = vis_salary_jobCategory.toPandas()\n",
    "\n",
    "plt.figure(figsize=(16, 8))\n",
    "sns.barplot(data=vis_salary_jobCategory_pd, x='Job Category', y='count', hue='salary_category')\n",
    "plt.title('Salary Distribution by Job Category')\n",
    "plt.xlabel('Job Category')\n",
    "plt.ylabel('Number of Jobs') \n",
    "plt.xticks(rotation=60)\n",
    "plt.tight_layout()\n",
    "plt.show()\n"
   ]
  },
  {
   "cell_type": "code",
   "execution_count": 0,
   "metadata": {
    "application/vnd.databricks.v1+cell": {
     "cellMetadata": {
      "byteLimit": 2048000,
      "rowLimit": 10000
     },
     "inputWidgets": {},
     "nuid": "f88447d2-cf2e-41e4-94b9-55bdccd992aa",
     "showTitle": false,
     "tableResultSettingsMap": {},
     "title": ""
    }
   },
   "outputs": [],
   "source": []
  }
 ],
 "metadata": {
  "application/vnd.databricks.v1+notebook": {
   "computePreferences": null,
   "dashboards": [],
   "environmentMetadata": {
    "base_environment": "",
    "environment_version": "1"
   },
   "inputWidgetPreferences": null,
   "language": "python",
   "notebookMetadata": {
    "mostRecentlyExecutedCommandWithImplicitDF": {
     "commandId": 2024005096238275,
     "dataframes": [
      "_sqldf"
     ]
    },
    "pythonIndentUnit": 4
   },
   "notebookName": "JobScraped_Project",
   "widgets": {}
  }
 },
 "nbformat": 4,
 "nbformat_minor": 0
}